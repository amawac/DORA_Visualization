{
 "cells": [
  {
   "cell_type": "markdown",
   "id": "e3627ba8",
   "metadata": {},
   "source": [
    "# RUN THE BOTTOM CHUNK OF CODE AS SOON AS YOU OPEN THIS "
   ]
  },
  {
   "cell_type": "markdown",
   "id": "6f9e3f71",
   "metadata": {},
   "source": [
    "Scroll to the bottom and run the two large cells that say HEY RUN THIS and HEY RUN THIS 2!!!\n",
    "\n",
    "Sorry this is painful it has to do with the fact that juypter notebooks can't call things like plotting in line (matplotlib) or generating windows(cv2) from a .py  they need to be defined in the notebook as as far as I know. \n"
   ]
  },
  {
   "cell_type": "markdown",
   "id": "150688fe",
   "metadata": {},
   "source": [
    "## common troubleshooting solutions:\n",
    "\n",
    "1. make sure your file paths use these slashes / and end with a / \n",
    "2. make sure you run the two blocks of code at the bottom\n",
    "3. are you in the righ file paths?\n",
    "4. is your info file the same name as your tif file?\n",
    "\n",
    "### NOTE: This is a 'cleaned' copy of the OMM_Analysis from the lab's github I made from running data from ONI using TIFF files. If you have something  else, this is not for you.   \n",
    "  \n",
    "    "
   ]
  },
  {
   "cell_type": "code",
   "execution_count": 3,
   "id": "f6e02234",
   "metadata": {
    "scrolled": false
   },
   "outputs": [],
   "source": [
    "import sys\n",
    "\n",
    "sys.path.append('D:/Amanda/OMM_Analysis/OMM_Analysis/sma/') #if you are not amanda, change to your sma file path (found in zipfile downloaded from github)\n",
    "\n",
    "from ffpdax import ffp_dax\n",
    "from ffptif import ffp_tif\n",
    "\n",
    "analysisPath='D:/Amanda/OMM_Analysis/OMM_Analysis/DATA/20220331_Proflavine_Base2DORBIT_exp8/IB_10hz_10laser_10uM_on/pos_0/' \n",
    "\n",
    "xmlName='ORBIT_Analysis_Settings'\n",
    "\n",
    "analysisName='Proflavine_Base2DORBIT_exp8_IB_10hz_10laser_10uM_on_posXY0_channels_t0_posZ0'\n",
    "\n",
    "xmlFilename=analysisPath+xmlName\n",
    "filename=analysisPath+analysisName\n",
    "ffp_tif(filename,xmlFilename)"
   ]
  },
  {
   "cell_type": "code",
   "execution_count": 6,
   "id": "77b7760b",
   "metadata": {},
   "outputs": [],
   "source": [
    "import os\n",
    "newpath = filename+'trcsv'\n",
    "if not os.path.exists(newpath):\n",
    "    os.makedirs(newpath)    #makes a new folder in with same name as filename but ending in trcsv\n",
    "    \n",
    "from tr2csv import tr_2csv\n",
    "tr_2csv(filename)           #Generates CSV file from .tr files      "
   ]
  },
  {
   "cell_type": "markdown",
   "id": "4be8d4a4",
   "metadata": {},
   "source": [
    "## 2D histogram stuff\n",
    "\n"
   ]
  },
  {
   "cell_type": "code",
   "execution_count": 4,
   "id": "5fb6b420",
   "metadata": {
    "scrolled": true
   },
   "outputs": [
    {
     "name": "stdout",
     "output_type": "stream",
     "text": [
      "Number of peaks\n",
      "42\n"
     ]
    },
    {
     "data": {
      "text/plain": [
       "42"
      ]
     },
     "execution_count": 4,
     "metadata": {},
     "output_type": "execute_result"
    }
   ],
   "source": [
    "import numpy as np\n",
    "\n",
    "histInfoName=filename+'trdir/histpar' # opens the infromation file\n",
    "histInfoFile = open(histInfoName+'.info','rb')\n",
    "histInfo=np.fromfile(histInfoFile,dtype='int32')\n",
    "histInfoFile.close()\n",
    "print(\"Number of peaks\")\n",
    "print(histInfo[3])\n",
    "histInfo[3]"
   ]
  },
  {
   "cell_type": "code",
   "execution_count": 5,
   "id": "bc6b5fb5",
   "metadata": {},
   "outputs": [
    {
     "name": "stdout",
     "output_type": "stream",
     "text": [
      "57.0\n"
     ]
    }
   ],
   "source": [
    "print(16416/16/18) # i think this is just to make sure it runs, im scared to remove it lol\n",
    "\n",
    "#display settings for tracjectories\n",
    "histPerCol=7\n",
    "histPerRow=6"
   ]
  },
  {
   "cell_type": "code",
   "execution_count": 6,
   "id": "b4a3f5b3",
   "metadata": {
    "scrolled": true
   },
   "outputs": [
    {
     "name": "stdout",
     "output_type": "stream",
     "text": [
      "[  30    0 1000]\n",
      "[  30    0 1000]\n",
      "[  31    0 1000]\n",
      "[  31    0 1000]\n",
      "[  32    0 1000]\n",
      "[  32    0 1000]\n",
      "[  33    0 1000]\n",
      "[  33    0 1000]\n",
      "[  34    0 1000]\n",
      "[  34    0 1000]\n",
      "[  21    0 1000]\n",
      "[  21    0 1000]\n",
      "pk, t1 ,t2\n",
      "[[  30    0 1000]\n",
      " [  30    0 1000]\n",
      " [  31    0 1000]\n",
      " [  31    0 1000]\n",
      " [  32    0 1000]\n",
      " [  32    0 1000]\n",
      " [  33    0 1000]\n",
      " [  33    0 1000]\n",
      " [  34    0 1000]\n",
      " [  34    0 1000]\n",
      " [  21    0 1000]\n",
      " [  21    0 1000]]\n"
     ]
    }
   ],
   "source": [
    "#when you run this, you should get a pop up window. check your windows bar at the bottom of the deskstop  \n",
    "import numpy as np\n",
    "from PIL import Image\n",
    "import argparse\n",
    "import cv2\n",
    "\n",
    "\n",
    "[refptnp,refsc,refcol,sum_of_rows, out]=disp_hist(filename,histPerCol,histPerRow) #change for dax\n",
    "print('pk, t1 ,t2')\n",
    "print(out)\n"
   ]
  },
  {
   "cell_type": "code",
   "execution_count": 53,
   "id": "8a388159",
   "metadata": {},
   "outputs": [],
   "source": [
    "#Remeber python indexs from 0 so if you want your first selection to be the peak you analyze pick 0\n",
    "#also the peaks go in paired sets, the first two selections will be \"peak 0\"\n",
    "\n",
    "chosenpk=1"
   ]
  },
  {
   "cell_type": "code",
   "execution_count": 54,
   "id": "e8bc7d91",
   "metadata": {},
   "outputs": [
    {
     "name": "stdout",
     "output_type": "stream",
     "text": [
      "Peak: 00031\n",
      "Start: 0\n",
      "End: 1000\n"
     ]
    }
   ],
   "source": [
    "pk=str(out[chosenpk*2,0]).zfill(5)\n",
    "frStart=out[chosenpk*2,1]\n",
    "frEnd=out[((chosenpk*2)+1),2] \n",
    "print(\"Peak: \"+pk)\n",
    "print(\"Start: \"+str(frStart))\n",
    "print(\"End: \"+str(frEnd))"
   ]
  },
  {
   "cell_type": "code",
   "execution_count": 23,
   "id": "e2fa39da",
   "metadata": {},
   "outputs": [],
   "source": [
    "#manual - dont run this if u just chose a peak in the cell above this\n",
    "pk=str('00038')\n",
    "frStart=0\n",
    "frEnd=999"
   ]
  },
  {
   "cell_type": "code",
   "execution_count": 55,
   "id": "219c5bea",
   "metadata": {},
   "outputs": [
    {
     "name": "stdout",
     "output_type": "stream",
     "text": [
      "D:/Amanda/OMM_Analysis/OMM_Analysis/DATA/20220331_Proflavine_Base2DORBIT_exp8/IB_10hz_10laser_10uM_on/pos_0/Proflavine_Base2DORBIT_exp8_IB_10hz_10laser_10uM_on_posXY0_channels_t0_posZ0trcsv/00031.csv\n"
     ]
    }
   ],
   "source": [
    "\n",
    "title='DORA Exp 8 - 10uM on - Peak ' +pk\n",
    "\n",
    "csvpath=filename+'trcsv/'\n",
    "\n",
    "\n",
    "csvnum=csvpath+pk+'.csv'\n",
    "\n",
    "print(csvnum)"
   ]
  },
  {
   "cell_type": "markdown",
   "id": "514e28d6",
   "metadata": {},
   "source": [
    "## Graphing Paramaters below\n",
    "#if anyone knows how to code this so allow us to save stuff in the folder that'd be super cool\n",
    "    "
   ]
  },
  {
   "cell_type": "code",
   "execution_count": 66,
   "id": "223c6a98",
   "metadata": {
    "scrolled": false
   },
   "outputs": [
    {
     "name": "stdout",
     "output_type": "stream",
     "text": [
      "filename: D:/Amanda/OMM_Analysis/OMM_Analysis/DATA/20220331_Proflavine_Base2DORBIT_exp8/IB_10hz_10laser_10uM_on/pos_0/Proflavine_Base2DORBIT_exp8_IB_10hz_10laser_10uM_on_posXY0_channels_t0_posZ0trcsv/00031.csv    |  pixel_size: 117  |  time_step: 100\n",
      "frame_start: 0  |    frame_end: 250  |  bin_size: 3\n",
      "processing: none  |  plot_type: 2D  |  title: DORA Exp 8 - 10uM on - Peak 00031\n",
      "X_axis_label: x (nm)  |  Y_axis_label: y (nm)  |  Z_axis_label: Time (ms)\n"
     ]
    },
    {
     "ename": "UnboundLocalError",
     "evalue": "local variable 'p' referenced before assignment",
     "output_type": "error",
     "traceback": [
      "\u001b[1;31m---------------------------------------------------------------------------\u001b[0m",
      "\u001b[1;31mUnboundLocalError\u001b[0m                         Traceback (most recent call last)",
      "\u001b[1;32m~\\AppData\\Local\\Temp\\ipykernel_42072\\1806043233.py\u001b[0m in \u001b[0;36m<module>\u001b[1;34m\u001b[0m\n\u001b[0;32m     29\u001b[0m 'save_plot': 'no'}\n\u001b[0;32m     30\u001b[0m \u001b[1;33m\u001b[0m\u001b[0m\n\u001b[1;32m---> 31\u001b[1;33m \u001b[0mDORA\u001b[0m\u001b[1;33m(\u001b[0m\u001b[1;33m**\u001b[0m\u001b[0mparameters\u001b[0m\u001b[1;33m)\u001b[0m\u001b[1;33m\u001b[0m\u001b[1;33m\u001b[0m\u001b[0m\n\u001b[0m",
      "\u001b[1;32m~\\AppData\\Local\\Temp\\ipykernel_42072\\481416439.py\u001b[0m in \u001b[0;36mDORA\u001b[1;34m(file_name, pixel_size, time_step, frame_start, frame_end, find_center_coordinates, bin_size, processing, plot_type, title, x_axis_label, y_axis_label, z_axis_label, unit, frames_per_plot, columns, pixel_min, pixel_max, nm_min, nm_max, axis_increment_pixel, axis_increment_nm, fig_size_x, fig_size_y, frame_speed, tail_length, save_plot)\u001b[0m\n\u001b[0;32m    163\u001b[0m             \u001b[1;31m#Colorbar parameters below if we want one in the future\u001b[0m\u001b[1;33m\u001b[0m\u001b[1;33m\u001b[0m\u001b[0m\n\u001b[0;32m    164\u001b[0m \u001b[1;33m\u001b[0m\u001b[0m\n\u001b[1;32m--> 165\u001b[1;33m             \u001b[0mcbar\u001b[0m \u001b[1;33m=\u001b[0m \u001b[0mplt\u001b[0m\u001b[1;33m.\u001b[0m\u001b[0mcolorbar\u001b[0m\u001b[1;33m(\u001b[0m\u001b[0mp\u001b[0m\u001b[1;33m,\u001b[0m \u001b[0mlabel\u001b[0m\u001b[1;33m=\u001b[0m \u001b[1;34m'time'\u001b[0m \u001b[1;33m,\u001b[0m\u001b[0mshrink\u001b[0m\u001b[1;33m=\u001b[0m \u001b[1;36m.82\u001b[0m\u001b[1;33m)\u001b[0m \u001b[1;31m#\u001b[0m\u001b[1;33m\u001b[0m\u001b[1;33m\u001b[0m\u001b[0m\n\u001b[0m\u001b[0;32m    166\u001b[0m \u001b[1;33m\u001b[0m\u001b[0m\n\u001b[0;32m    167\u001b[0m             \u001b[1;31m#setting the ticks on the colorbar to span the length of the time column with 6 increments\u001b[0m\u001b[1;33m\u001b[0m\u001b[1;33m\u001b[0m\u001b[0m\n",
      "\u001b[1;31mUnboundLocalError\u001b[0m: local variable 'p' referenced before assignment"
     ]
    },
    {
     "data": {
      "image/png": "[encoded data removed]",
      "text/plain": [
       "<Figure size 600x600 with 1 Axes>"
      ]
     },
     "metadata": {
      "needs_background": "light"
     },
     "output_type": "display_data"
    }
   ],
   "source": [
    "#### you might need to change the time step: 10hz= 100 ms, 100hz = 10ms\n",
    "parameters = {\n",
    "'file_name': csvnum, #100521_analysis 103018_analysis\n",
    "'pixel_size': 117, # in nanometers\n",
    "'time_step': 100, # in miliseconds\n",
    "'frame_start':frStart, # enter 0 to start from beginning of dataset\n",
    "'frame_end': 250, #frEnd, # enter -1 to end at the last value of the data set\n",
    "'find_center_coordinates': 'yes', # 'yes' for first run, 'no' after center has been determined\n",
    "'bin_size': 3, # bin size for downsample/filter processing\n",
    "'processing': \"none\", # enter downsample, filter, or none\n",
    "'plot_type': \"2D\", # enter 2D, 3D, grid, angular, angular_continuous, interactive or animated \n",
    "'title': title,\n",
    "'x_axis_label': \"x (nm)\",\n",
    "'y_axis_label': \"y (nm)\",\n",
    "'z_axis_label': \"Time (ms)\",\n",
    "'unit': \"nm\",  # enter pixel or nm \n",
    "'frames_per_plot': 25, #refers to grid plot\n",
    "'columns': 7,# columns of plots (grid plot)\n",
    "'frame_speed': 10, # for animation only\n",
    "'tail_length': 10, # for animation only\n",
    "'pixel_min': -0.75,\n",
    "'pixel_max': 0.75,\n",
    "'axis_increment_pixel': 7, #change axis increments for nicely fitting tick marks (pixel)\n",
    "'nm_min': -150,\n",
    "'nm_max': 150,\n",
    "'axis_increment_nm': 7, #change axis increments for nicely fitting tick marks (nm)\n",
    "'fig_size_x':40, #adjust display parameters for graphs to fit nicely, mostly used for multi_plot \n",
    "'fig_size_y': 40,\n",
    "'save_plot': 'no'}\n",
    "\n",
    "DORA(**parameters)"
   ]
  },
  {
   "cell_type": "code",
   "execution_count": 61,
   "id": "089fdd81",
   "metadata": {},
   "outputs": [
    {
     "name": "stdout",
     "output_type": "stream",
     "text": [
      "filename: D:/Amanda/OMM_Analysis/OMM_Analysis/DATA/20220331_Proflavine_Base2DORBIT_exp8/IB_10hz_10laser_10uM_on/pos_0/Proflavine_Base2DORBIT_exp8_IB_10hz_10laser_10uM_on_posXY0_channels_t0_posZ0trcsv/00031.csv    |  pixel_size: 117  |  time_step: 100\n",
      "frame_start: 0  |    frame_end: 250  |  bin_size: 3\n",
      "processing: none  |  plot_type: angular_continuous  |  title: DORA Exp 8 - 10uM on - Peak 00031\n",
      "X_axis_label: x (nm)  |  Y_axis_label: y (nm)  |  Z_axis_label: Time (ms)\n"
     ]
    },
    {
     "data": {
      "application/vnd.plotly.v1+json": {
       "config": {
        "plotlyServerURL": "https://plot.ly"
       },
       "data": [
        {
         "hovertemplate": "Time (ms): %{x} <br>Theta: %{y}",
         "legendgroup": "",
         "line": {
          "color": "#636efa",
          "dash": "solid"
         },
         "marker": {
          "symbol": "circle"
         },
         "mode": "lines",
         "name": "",
         "orientation": "v",
         "showlegend": false,
         "type": "scatter",
         "x": [
          0,
          100,
          200,
          300,
          400,
          500,
          600,
          700,
          800,
          900,
          1000,
          1100,
          1200,
          1300,
          1400,
          1500,
          1600,
          1700,
          1800,
          1900,
          2000,
          2100,
          2200,
          2300,
          2400,
          2500,
          2600,
          2700,
          2800,
          2900,
          3000,
          3100,
          3200,
          3300,
          3400,
          3500,
          3600,
          3700,
          3800,
          3900,
          4000,
          4100,
          4200,
          4300,
          4400,
          4500,
          4600,
          4700,
          4800,
          4900,
          5000,
          5100,
          5200,
          5300,
          5400,
          5500,
          5600,
          5700,
          5800,
          5900,
          6000,
          6100,
          6200,
          6300,
          6400,
          6500,
          6600,
          6700,
          6800,
          6900,
          7000,
          7100,
          7200,
          7300,
          7400,
          7500,
          7600,
          7700,
          7800,
          7900,
          8000,
          8100,
          8200,
          8300,
          8400,
          8500,
          8600,
          8700,
          8800,
          8900,
          9000,
          9100,
          9200,
          9300,
          9400,
          9500,
          9600,
          9700,
          9800,
          9900,
          10000,
          10100,
          10200,
          10300,
          10400,
          10500,
          10600,
          10700,
          10800,
          10900,
          11000,
          11100,
          11200,
          11300,
          11400,
          11500,
          11600,
          11700,
          11800,
          11900,
          12000,
          12100,
          12200,
          12300,
          12400,
          12500,
          12600,
          12700,
          12800,
          12900,
          13000,
          13100,
          13200,
          13300,
          13400,
          13500,
          13600,
          13700,
          13800,
          13900,
          14000,
          14100,
          14200,
          14300,
          14400,
          14500,
          14600,
          14700,
          14800,
          14900,
          15000,
          15100,
          15200,
          15300,
          15400,
          15500,
          15600,
          15700,
          15800,
          15900,
          16000,
          16100,
          16200,
          16300,
          16400,
          16500,
          16600,
          16700,
          16800,
          16900,
          17000,
          17100,
          17200,
          17300,
          17400,
          17500,
          17600,
          17700,
          17800,
          17900,
          18000,
          18100,
          18200,
          18300,
          18400,
          18500,
          18600,
          18700,
          18800,
          18900,
          19000,
          19100,
          19200,
          19300,
          19400,
          19500,
          19600,
          19700,
          19800,
          19900,
          20000,
          20100,
          20200,
          20300,
          20400,
          20500,
          20600,
          20700,
          20800,
          20900,
          21000,
          21100,
          21200,
          21300,
          21400,
          21500,
          21600,
          21700,
          21800,
          21900,
          22000,
          22100,
          22200,
          22300,
          22400,
          22500,
          22600,
          22700,
          22800,
          22900,
          23000,
          23100,
          23200,
          23300,
          23400,
          23500,
          23600,
          23700,
          23800,
          23900,
          24000,
          24100,
          24200,
          24300,
          24400,
          24500,
          24600,
          24700,
          24900,
          25000
         ],
         "xaxis": "x",
         "y": [
          108.68530618704962,
          128.20466581116108,
          121.52022581157651,
          114.07989435618843,
          109.82262857137287,
          107.12936027364121,
          81.99118018363795,
          81.00595626154015,
          107.4881480811189,
          84.65630580956729,
          83.94546326145662,
          79.75328988374184,
          110.51196149715958,
          103.25077901825136,
          102.4961960769229,
          89.39076171470148,
          109.82976123689177,
          126.14438323511968,
          114.62821890576373,
          124.23199334272779,
          99.30546262475279,
          120.58299966908123,
          117.24481719312992,
          126.69766675596769,
          127.03738468156928,
          115.78308305658362,
          91.69055120599577,
          101.92560284045877,
          93.04611822942644,
          91.0780660321737,
          92.3670892082054,
          83.81822091369796,
          97.06283712974412,
          107.43866456513554,
          115.98026270717502,
          97.38822267906143,
          91.47690795238799,
          121.89415279189774,
          123.20334822114063,
          122.83726620903501,
          120.18669656927882,
          106.55974349386331,
          110.5614372577457,
          93.49524752800991,
          111.51844197680508,
          99.65415386013832,
          95.93383920450621,
          83.43160770754307,
          74.9650387156821,
          124.65303908734712,
          83.02621831972829,
          79.98855643470871,
          84.40075265277027,
          90.81712366970888,
          89.2784474732076,
          85.94214920720822,
          90.64469054232599,
          93.06154207255793,
          86.32525971176881,
          85.13616481756024,
          80.12223505296879,
          92.30263985350332,
          79.99494924936977,
          79.35992681957157,
          79.14094258364145,
          81.40582403434158,
          93.0964254653691,
          97.37441199729695,
          118.48960808906767,
          98.37061817138981,
          119.33358605401546,
          101.7841968814993,
          89.39968754735182,
          81.55775228253286,
          81.561260250111,
          132.64940689929495,
          136.3754061953477,
          134.56438968073684,
          140.76512184485227,
          139.92948574612362,
          143.23793213580146,
          141.707344513758,
          140.04914430995458,
          140.99151195089075,
          141.9060202103641,
          141.06498958552484,
          139.33640194928907,
          141.5096143086938,
          144.07510702528205,
          144.29542325222744,
          147.0487263638169,
          145.9772763216178,
          144.1065166749085,
          144.33381295949818,
          145.57394238851117,
          143.73353017677874,
          142.41318959550946,
          141.0553604070578,
          143.83447290527687,
          143.65310262343246,
          143.71916928874754,
          148.06978437110644,
          143.56982553461341,
          147.16902563845736,
          146.29671478198497,
          146.02173455839278,
          148.78866701431514,
          147.48900903246033,
          148.86995735735468,
          150.76069746093813,
          146.3037876861088,
          148.1261816423216,
          147.2505101320347,
          147.9830834160677,
          147.89100114083635,
          150.1795318390599,
          148.8103404625252,
          147.182794289476,
          151.32360109639637,
          149.57039850984216,
          147.33343993074453,
          146.34721555648554,
          147.76342721595438,
          151.98950645018314,
          152.01338265107674,
          149.46981863943762,
          150.86568312048763,
          149.60134199530282,
          150.22576441548065,
          150.7918404916535,
          151.65980629051785,
          154.10845803196668,
          150.10579895556722,
          150.47565792695332,
          147.92362994701767,
          150.1446544384407,
          149.1791569736825,
          153.11971620744166,
          151.48660302881635,
          151.55042260179562,
          149.98134372892594,
          148.5703710430721,
          150.78214792293917,
          149.57441426387803,
          150.47268729957497,
          148.64768644660128,
          150.42215160079547,
          151.78780590047901,
          146.27404040600487,
          153.36416689878956,
          153.0808893478663,
          151.22357077145185,
          152.1662720789983,
          150.75853178063804,
          151.98118636357813,
          152.80114731073368,
          150.9673939543038,
          149.50751692236648,
          149.2408661797592,
          154.5091325872573,
          155.38564672563297,
          153.80722535671174,
          154.23175385662867,
          151.65252657547416,
          151.45404938787024,
          150.4081475738955,
          152.45978817024294,
          152.63927400246692,
          151.65525421424846,
          150.6572347094641,
          150.58089893484475,
          151.52443843235784,
          151.57274978812563,
          148.60563345074038,
          151.2802697072184,
          153.4907410824734,
          153.8221439890986,
          154.23659617245886,
          152.5402424149816,
          158.86177096000807,
          154.15414295760996,
          156.18805202411704,
          150.57435064624391,
          153.28975291966077,
          158.55400008175158,
          153.41605104778284,
          155.22218023684226,
          153.04885611642956,
          154.8757336245593,
          152.3087133142353,
          152.18775792553546,
          149.79442896314438,
          149.96132175854558,
          148.17998791457785,
          149.08890353296553,
          155.79296417921086,
          155.1436270934405,
          153.11214207983332,
          155.65412831317877,
          152.93032097715397,
          152.02078626362132,
          154.10728744361455,
          157.0554969063364,
          155.1459897148895,
          156.78736659610357,
          159.57788905202065,
          157.64287056928137,
          162.40999306842716,
          158.91912856035876,
          163.62655424927104,
          162.87674540983303,
          157.2928293495648,
          159.22104322194622,
          156.98091968022763,
          161.04000423765402,
          163.40751127429428,
          155.8121843852182,
          153.27914080942875,
          152.4756377656407,
          155.15611160086794,
          159.8951534323682,
          152.37380178884484,
          150.07385958762944,
          157.19759478294586,
          155.76510125538016,
          151.92389643531789,
          153.59173973662968,
          150.60659588826104,
          150.580564037407,
          152.9818929689339,
          151.7828524912009,
          151.3389765820073,
          154.33430041165713,
          152.60708028363715,
          157.67059704903852,
          152.49467122125768,
          153.7919402357687,
          154.9257329751053,
          154.35379787754994,
          154.22654707406562,
          157.35615905145545,
          154.42569038397852,
          151.00956632540365,
          159.7222215608532,
          159.51296463283524,
          154.35828869802052,
          153.9718669090818,
          124.14290348164042,
          147.63192996839396,
          157.8129761214011
         ],
         "yaxis": "y"
        }
       ],
       "layout": {
        "legend": {
         "tracegroupgap": 0
        },
        "template": {
         "data": {
          "bar": [
           {
            "error_x": {
             "color": "#2a3f5f"
            },
            "error_y": {
             "color": "#2a3f5f"
            },
            "marker": {
             "line": {
              "color": "#E5ECF6",
              "width": 0.5
             },
             "pattern": {
              "fillmode": "overlay",
              "size": 10,
              "solidity": 0.2
             }
            },
            "type": "bar"
           }
          ],
          "barpolar": [
           {
            "marker": {
             "line": {
              "color": "#E5ECF6",
              "width": 0.5
             },
             "pattern": {
              "fillmode": "overlay",
              "size": 10,
              "solidity": 0.2
             }
            },
            "type": "barpolar"
           }
          ],
          "carpet": [
           {
            "aaxis": {
             "endlinecolor": "#2a3f5f",
             "gridcolor": "white",
             "linecolor": "white",
             "minorgridcolor": "white",
             "startlinecolor": "#2a3f5f"
            },
            "baxis": {
             "endlinecolor": "#2a3f5f",
             "gridcolor": "white",
             "linecolor": "white",
             "minorgridcolor": "white",
             "startlinecolor": "#2a3f5f"
            },
            "type": "carpet"
           }
          ],
          "choropleth": [
           {
            "colorbar": {
             "outlinewidth": 0,
             "ticks": ""
            },
            "type": "choropleth"
           }
          ],
          "contour": [
           {
            "colorbar": {
             "outlinewidth": 0,
             "ticks": ""
            },
            "colorscale": [
             [
              0,
              "#0d0887"
             ],
             [
              0.1111111111111111,
              "#46039f"
             ],
             [
              0.2222222222222222,
              "#7201a8"
             ],
             [
              0.3333333333333333,
              "#9c179e"
             ],
             [
              0.4444444444444444,
              "#bd3786"
             ],
             [
              0.5555555555555556,
              "#d8576b"
             ],
             [
              0.6666666666666666,
              "#ed7953"
             ],
             [
              0.7777777777777778,
              "#fb9f3a"
             ],
             [
              0.8888888888888888,
              "#fdca26"
             ],
             [
              1,
              "#f0f921"
             ]
            ],
            "type": "contour"
           }
          ],
          "contourcarpet": [
           {
            "colorbar": {
             "outlinewidth": 0,
             "ticks": ""
            },
            "type": "contourcarpet"
           }
          ],
          "heatmap": [
           {
            "colorbar": {
             "outlinewidth": 0,
             "ticks": ""
            },
            "colorscale": [
             [
              0,
              "#0d0887"
             ],
             [
              0.1111111111111111,
              "#46039f"
             ],
             [
              0.2222222222222222,
              "#7201a8"
             ],
             [
              0.3333333333333333,
              "#9c179e"
             ],
             [
              0.4444444444444444,
              "#bd3786"
             ],
             [
              0.5555555555555556,
              "#d8576b"
             ],
             [
              0.6666666666666666,
              "#ed7953"
             ],
             [
              0.7777777777777778,
              "#fb9f3a"
             ],
             [
              0.8888888888888888,
              "#fdca26"
             ],
             [
              1,
              "#f0f921"
             ]
            ],
            "type": "heatmap"
           }
          ],
          "heatmapgl": [
           {
            "colorbar": {
             "outlinewidth": 0,
             "ticks": ""
            },
            "colorscale": [
             [
              0,
              "#0d0887"
             ],
             [
              0.1111111111111111,
              "#46039f"
             ],
             [
              0.2222222222222222,
              "#7201a8"
             ],
             [
              0.3333333333333333,
              "#9c179e"
             ],
             [
              0.4444444444444444,
              "#bd3786"
             ],
             [
              0.5555555555555556,
              "#d8576b"
             ],
             [
              0.6666666666666666,
              "#ed7953"
             ],
             [
              0.7777777777777778,
              "#fb9f3a"
             ],
             [
              0.8888888888888888,
              "#fdca26"
             ],
             [
              1,
              "#f0f921"
             ]
            ],
            "type": "heatmapgl"
           }
          ],
          "histogram": [
           {
            "marker": {
             "pattern": {
              "fillmode": "overlay",
              "size": 10,
              "solidity": 0.2
             }
            },
            "type": "histogram"
           }
          ],
          "histogram2d": [
           {
            "colorbar": {
             "outlinewidth": 0,
             "ticks": ""
            },
            "colorscale": [
             [
              0,
              "#0d0887"
             ],
             [
              0.1111111111111111,
              "#46039f"
             ],
             [
              0.2222222222222222,
              "#7201a8"
             ],
             [
              0.3333333333333333,
              "#9c179e"
             ],
             [
              0.4444444444444444,
              "#bd3786"
             ],
             [
              0.5555555555555556,
              "#d8576b"
             ],
             [
              0.6666666666666666,
              "#ed7953"
             ],
             [
              0.7777777777777778,
              "#fb9f3a"
             ],
             [
              0.8888888888888888,
              "#fdca26"
             ],
             [
              1,
              "#f0f921"
             ]
            ],
            "type": "histogram2d"
           }
          ],
          "histogram2dcontour": [
           {
            "colorbar": {
             "outlinewidth": 0,
             "ticks": ""
            },
            "colorscale": [
             [
              0,
              "#0d0887"
             ],
             [
              0.1111111111111111,
              "#46039f"
             ],
             [
              0.2222222222222222,
              "#7201a8"
             ],
             [
              0.3333333333333333,
              "#9c179e"
             ],
             [
              0.4444444444444444,
              "#bd3786"
             ],
             [
              0.5555555555555556,
              "#d8576b"
             ],
             [
              0.6666666666666666,
              "#ed7953"
             ],
             [
              0.7777777777777778,
              "#fb9f3a"
             ],
             [
              0.8888888888888888,
              "#fdca26"
             ],
             [
              1,
              "#f0f921"
             ]
            ],
            "type": "histogram2dcontour"
           }
          ],
          "mesh3d": [
           {
            "colorbar": {
             "outlinewidth": 0,
             "ticks": ""
            },
            "type": "mesh3d"
           }
          ],
          "parcoords": [
           {
            "line": {
             "colorbar": {
              "outlinewidth": 0,
              "ticks": ""
             }
            },
            "type": "parcoords"
           }
          ],
          "pie": [
           {
            "automargin": true,
            "type": "pie"
           }
          ],
          "scatter": [
           {
            "marker": {
             "colorbar": {
              "outlinewidth": 0,
              "ticks": ""
             }
            },
            "type": "scatter"
           }
          ],
          "scatter3d": [
           {
            "line": {
             "colorbar": {
              "outlinewidth": 0,
              "ticks": ""
             }
            },
            "marker": {
             "colorbar": {
              "outlinewidth": 0,
              "ticks": ""
             }
            },
            "type": "scatter3d"
           }
          ],
          "scattercarpet": [
           {
            "marker": {
             "colorbar": {
              "outlinewidth": 0,
              "ticks": ""
             }
            },
            "type": "scattercarpet"
           }
          ],
          "scattergeo": [
           {
            "marker": {
             "colorbar": {
              "outlinewidth": 0,
              "ticks": ""
             }
            },
            "type": "scattergeo"
           }
          ],
          "scattergl": [
           {
            "marker": {
             "colorbar": {
              "outlinewidth": 0,
              "ticks": ""
             }
            },
            "type": "scattergl"
           }
          ],
          "scattermapbox": [
           {
            "marker": {
             "colorbar": {
              "outlinewidth": 0,
              "ticks": ""
             }
            },
            "type": "scattermapbox"
           }
          ],
          "scatterpolar": [
           {
            "marker": {
             "colorbar": {
              "outlinewidth": 0,
              "ticks": ""
             }
            },
            "type": "scatterpolar"
           }
          ],
          "scatterpolargl": [
           {
            "marker": {
             "colorbar": {
              "outlinewidth": 0,
              "ticks": ""
             }
            },
            "type": "scatterpolargl"
           }
          ],
          "scatterternary": [
           {
            "marker": {
             "colorbar": {
              "outlinewidth": 0,
              "ticks": ""
             }
            },
            "type": "scatterternary"
           }
          ],
          "surface": [
           {
            "colorbar": {
             "outlinewidth": 0,
             "ticks": ""
            },
            "colorscale": [
             [
              0,
              "#0d0887"
             ],
             [
              0.1111111111111111,
              "#46039f"
             ],
             [
              0.2222222222222222,
              "#7201a8"
             ],
             [
              0.3333333333333333,
              "#9c179e"
             ],
             [
              0.4444444444444444,
              "#bd3786"
             ],
             [
              0.5555555555555556,
              "#d8576b"
             ],
             [
              0.6666666666666666,
              "#ed7953"
             ],
             [
              0.7777777777777778,
              "#fb9f3a"
             ],
             [
              0.8888888888888888,
              "#fdca26"
             ],
             [
              1,
              "#f0f921"
             ]
            ],
            "type": "surface"
           }
          ],
          "table": [
           {
            "cells": {
             "fill": {
              "color": "#EBF0F8"
             },
             "line": {
              "color": "white"
             }
            },
            "header": {
             "fill": {
              "color": "#C8D4E3"
             },
             "line": {
              "color": "white"
             }
            },
            "type": "table"
           }
          ]
         },
         "layout": {
          "annotationdefaults": {
           "arrowcolor": "#2a3f5f",
           "arrowhead": 0,
           "arrowwidth": 1
          },
          "autotypenumbers": "strict",
          "coloraxis": {
           "colorbar": {
            "outlinewidth": 0,
            "ticks": ""
           }
          },
          "colorscale": {
           "diverging": [
            [
             0,
             "#8e0152"
            ],
            [
             0.1,
             "#c51b7d"
            ],
            [
             0.2,
             "#de77ae"
            ],
            [
             0.3,
             "#f1b6da"
            ],
            [
             0.4,
             "#fde0ef"
            ],
            [
             0.5,
             "#f7f7f7"
            ],
            [
             0.6,
             "#e6f5d0"
            ],
            [
             0.7,
             "#b8e186"
            ],
            [
             0.8,
             "#7fbc41"
            ],
            [
             0.9,
             "#4d9221"
            ],
            [
             1,
             "#276419"
            ]
           ],
           "sequential": [
            [
             0,
             "#0d0887"
            ],
            [
             0.1111111111111111,
             "#46039f"
            ],
            [
             0.2222222222222222,
             "#7201a8"
            ],
            [
             0.3333333333333333,
             "#9c179e"
            ],
            [
             0.4444444444444444,
             "#bd3786"
            ],
            [
             0.5555555555555556,
             "#d8576b"
            ],
            [
             0.6666666666666666,
             "#ed7953"
            ],
            [
             0.7777777777777778,
             "#fb9f3a"
            ],
            [
             0.8888888888888888,
             "#fdca26"
            ],
            [
             1,
             "#f0f921"
            ]
           ],
           "sequentialminus": [
            [
             0,
             "#0d0887"
            ],
            [
             0.1111111111111111,
             "#46039f"
            ],
            [
             0.2222222222222222,
             "#7201a8"
            ],
            [
             0.3333333333333333,
             "#9c179e"
            ],
            [
             0.4444444444444444,
             "#bd3786"
            ],
            [
             0.5555555555555556,
             "#d8576b"
            ],
            [
             0.6666666666666666,
             "#ed7953"
            ],
            [
             0.7777777777777778,
             "#fb9f3a"
            ],
            [
             0.8888888888888888,
             "#fdca26"
            ],
            [
             1,
             "#f0f921"
            ]
           ]
          },
          "colorway": [
           "#636efa",
           "#EF553B",
           "#00cc96",
           "#ab63fa",
           "#FFA15A",
           "#19d3f3",
           "#FF6692",
           "#B6E880",
           "#FF97FF",
           "#FECB52"
          ],
          "font": {
           "color": "#2a3f5f"
          },
          "geo": {
           "bgcolor": "white",
           "lakecolor": "white",
           "landcolor": "#E5ECF6",
           "showlakes": true,
           "showland": true,
           "subunitcolor": "white"
          },
          "hoverlabel": {
           "align": "left"
          },
          "hovermode": "closest",
          "mapbox": {
           "style": "light"
          },
          "paper_bgcolor": "white",
          "plot_bgcolor": "#E5ECF6",
          "polar": {
           "angularaxis": {
            "gridcolor": "white",
            "linecolor": "white",
            "ticks": ""
           },
           "bgcolor": "#E5ECF6",
           "radialaxis": {
            "gridcolor": "white",
            "linecolor": "white",
            "ticks": ""
           }
          },
          "scene": {
           "xaxis": {
            "backgroundcolor": "#E5ECF6",
            "gridcolor": "white",
            "gridwidth": 2,
            "linecolor": "white",
            "showbackground": true,
            "ticks": "",
            "zerolinecolor": "white"
           },
           "yaxis": {
            "backgroundcolor": "#E5ECF6",
            "gridcolor": "white",
            "gridwidth": 2,
            "linecolor": "white",
            "showbackground": true,
            "ticks": "",
            "zerolinecolor": "white"
           },
           "zaxis": {
            "backgroundcolor": "#E5ECF6",
            "gridcolor": "white",
            "gridwidth": 2,
            "linecolor": "white",
            "showbackground": true,
            "ticks": "",
            "zerolinecolor": "white"
           }
          },
          "shapedefaults": {
           "line": {
            "color": "#2a3f5f"
           }
          },
          "ternary": {
           "aaxis": {
            "gridcolor": "white",
            "linecolor": "white",
            "ticks": ""
           },
           "baxis": {
            "gridcolor": "white",
            "linecolor": "white",
            "ticks": ""
           },
           "bgcolor": "#E5ECF6",
           "caxis": {
            "gridcolor": "white",
            "linecolor": "white",
            "ticks": ""
           }
          },
          "title": {
           "x": 0.05
          },
          "xaxis": {
           "automargin": true,
           "gridcolor": "white",
           "linecolor": "white",
           "ticks": "",
           "title": {
            "standoff": 15
           },
           "zerolinecolor": "white",
           "zerolinewidth": 2
          },
          "yaxis": {
           "automargin": true,
           "gridcolor": "white",
           "linecolor": "white",
           "ticks": "",
           "title": {
            "standoff": 15
           },
           "zerolinecolor": "white",
           "zerolinewidth": 2
          }
         }
        },
        "title": {
         "text": "Continuous Angular Rotation"
        },
        "xaxis": {
         "anchor": "y",
         "domain": [
          0,
          1
         ],
         "dtick": 1000,
         "tick0": 0,
         "tickmode": "linear",
         "title": {
          "text": "Time (ms)"
         }
        },
        "yaxis": {
         "anchor": "x",
         "domain": [
          0,
          1
         ],
         "dtick": 180,
         "tick0": -360,
         "tickmode": "linear",
         "title": {
          "text": "Theta (degrees)"
         }
        }
       }
      },
      "text/html": [
       "<div>                            <div id=\"a178997b-4d6e-4ad3-8f3d-30acb5af67e4\" class=\"plotly-graph-div\" style=\"height:525px; width:100%;\"></div>            <script type=\"text/javascript\">                require([\"plotly\"], function(Plotly) {                    window.PLOTLYENV=window.PLOTLYENV || {};                                    if (document.getElementById(\"a178997b-4d6e-4ad3-8f3d-30acb5af67e4\")) {                    Plotly.newPlot(                        \"a178997b-4d6e-4ad3-8f3d-30acb5af67e4\",                        [{\"hovertemplate\":\"Time (ms): %{x} <br>Theta: %{y}\",\"legendgroup\":\"\",\"line\":{\"color\":\"#636efa\",\"dash\":\"solid\"},\"marker\":{\"symbol\":\"circle\"},\"mode\":\"lines\",\"name\":\"\",\"orientation\":\"v\",\"showlegend\":false,\"x\":[0,100,200,300,400,500,600,700,800,900,1000,1100,1200,1300,1400,1500,1600,1700,1800,1900,2000,2100,2200,2300,2400,2500,2600,2700,2800,2900,3000,3100,3200,3300,3400,3500,3600,3700,3800,3900,4000,4100,4200,4300,4400,4500,4600,4700,4800,4900,5000,5100,5200,5300,5400,5500,5600,5700,5800,5900,6000,6100,6200,6300,6400,6500,6600,6700,6800,6900,7000,7100,7200,7300,7400,7500,7600,7700,7800,7900,8000,8100,8200,8300,8400,8500,8600,8700,8800,8900,9000,9100,9200,9300,9400,9500,9600,9700,9800,9900,10000,10100,10200,10300,10400,10500,10600,10700,10800,10900,11000,11100,11200,11300,11400,11500,11600,11700,11800,11900,12000,12100,12200,12300,12400,12500,12600,12700,12800,12900,13000,13100,13200,13300,13400,13500,13600,13700,13800,13900,14000,14100,14200,14300,14400,14500,14600,14700,14800,14900,15000,15100,15200,15300,15400,15500,15600,15700,15800,15900,16000,16100,16200,16300,16400,16500,16600,16700,16800,16900,17000,17100,17200,17300,17400,17500,17600,17700,17800,17900,18000,18100,18200,18300,18400,18500,18600,18700,18800,18900,19000,19100,19200,19300,19400,19500,19600,19700,19800,19900,20000,20100,20200,20300,20400,20500,20600,20700,20800,20900,21000,21100,21200,21300,21400,21500,21600,21700,21800,21900,22000,22100,22200,22300,22400,22500,22600,22700,22800,22900,23000,23100,23200,23300,23400,23500,23600,23700,23800,23900,24000,24100,24200,24300,24400,24500,24600,24700,24900,25000],\"xaxis\":\"x\",\"y\":[108.68530618704962,128.20466581116108,121.52022581157651,114.07989435618843,109.82262857137287,107.12936027364121,81.99118018363795,81.00595626154015,107.4881480811189,84.65630580956729,83.94546326145662,79.75328988374184,110.51196149715958,103.25077901825136,102.4961960769229,89.39076171470148,109.82976123689177,126.14438323511968,114.62821890576373,124.23199334272779,99.30546262475279,120.58299966908123,117.24481719312992,126.69766675596769,127.03738468156928,115.78308305658362,91.69055120599577,101.92560284045877,93.04611822942644,91.0780660321737,92.3670892082054,83.81822091369796,97.06283712974412,107.43866456513554,115.98026270717502,97.38822267906143,91.47690795238799,121.89415279189774,123.20334822114063,122.83726620903501,120.18669656927882,106.55974349386331,110.5614372577457,93.49524752800991,111.51844197680508,99.65415386013832,95.93383920450621,83.43160770754307,74.9650387156821,124.65303908734712,83.02621831972829,79.98855643470871,84.40075265277027,90.81712366970888,89.2784474732076,85.94214920720822,90.64469054232599,93.06154207255793,86.32525971176881,85.13616481756024,80.12223505296879,92.30263985350332,79.99494924936977,79.35992681957157,79.14094258364145,81.40582403434158,93.0964254653691,97.37441199729695,118.48960808906767,98.37061817138981,119.33358605401546,101.7841968814993,89.39968754735182,81.55775228253286,81.561260250111,132.64940689929495,136.3754061953477,134.56438968073684,140.76512184485227,139.92948574612362,143.23793213580146,141.707344513758,140.04914430995458,140.99151195089075,141.9060202103641,141.06498958552484,139.33640194928907,141.5096143086938,144.07510702528205,144.29542325222744,147.0487263638169,145.9772763216178,144.1065166749085,144.33381295949818,145.57394238851117,143.73353017677874,142.41318959550946,141.0553604070578,143.83447290527687,143.65310262343246,143.71916928874754,148.06978437110644,143.56982553461341,147.16902563845736,146.29671478198497,146.02173455839278,148.78866701431514,147.48900903246033,148.86995735735468,150.76069746093813,146.3037876861088,148.1261816423216,147.2505101320347,147.9830834160677,147.89100114083635,150.1795318390599,148.8103404625252,147.182794289476,151.32360109639637,149.57039850984216,147.33343993074453,146.34721555648554,147.76342721595438,151.98950645018314,152.01338265107674,149.46981863943762,150.86568312048763,149.60134199530282,150.22576441548065,150.7918404916535,151.65980629051785,154.10845803196668,150.10579895556722,150.47565792695332,147.92362994701767,150.1446544384407,149.1791569736825,153.11971620744166,151.48660302881635,151.55042260179562,149.98134372892594,148.5703710430721,150.78214792293917,149.57441426387803,150.47268729957497,148.64768644660128,150.42215160079547,151.78780590047901,146.27404040600487,153.36416689878956,153.0808893478663,151.22357077145185,152.1662720789983,150.75853178063804,151.98118636357813,152.80114731073368,150.9673939543038,149.50751692236648,149.2408661797592,154.5091325872573,155.38564672563297,153.80722535671174,154.23175385662867,151.65252657547416,151.45404938787024,150.4081475738955,152.45978817024294,152.63927400246692,151.65525421424846,150.6572347094641,150.58089893484475,151.52443843235784,151.57274978812563,148.60563345074038,151.2802697072184,153.4907410824734,153.8221439890986,154.23659617245886,152.5402424149816,158.86177096000807,154.15414295760996,156.18805202411704,150.57435064624391,153.28975291966077,158.55400008175158,153.41605104778284,155.22218023684226,153.04885611642956,154.8757336245593,152.3087133142353,152.18775792553546,149.79442896314438,149.96132175854558,148.17998791457785,149.08890353296553,155.79296417921086,155.1436270934405,153.11214207983332,155.65412831317877,152.93032097715397,152.02078626362132,154.10728744361455,157.0554969063364,155.1459897148895,156.78736659610357,159.57788905202065,157.64287056928137,162.40999306842716,158.91912856035876,163.62655424927104,162.87674540983303,157.2928293495648,159.22104322194622,156.98091968022763,161.04000423765402,163.40751127429428,155.8121843852182,153.27914080942875,152.4756377656407,155.15611160086794,159.8951534323682,152.37380178884484,150.07385958762944,157.19759478294586,155.76510125538016,151.92389643531789,153.59173973662968,150.60659588826104,150.580564037407,152.9818929689339,151.7828524912009,151.3389765820073,154.33430041165713,152.60708028363715,157.67059704903852,152.49467122125768,153.7919402357687,154.9257329751053,154.35379787754994,154.22654707406562,157.35615905145545,154.42569038397852,151.00956632540365,159.7222215608532,159.51296463283524,154.35828869802052,153.9718669090818,124.14290348164042,147.63192996839396,157.8129761214011],\"yaxis\":\"y\",\"type\":\"scatter\"}],                        {\"template\":{\"data\":{\"bar\":[{\"error_x\":{\"color\":\"#2a3f5f\"},\"error_y\":{\"color\":\"#2a3f5f\"},\"marker\":{\"line\":{\"color\":\"#E5ECF6\",\"width\":0.5},\"pattern\":{\"fillmode\":\"overlay\",\"size\":10,\"solidity\":0.2}},\"type\":\"bar\"}],\"barpolar\":[{\"marker\":{\"line\":{\"color\":\"#E5ECF6\",\"width\":0.5},\"pattern\":{\"fillmode\":\"overlay\",\"size\":10,\"solidity\":0.2}},\"type\":\"barpolar\"}],\"carpet\":[{\"aaxis\":{\"endlinecolor\":\"#2a3f5f\",\"gridcolor\":\"white\",\"linecolor\":\"white\",\"minorgridcolor\":\"white\",\"startlinecolor\":\"#2a3f5f\"},\"baxis\":{\"endlinecolor\":\"#2a3f5f\",\"gridcolor\":\"white\",\"linecolor\":\"white\",\"minorgridcolor\":\"white\",\"startlinecolor\":\"#2a3f5f\"},\"type\":\"carpet\"}],\"choropleth\":[{\"colorbar\":{\"outlinewidth\":0,\"ticks\":\"\"},\"type\":\"choropleth\"}],\"contour\":[{\"colorbar\":{\"outlinewidth\":0,\"ticks\":\"\"},\"colorscale\":[[0.0,\"#0d0887\"],[0.1111111111111111,\"#46039f\"],[0.2222222222222222,\"#7201a8\"],[0.3333333333333333,\"#9c179e\"],[0.4444444444444444,\"#bd3786\"],[0.5555555555555556,\"#d8576b\"],[0.6666666666666666,\"#ed7953\"],[0.7777777777777778,\"#fb9f3a\"],[0.8888888888888888,\"#fdca26\"],[1.0,\"#f0f921\"]],\"type\":\"contour\"}],\"contourcarpet\":[{\"colorbar\":{\"outlinewidth\":0,\"ticks\":\"\"},\"type\":\"contourcarpet\"}],\"heatmap\":[{\"colorbar\":{\"outlinewidth\":0,\"ticks\":\"\"},\"colorscale\":[[0.0,\"#0d0887\"],[0.1111111111111111,\"#46039f\"],[0.2222222222222222,\"#7201a8\"],[0.3333333333333333,\"#9c179e\"],[0.4444444444444444,\"#bd3786\"],[0.5555555555555556,\"#d8576b\"],[0.6666666666666666,\"#ed7953\"],[0.7777777777777778,\"#fb9f3a\"],[0.8888888888888888,\"#fdca26\"],[1.0,\"#f0f921\"]],\"type\":\"heatmap\"}],\"heatmapgl\":[{\"colorbar\":{\"outlinewidth\":0,\"ticks\":\"\"},\"colorscale\":[[0.0,\"#0d0887\"],[0.1111111111111111,\"#46039f\"],[0.2222222222222222,\"#7201a8\"],[0.3333333333333333,\"#9c179e\"],[0.4444444444444444,\"#bd3786\"],[0.5555555555555556,\"#d8576b\"],[0.6666666666666666,\"#ed7953\"],[0.7777777777777778,\"#fb9f3a\"],[0.8888888888888888,\"#fdca26\"],[1.0,\"#f0f921\"]],\"type\":\"heatmapgl\"}],\"histogram\":[{\"marker\":{\"pattern\":{\"fillmode\":\"overlay\",\"size\":10,\"solidity\":0.2}},\"type\":\"histogram\"}],\"histogram2d\":[{\"colorbar\":{\"outlinewidth\":0,\"ticks\":\"\"},\"colorscale\":[[0.0,\"#0d0887\"],[0.1111111111111111,\"#46039f\"],[0.2222222222222222,\"#7201a8\"],[0.3333333333333333,\"#9c179e\"],[0.4444444444444444,\"#bd3786\"],[0.5555555555555556,\"#d8576b\"],[0.6666666666666666,\"#ed7953\"],[0.7777777777777778,\"#fb9f3a\"],[0.8888888888888888,\"#fdca26\"],[1.0,\"#f0f921\"]],\"type\":\"histogram2d\"}],\"histogram2dcontour\":[{\"colorbar\":{\"outlinewidth\":0,\"ticks\":\"\"},\"colorscale\":[[0.0,\"#0d0887\"],[0.1111111111111111,\"#46039f\"],[0.2222222222222222,\"#7201a8\"],[0.3333333333333333,\"#9c179e\"],[0.4444444444444444,\"#bd3786\"],[0.5555555555555556,\"#d8576b\"],[0.6666666666666666,\"#ed7953\"],[0.7777777777777778,\"#fb9f3a\"],[0.8888888888888888,\"#fdca26\"],[1.0,\"#f0f921\"]],\"type\":\"histogram2dcontour\"}],\"mesh3d\":[{\"colorbar\":{\"outlinewidth\":0,\"ticks\":\"\"},\"type\":\"mesh3d\"}],\"parcoords\":[{\"line\":{\"colorbar\":{\"outlinewidth\":0,\"ticks\":\"\"}},\"type\":\"parcoords\"}],\"pie\":[{\"automargin\":true,\"type\":\"pie\"}],\"scatter\":[{\"marker\":{\"colorbar\":{\"outlinewidth\":0,\"ticks\":\"\"}},\"type\":\"scatter\"}],\"scatter3d\":[{\"line\":{\"colorbar\":{\"outlinewidth\":0,\"ticks\":\"\"}},\"marker\":{\"colorbar\":{\"outlinewidth\":0,\"ticks\":\"\"}},\"type\":\"scatter3d\"}],\"scattercarpet\":[{\"marker\":{\"colorbar\":{\"outlinewidth\":0,\"ticks\":\"\"}},\"type\":\"scattercarpet\"}],\"scattergeo\":[{\"marker\":{\"colorbar\":{\"outlinewidth\":0,\"ticks\":\"\"}},\"type\":\"scattergeo\"}],\"scattergl\":[{\"marker\":{\"colorbar\":{\"outlinewidth\":0,\"ticks\":\"\"}},\"type\":\"scattergl\"}],\"scattermapbox\":[{\"marker\":{\"colorbar\":{\"outlinewidth\":0,\"ticks\":\"\"}},\"type\":\"scattermapbox\"}],\"scatterpolar\":[{\"marker\":{\"colorbar\":{\"outlinewidth\":0,\"ticks\":\"\"}},\"type\":\"scatterpolar\"}],\"scatterpolargl\":[{\"marker\":{\"colorbar\":{\"outlinewidth\":0,\"ticks\":\"\"}},\"type\":\"scatterpolargl\"}],\"scatterternary\":[{\"marker\":{\"colorbar\":{\"outlinewidth\":0,\"ticks\":\"\"}},\"type\":\"scatterternary\"}],\"surface\":[{\"colorbar\":{\"outlinewidth\":0,\"ticks\":\"\"},\"colorscale\":[[0.0,\"#0d0887\"],[0.1111111111111111,\"#46039f\"],[0.2222222222222222,\"#7201a8\"],[0.3333333333333333,\"#9c179e\"],[0.4444444444444444,\"#bd3786\"],[0.5555555555555556,\"#d8576b\"],[0.6666666666666666,\"#ed7953\"],[0.7777777777777778,\"#fb9f3a\"],[0.8888888888888888,\"#fdca26\"],[1.0,\"#f0f921\"]],\"type\":\"surface\"}],\"table\":[{\"cells\":{\"fill\":{\"color\":\"#EBF0F8\"},\"line\":{\"color\":\"white\"}},\"header\":{\"fill\":{\"color\":\"#C8D4E3\"},\"line\":{\"color\":\"white\"}},\"type\":\"table\"}]},\"layout\":{\"annotationdefaults\":{\"arrowcolor\":\"#2a3f5f\",\"arrowhead\":0,\"arrowwidth\":1},\"autotypenumbers\":\"strict\",\"coloraxis\":{\"colorbar\":{\"outlinewidth\":0,\"ticks\":\"\"}},\"colorscale\":{\"diverging\":[[0,\"#8e0152\"],[0.1,\"#c51b7d\"],[0.2,\"#de77ae\"],[0.3,\"#f1b6da\"],[0.4,\"#fde0ef\"],[0.5,\"#f7f7f7\"],[0.6,\"#e6f5d0\"],[0.7,\"#b8e186\"],[0.8,\"#7fbc41\"],[0.9,\"#4d9221\"],[1,\"#276419\"]],\"sequential\":[[0.0,\"#0d0887\"],[0.1111111111111111,\"#46039f\"],[0.2222222222222222,\"#7201a8\"],[0.3333333333333333,\"#9c179e\"],[0.4444444444444444,\"#bd3786\"],[0.5555555555555556,\"#d8576b\"],[0.6666666666666666,\"#ed7953\"],[0.7777777777777778,\"#fb9f3a\"],[0.8888888888888888,\"#fdca26\"],[1.0,\"#f0f921\"]],\"sequentialminus\":[[0.0,\"#0d0887\"],[0.1111111111111111,\"#46039f\"],[0.2222222222222222,\"#7201a8\"],[0.3333333333333333,\"#9c179e\"],[0.4444444444444444,\"#bd3786\"],[0.5555555555555556,\"#d8576b\"],[0.6666666666666666,\"#ed7953\"],[0.7777777777777778,\"#fb9f3a\"],[0.8888888888888888,\"#fdca26\"],[1.0,\"#f0f921\"]]},\"colorway\":[\"#636efa\",\"#EF553B\",\"#00cc96\",\"#ab63fa\",\"#FFA15A\",\"#19d3f3\",\"#FF6692\",\"#B6E880\",\"#FF97FF\",\"#FECB52\"],\"font\":{\"color\":\"#2a3f5f\"},\"geo\":{\"bgcolor\":\"white\",\"lakecolor\":\"white\",\"landcolor\":\"#E5ECF6\",\"showlakes\":true,\"showland\":true,\"subunitcolor\":\"white\"},\"hoverlabel\":{\"align\":\"left\"},\"hovermode\":\"closest\",\"mapbox\":{\"style\":\"light\"},\"paper_bgcolor\":\"white\",\"plot_bgcolor\":\"#E5ECF6\",\"polar\":{\"angularaxis\":{\"gridcolor\":\"white\",\"linecolor\":\"white\",\"ticks\":\"\"},\"bgcolor\":\"#E5ECF6\",\"radialaxis\":{\"gridcolor\":\"white\",\"linecolor\":\"white\",\"ticks\":\"\"}},\"scene\":{\"xaxis\":{\"backgroundcolor\":\"#E5ECF6\",\"gridcolor\":\"white\",\"gridwidth\":2,\"linecolor\":\"white\",\"showbackground\":true,\"ticks\":\"\",\"zerolinecolor\":\"white\"},\"yaxis\":{\"backgroundcolor\":\"#E5ECF6\",\"gridcolor\":\"white\",\"gridwidth\":2,\"linecolor\":\"white\",\"showbackground\":true,\"ticks\":\"\",\"zerolinecolor\":\"white\"},\"zaxis\":{\"backgroundcolor\":\"#E5ECF6\",\"gridcolor\":\"white\",\"gridwidth\":2,\"linecolor\":\"white\",\"showbackground\":true,\"ticks\":\"\",\"zerolinecolor\":\"white\"}},\"shapedefaults\":{\"line\":{\"color\":\"#2a3f5f\"}},\"ternary\":{\"aaxis\":{\"gridcolor\":\"white\",\"linecolor\":\"white\",\"ticks\":\"\"},\"baxis\":{\"gridcolor\":\"white\",\"linecolor\":\"white\",\"ticks\":\"\"},\"bgcolor\":\"#E5ECF6\",\"caxis\":{\"gridcolor\":\"white\",\"linecolor\":\"white\",\"ticks\":\"\"}},\"title\":{\"x\":0.05},\"xaxis\":{\"automargin\":true,\"gridcolor\":\"white\",\"linecolor\":\"white\",\"ticks\":\"\",\"title\":{\"standoff\":15},\"zerolinecolor\":\"white\",\"zerolinewidth\":2},\"yaxis\":{\"automargin\":true,\"gridcolor\":\"white\",\"linecolor\":\"white\",\"ticks\":\"\",\"title\":{\"standoff\":15},\"zerolinecolor\":\"white\",\"zerolinewidth\":2}}},\"xaxis\":{\"anchor\":\"y\",\"domain\":[0.0,1.0],\"title\":{\"text\":\"Time (ms)\"},\"tickmode\":\"linear\",\"tick0\":0,\"dtick\":1000},\"yaxis\":{\"anchor\":\"x\",\"domain\":[0.0,1.0],\"title\":{\"text\":\"Theta (degrees)\"},\"tickmode\":\"linear\",\"tick0\":-360,\"dtick\":180},\"legend\":{\"tracegroupgap\":0},\"title\":{\"text\":\"Continuous Angular Rotation\"}},                        {\"responsive\": true}                    ).then(function(){\n",
       "                            \n",
       "var gd = document.getElementById('a178997b-4d6e-4ad3-8f3d-30acb5af67e4');\n",
       "var x = new MutationObserver(function (mutations, observer) {{\n",
       "        var display = window.getComputedStyle(gd).display;\n",
       "        if (!display || display === 'none') {{\n",
       "            console.log([gd, 'removed!']);\n",
       "            Plotly.purge(gd);\n",
       "            observer.disconnect();\n",
       "        }}\n",
       "}});\n",
       "\n",
       "// Listen for the removal of the full notebook cells\n",
       "var notebookContainer = gd.closest('#notebook-container');\n",
       "if (notebookContainer) {{\n",
       "    x.observe(notebookContainer, {childList: true});\n",
       "}}\n",
       "\n",
       "// Listen for the clearing of the current output cell\n",
       "var outputEl = gd.closest('.output');\n",
       "if (outputEl) {{\n",
       "    x.observe(outputEl, {childList: true});\n",
       "}}\n",
       "\n",
       "                        })                };                });            </script>        </div>"
      ]
     },
     "metadata": {},
     "output_type": "display_data"
    }
   ],
   "source": [
    "#### you might need to change the time step: 10hz= 100 ms, 100hz = 10ms\n",
    "parameters = {\n",
    "'file_name': csvnum, #100521_analysis 103018_analysis\n",
    "'pixel_size': 117, # in nanometers\n",
    "'time_step': 100, # in miliseconds\n",
    "'frame_start':frStart, # enter 0 to start from beginning of dataset\n",
    "'frame_end': 250, #frEnd, # enter -1 to end at the last value of the data set\n",
    "'find_center_coordinates': 'no', # 'yes' for first run, 'no' after center has been determined\n",
    "'bin_size': 3, # bin size for downsample/filter processing\n",
    "'processing': \"none\", # enter downsample, filter, or none\n",
    "'plot_type': \"angular_continuous\", # enter 2D, 3D, grid, angular, angular_continuous, interactive or animated \n",
    "'title': title,\n",
    "'x_axis_label': \"x (nm)\",\n",
    "'y_axis_label': \"y (nm)\",\n",
    "'z_axis_label': \"Time (ms)\",\n",
    "'unit': \"nm\",  # enter pixel or nm \n",
    "'frames_per_plot': 25, #refers to grid plot\n",
    "'columns': 7,# columns of plots (grid plot)\n",
    "'frame_speed': 10, # for animation only\n",
    "'tail_length': 10, # for animation only\n",
    "'pixel_min': -0.75,\n",
    "'pixel_max': 0.75,\n",
    "'axis_increment_pixel': 7, #change axis increments for nicely fitting tick marks (pixel)\n",
    "'nm_min': -150,\n",
    "'nm_max': 150,\n",
    "'axis_increment_nm': 7, #change axis increments for nicely fitting tick marks (nm)\n",
    "'fig_size_x':40, #adjust display parameters for graphs to fit nicely, mostly used for multi_plot \n",
    "'fig_size_y': 40,\n",
    "'save_plot': 'no'}\n",
    "\n",
    "DORA(**parameters)"
   ]
  },
  {
   "cell_type": "code",
   "execution_count": null,
   "id": "81a33327",
   "metadata": {},
   "outputs": [],
   "source": []
  },
  {
   "cell_type": "markdown",
   "id": "6b1d7752",
   "metadata": {},
   "source": [
    "# HEY! RUN THIS: "
   ]
  },
  {
   "cell_type": "code",
   "execution_count": 11,
   "id": "6ea421c0",
   "metadata": {},
   "outputs": [],
   "source": [
    "def disp_hist(file,perCol,perRow):\n",
    "\n",
    "    \n",
    "    #Get file paths\n",
    "    sets=file+'trdir/histsets'\n",
    "    filename=file+'trdir/hist2d'\n",
    "    infor=file+'trdir/histpar'\n",
    "    \n",
    "    #open files\n",
    "    fileptr = open(filename+'.stack','rb')\n",
    "    fileptrSets = open(sets+'.list','rb')\n",
    "    fileptrInfo = open(infor+'.info','rb')\n",
    "    \n",
    "\n",
    "    #Get Infor from files \n",
    "    frame = np.fromfile(fileptr,dtype='int32')\n",
    "    histlist=np.fromfile(fileptrSets,dtype='int32')\n",
    "    histinfo=np.fromfile(fileptrInfo,dtype='int32')\n",
    "    histsearch=np.reshape(histlist,[len(histlist)//3,3])\n",
    "    #print(frame.shape)\n",
    "    #print(histlist.shape)\n",
    "    #print(histinfo.shape)\n",
    "\n",
    "    histnum=histinfo[3]  #number of histograms\n",
    "    histrow=int(histnum//perCol) #number of histograms / number of histograms per col to give number per row \n",
    "    \n",
    "    res=histinfo[0]   #get the 'res' as defined in 2D hist this is the size of the histogram 30x30\n",
    "\n",
    "\n",
    "    \n",
    "    \n",
    "    #Openining the Histogram and making an Image. \n",
    "    fileptr.seek(0) #Get the first frame \n",
    "\n",
    "    result = Image.new('F', (histrow*res,perCol*res)) #make a new image of correct size \n",
    "    for j in range (0,histrow):    \n",
    "        for i in range (0,perCol):\n",
    "        #print((i+(j*histpercol)))\n",
    "            fileptr.seek((i+(j*perCol))*res*res*4)  #open frame poisiton x resolution *32/8 (8 bit vs 32 bit)\n",
    "            frame2 = np.fromfile(fileptr,dtype='int32',count=res*res)\n",
    "            frame2 = np.reshape(frame2,[res,res])\n",
    "            frame2 = np.transpose(frame2)\n",
    "            frame2 = np.rot90(np.rot90(np.rot90(frame2)))\n",
    "            frame2=frame2\n",
    "            im2 =Image.fromarray(frame2)\n",
    "        #print(i)\n",
    "            result.paste(im2, box=((j*res),(i*res))) #load each histogram into the total histogram image. \n",
    "       \n",
    "    \n",
    "   \n",
    "\n",
    "    img = np.array(result) \n",
    "\n",
    "    #result.show(result)\n",
    "    avgnonzero = img[np.nonzero(img)].mean() #this might be bad practice \n",
    "    img=np.array((img/avgnonzero)*255).astype('uint8')#but here i am sclaing my image based on avg non zero to gray scale \n",
    "                                                        # This is only for display and it works fairly well but may be something that we want to return to. \n",
    "\n",
    "\n",
    "\n",
    "    \n",
    "\n",
    "    grayImage = cv2.cvtColor(img, cv2.COLOR_GRAY2BGR)  #Converts image to gray scale\n",
    "    heatmap = cv2.applyColorMap(grayImage, cv2.COLORMAP_MAGMA)  #converst grey scale to color map magma \n",
    "    \n",
    "    refPt = []\n",
    "    \n",
    "    def click_event(event, x, y, flags, param):\n",
    "        if event == cv2.EVENT_LBUTTONDOWN:\n",
    "            #print(x+(k*histperrow*30),\",\",y)\n",
    "            imgpkdisp=[((x+(k*perRow*30))//30*perCol),y//30] #Converting X and y of click to position on histogram as a grid. K s frame number. Scale by 30 because of size of histogram. \n",
    "            imgpkdisp=sum(imgpkdisp)  # This is the exact histogram number. based off frame, and which position\n",
    "            imgpkdisp=histsearch[imgpkdisp] # now we use that info to find the hisgram in the  info file \n",
    "            imgpkdisp=str(imgpkdisp)\n",
    "            print(imgpkdisp)\n",
    "            refPt.append([x+(k*perRow*30),y]) #This stores the histograms selected. \n",
    "            font = cv2.FONT_HERSHEY_SIMPLEX\n",
    "            strXY = str(x+(k*perRow*30) )+\", \"+str(y)\n",
    "            cv2.putText(imgcrop, imgpkdisp, (x,y), font, 0.5, (255,0,0), 2) #Draw coordinates on image. \n",
    "            cv2.imshow('2D Histogram [PK# t1 t2]',imgcrop)\n",
    "    \n",
    "    savePt=[]\n",
    "    testvar=0\n",
    "    t=img.size//((perCol*30)*perRow*30)\n",
    "    \n",
    "    k=0\n",
    "    \n",
    "    #Load in frames for searching\n",
    "    while k < t:\n",
    "        imgcrop=heatmap[0:(perCol*30),k*perRow*30:(k+1)*30*perRow]  #Display each frame as a heat map. \n",
    "        cv2.imshow('2D Histogram [PK# t1 t2]',imgcrop )\n",
    "        cv2.namedWindow('2D Histogram [PK# t1 t2]')\n",
    "        cv2.setMouseCallback('2D Histogram [PK# t1 t2]', click_event)\n",
    "        key=cv2.waitKey(0)\n",
    "        if key == 27: #if escape key break the loop\n",
    "            break\n",
    "        elif key==98:  # if b go backwards\n",
    "            if k == 0:\n",
    "                k=k\n",
    "            else:\n",
    "                k=k-1  # any other key go forward\n",
    "        else:\n",
    "            k=k+1\n",
    "        \n",
    "   # for k in range (0,t):\n",
    "       # print(k)\n",
    "       # imgcrop=heatmap[0:(perCol*30),k*perRow*30:(k+1)*30*perRow]\n",
    "       # cv2.imshow('heatmap',imgcrop )\n",
    "       # cv2.namedWindow('heatmap')\n",
    "       # cv2.setMouseCallback(\"heatmap\", click_event)\n",
    "       # key=cv2.waitKey(0)\n",
    "        #if key == 27:\n",
    "        #    break\n",
    "        #elif key == 98:\n",
    "            #print(k)\n",
    "        \n",
    "        \n",
    "            \n",
    "    cv2.destroyAllWindows()\n",
    "    refptnp=np.array(refPt)  #stored histogram positions\n",
    "    #print(refptnp)\n",
    "    refsc=refptnp//30     # scale to histogram number per frame\n",
    "    refcol=refsc*[perCol,1]  # Scale to be histogram number on right frame \n",
    "    sum_of_rows = np.sum(refcol, axis = 1)  #sum to get historgram number\n",
    "    out=histsearch[sum_of_rows] #search  histogram info to get pk# and T1 T2. \n",
    "    return refptnp , refsc , refcol ,sum_of_rows , out   #Return Relevant vars. "
   ]
  },
  {
   "cell_type": "markdown",
   "id": "155a56a8",
   "metadata": {},
   "source": [
    "# HEY! RUN THIS 2: "
   ]
  },
  {
   "cell_type": "code",
   "execution_count": 64,
   "id": "e1ee264d",
   "metadata": {},
   "outputs": [
    {
     "name": "stdout",
     "output_type": "stream",
     "text": [
      "filename: D:/Amanda/OMM_Analysis/OMM_Analysis/DATA/20220331_Proflavine_Base2DORBIT_exp8/IB_10hz_10laser_10uM_on/pos_0/Proflavine_Base2DORBIT_exp8_IB_10hz_10laser_10uM_on_posXY0_channels_t0_posZ0trcsv/00031.csv    |  pixel_size: 154  |  time_step: 20\n",
      "frame_start: 0  |    frame_end: -1  |  bin_size: 3\n",
      "processing: none  |  plot_type: 2D  |  title: RecBCD\n",
      "X_axis_label: x (nm)  |  Y_axis_label: y (nm)  |  Z_axis_label: Time (ms)\n"
     ]
    },
    {
     "ename": "UnboundLocalError",
     "evalue": "local variable 'p' referenced before assignment",
     "output_type": "error",
     "traceback": [
      "\u001b[1;31m---------------------------------------------------------------------------\u001b[0m",
      "\u001b[1;31mUnboundLocalError\u001b[0m                         Traceback (most recent call last)",
      "\u001b[1;32m~\\AppData\\Local\\Temp\\ipykernel_42072\\481416439.py\u001b[0m in \u001b[0;36m<module>\u001b[1;34m\u001b[0m\n\u001b[0;32m    856\u001b[0m \u001b[1;33m\u001b[0m\u001b[0m\n\u001b[0;32m    857\u001b[0m \u001b[1;33m\u001b[0m\u001b[0m\n\u001b[1;32m--> 858\u001b[1;33m \u001b[0mDORA\u001b[0m\u001b[1;33m(\u001b[0m\u001b[1;33m**\u001b[0m\u001b[0mparameters\u001b[0m\u001b[1;33m)\u001b[0m\u001b[1;33m\u001b[0m\u001b[1;33m\u001b[0m\u001b[0m\n\u001b[0m",
      "\u001b[1;32m~\\AppData\\Local\\Temp\\ipykernel_42072\\481416439.py\u001b[0m in \u001b[0;36mDORA\u001b[1;34m(file_name, pixel_size, time_step, frame_start, frame_end, find_center_coordinates, bin_size, processing, plot_type, title, x_axis_label, y_axis_label, z_axis_label, unit, frames_per_plot, columns, pixel_min, pixel_max, nm_min, nm_max, axis_increment_pixel, axis_increment_nm, fig_size_x, fig_size_y, frame_speed, tail_length, save_plot)\u001b[0m\n\u001b[0;32m    163\u001b[0m             \u001b[1;31m#Colorbar parameters below if we want one in the future\u001b[0m\u001b[1;33m\u001b[0m\u001b[1;33m\u001b[0m\u001b[0m\n\u001b[0;32m    164\u001b[0m \u001b[1;33m\u001b[0m\u001b[0m\n\u001b[1;32m--> 165\u001b[1;33m             \u001b[0mcbar\u001b[0m \u001b[1;33m=\u001b[0m \u001b[0mplt\u001b[0m\u001b[1;33m.\u001b[0m\u001b[0mcolorbar\u001b[0m\u001b[1;33m(\u001b[0m\u001b[0mp\u001b[0m\u001b[1;33m,\u001b[0m \u001b[0mlabel\u001b[0m\u001b[1;33m=\u001b[0m \u001b[1;34m'time'\u001b[0m \u001b[1;33m,\u001b[0m\u001b[0mshrink\u001b[0m\u001b[1;33m=\u001b[0m \u001b[1;36m.82\u001b[0m\u001b[1;33m)\u001b[0m \u001b[1;31m#\u001b[0m\u001b[1;33m\u001b[0m\u001b[1;33m\u001b[0m\u001b[0m\n\u001b[0m\u001b[0;32m    166\u001b[0m \u001b[1;33m\u001b[0m\u001b[0m\n\u001b[0;32m    167\u001b[0m             \u001b[1;31m#setting the ticks on the colorbar to span the length of the time column with 6 increments\u001b[0m\u001b[1;33m\u001b[0m\u001b[1;33m\u001b[0m\u001b[0m\n",
      "\u001b[1;31mUnboundLocalError\u001b[0m: local variable 'p' referenced before assignment"
     ]
    },
    {
     "data": {
      "image/png": "[encoded data removed]",
      "text/plain": [
       "<Figure size 600x600 with 1 Axes>"
      ]
     },
     "metadata": {
      "needs_background": "light"
     },
     "output_type": "display_data"
    }
   ],
   "source": [
    "import numpy as np\n",
    "import pandas as pd\n",
    "import plotly.graph_objects as go \n",
    "import matplotlib.pyplot as plt\n",
    "import matplotlib.cm as cm\n",
    "from mpl_toolkits.mplot3d.art3d import Line3DCollection \n",
    "from matplotlib import ticker\n",
    "import math\n",
    "from matplotlib import gridspec\n",
    "from mpl_toolkits.mplot3d import Axes3D\n",
    "import matplotlib.animation\n",
    "from matplotlib.animation import FuncAnimation\n",
    "import matplotlib.animation as animation\n",
    "from IPython import display\n",
    "import random\n",
    "import itertools\n",
    "from matplotlib.widgets import Slider, Button\n",
    "from IPython.core.display import HTML\n",
    "matplotlib.rcParams['animation.embed_limit'] = 2**128 #allows for large java HTML\n",
    "\n",
    "\n",
    "#affects plot presentation\n",
    "%matplotlib inline \n",
    "\n",
    "\n",
    "parameters = {\n",
    "#Initial required parameters\n",
    "'file_name': csvnum,\n",
    "'pixel_size': 154, # in nanometers\n",
    "'time_step': 20, # miliseconds per frame in trajectory movie\n",
    "'frame_start': 0, # enter 0 to start from beginning of dataset\n",
    "'frame_end': -1, # enter -1 to end at the last value of the data set\n",
    "'find_center_coordinates': 'yes', # 'yes' for first run, 'no' after center has been determined\n",
    "#Secondary required parameters  \n",
    "'plot_type': \"2D\",# enter 2D, 3D, grid, angular, angular_continuous, interactive, animated or HTML     \n",
    "'bin_size': 3, # bin size for downsample/filter processing\n",
    "'processing': \"none\", # enter downsample, filter, or none\n",
    "'unit': \"nm\",  # enter pixel or nm \n",
    "#Labeling parameters \n",
    "'title': \"RecBCD\",\n",
    "'x_axis_label': \"x (nm)\",\n",
    "'y_axis_label': \"y (nm)\",\n",
    "'z_axis_label': \"Time (ms)\",\n",
    "#Formatting parameters 'grid' plot\n",
    "'frames_per_plot': 25, #refers to grid plot\n",
    "'columns': 7,# columns of plots (grid plot)\n",
    "#Formatting parameters 'animation' plot\n",
    "'frame_speed': 20, # for animation only (ms)\n",
    "'tail_length': 50, # for animation only\n",
    "#Formatting parameters all plots  \n",
    "'pixel_min': -0.75, # setting min/max axis range (pixel)\n",
    "'pixel_max': 0.75,\n",
    "'axis_increment_pixel': 7, #change axis increments for nicely fitting tick marks (pixel)\n",
    "'nm_min': -150, # setting min/max axis range (nm)\n",
    "'nm_max': 150,\n",
    "'axis_increment_nm': 7, #change axis increments for nicely fitting tick marks (nm)\n",
    "'fig_size_x': 40, #adjust display parameters for graphs to fit nicely, mostly used for 'grid' plot \n",
    "'fig_size_y': 40,\n",
    "#Save figures\n",
    "'save_plot': 'no'} \n",
    "\n",
    "\n",
    "def DORA(file_name,pixel_size,time_step,frame_start,frame_end,find_center_coordinates,bin_size,processing,plot_type,title,x_axis_label,y_axis_label,z_axis_label,unit, frames_per_plot, columns, pixel_min, pixel_max, nm_min, nm_max,axis_increment_pixel,axis_increment_nm, fig_size_x, fig_size_y, frame_speed, tail_length, save_plot):\n",
    "       \n",
    "              \n",
    "        print(*['filename:', file_name, '   | ' , 'pixel_size:', pixel_size , ' | ' , 'time_step:', time_step])\n",
    "        \n",
    "        print(*['frame_start:', frame_start,' |   ','frame_end:', frame_end, ' | ', 'bin_size:', bin_size])\n",
    "        \n",
    "        print(*['processing:', processing, ' | ',  'plot_type:', plot_type,' | ' ,'title:', title])\n",
    "        \n",
    "        print(*['X_axis_label:',x_axis_label,' | ',  'Y_axis_label:',y_axis_label ,' | ' ,'Z_axis_label:', z_axis_label])\n",
    "        if plot_type == 'grid':\n",
    "            print(*['columns:', columns, '|', 'frames_per_plot:', frames_per_plot])\n",
    "        if plot_type == 'animated':\n",
    "            print(*['frame_speed:', frame_speed, '|', 'tail_length:', tail_length])\n",
    "        \n",
    "    \n",
    "        #read data file into a pandas data frame, add an index counter, and label columns\n",
    "        data = pd.read_csv(file_name, header = None)\n",
    "        data = data.replace(0, np.nan) \n",
    "        #data = data.dropna()\n",
    "        data['index'] = range(len(data))\n",
    "        data.columns = ['X position', 'Y position','index']\n",
    "        data=data[['index','X position','Y position']]\n",
    "        \n",
    "        \n",
    "        \n",
    "        ## CENTERING ALGORITHM ##\n",
    "        if find_center_coordinates == 'yes':\n",
    "            #establish empty lists\n",
    "            ave_y = []\n",
    "            ave_x = []\n",
    "            stand = []\n",
    "            \n",
    "            #find uniform guesses in range of max and min unaltered data values for y position\n",
    "            #THE NUMBER OF UNIFORM GUESSES IS CURRENTLY HARD CODED AT 50 FOR X AND Y, CULMULITIVE 2,500\n",
    "            guess_y = np.linspace(data.iloc[frame_start:frame_end,2].max(), data.iloc[ frame_start:frame_end,2].min(), 50)\n",
    "            #put into list\n",
    "            guess_y = guess_y.tolist()\n",
    "            # find guesses for x position\n",
    "            guess_x =np.linspace(data.iloc[frame_start:frame_end,1].max(), data.iloc[frame_start:frame_end,1].min(), 50)\n",
    "            guess_x = guess_x.tolist()\n",
    "            \n",
    "            \n",
    "\n",
    "            #permute each x and y center guess together to create 10,000 unique center guesses\n",
    "            center_guesses = list(itertools.product(guess_x, guess_y))\n",
    "            # store center guesses in dataframe\n",
    "            c = pd.DataFrame(center_guesses, columns = ['X','Y'])\n",
    "            # set up list to store average distances (radius) of circular trajectory path\n",
    "            ave_distance = []\n",
    "            # set up list to store standard deviation of distances to each point in the trajectory\n",
    "            stand = []\n",
    "            j = 0\n",
    "            for j in range(len(c)): # chnage to range(len(c))\n",
    "                # find the distance between each point in a dataframe against guess[i]\n",
    "                distance = np.power(((data[\"X position\"]- c['X'][j])**2 + (data[\"Y position\"]- c['Y'][j])**2),0.5)\n",
    "                # store distances in a dataframe\n",
    "                d = pd.DataFrame(distance, columns = ['distance'])\n",
    "                # find average of distances (this would be the radius)\n",
    "                ave_d = d['distance'].mean(axis = 0)\n",
    "                # store all average distances from each guess[i] distance dataframes into list\n",
    "                ave_distance.append(ave_d)\n",
    "                # find standard deviation of center distance from each point in trajectory for each guess[i]\n",
    "                std = d['distance'].std(axis = 0)\n",
    "                # store each standard deviation in a list  \n",
    "                stand.append(std)\n",
    "\n",
    "                j += 1\n",
    "            # put radius and std lists in a dataframe    \n",
    "            c['average_distance'] = ave_distance\n",
    "            c['std'] = stand\n",
    "\n",
    "\n",
    "            # this block finds the row with the lowest std, the corresponding radius and x,y coordinates for the center\n",
    "            # want to return row with lowest std\n",
    "            target_row = c['std'].idxmin()\n",
    "            # x center guess with lowest std\n",
    "            center_x = c.loc[target_row,'X']\n",
    "            # y center guess with lowest std\n",
    "            center_y = c.loc[target_row,'Y']\n",
    "            #radius of trajectory\n",
    "            dist = c.loc[target_row,'average_distance']\n",
    "\n",
    "\n",
    "            # Our regularly scheduled 2D graphing program\n",
    "            fig = plt.figure(figsize=(6,6), dpi=100)\n",
    "            ax = fig.add_subplot(111)#121 # 1X1 grid plot 1, subplot(222) would be 2X2 grid plot 2, (223)--> 2X2 plot 3\n",
    "\n",
    "            #color bar color scheme assignment, graph type, colorbar size and alignment\n",
    "            colors = cm.viridis(np.linspace(0, 1, len(data.iloc[frame_start:frame_end,1])))\n",
    "            ax.scatter(data.iloc[frame_start:frame_end,1], data.iloc[frame_start:frame_end,2],c= colors, alpha = 0.7)\n",
    "            \n",
    "            # add a red dot to indicate center of trajectory\n",
    "            ax.scatter(center_x, center_y, color = 'red')\n",
    "            plt.text(x = center_x +0.02, y = center_y +0.02, s = 'algorithm centering')\n",
    "\n",
    "            # add a circle with center at our best guess and radius derived from our best guess \n",
    "            circle = plt.Circle((center_x, center_y), dist, color='r', fill=False)\n",
    "            ax.add_patch(circle)\n",
    "            \n",
    "            #Colorbar parameters below if we want one in the future\n",
    "\n",
    "            cbar = plt.colorbar(p, label= 'time' ,shrink= .82) #\n",
    "\n",
    "            #setting the ticks on the colorbar to span the length of the time column with 6 increments\n",
    "            cbar.set_ticks([0, 0.2, 0.4, 0.6, 0.8, 1]) \n",
    "\n",
    "            tix = np.linspace(0,len(data),6, dtype = int) # forces colorbar to show time in integers\n",
    "            tix_c = tix*20\n",
    "            cbar.set_ticklabels(tix_c) \n",
    "            \n",
    "            plt.axis('square') #INTEGRAL to maintaining aspect ratio\n",
    "            plt.xticks(rotation=45)\n",
    "            ax.set_xlabel('X position (unaltered)', fontweight = 'bold', fontsize = 14)\n",
    "            ax.set_ylabel('Y position (unaltered)', fontweight = 'bold', fontsize = 14)\n",
    "\n",
    "            # plot title and font configurations\n",
    "            plt.title('Algorithm Center Guess' , fontweight = 'bold', fontsize = 16)\n",
    "            plt.show()\n",
    "            \n",
    "            \n",
    "            #below is the key to maintaining the value of the center variable once the user satisfaction is achieved\n",
    "            global center\n",
    "            \n",
    "            center =(center_x,center_y)\n",
    "            \n",
    "            print('The center is {0}'.format(center))\n",
    "            print('If the center is satisfactory, change the find_center_coordinates parameter to no')\n",
    "            print('If the center is unsatisfactory, adjust the frame_start and frame_end parameters and try again')\n",
    "            \n",
    "            return\n",
    "         \n",
    "            \n",
    "\n",
    "\n",
    "\n",
    "\n",
    "\n",
    "\n",
    "\n",
    "\n",
    "\n",
    "        \n",
    "        \n",
    "        \n",
    "        \n",
    "        ## DATA NORMILIZATION AND UNIT ASSIGNMENT ##\n",
    "\n",
    "        # find the average of X and Y column respectively\n",
    "        ave = data.mean(axis=0)\n",
    "        \n",
    "\n",
    "        #substract averages from each column to find displacement, store into new columns\n",
    "        data[\"X displacement (pixels)\"] = data['X position'] - center[0]\n",
    "        data[\"Y displacement (pixels)\"] = data['Y position'] - center[1]\n",
    "        # mutiply pixel displacement columns by scaler to find nm displacement, store in new columns\n",
    "        data[\"X displacement (nm)\"] = data['X displacement (pixels)']*pixel_size\n",
    "        data[\"Y displacement (nm)\"]= data['Y displacement (pixels)']*pixel_size\n",
    "        # multiply the index counter column by time_step to make a time step column, store into new column \n",
    "        data[\"Time (ms)\"] = data['index']*time_step\n",
    "        # drop all NaN values *not a number\n",
    "        data = data.dropna() \n",
    "        \n",
    "        #drop NAN try to conserve time (what if we have NAN in x and not in Y? need to drop the whole row)\n",
    "        \n",
    "       \n",
    "        ## PROCESSING BLOCK ##\n",
    "\n",
    "            \n",
    "        ##Simple Moving Average or \"filter\" dataframe:\n",
    "        ma = pd.DataFrame(data.iloc[:,0],columns=['index'])\n",
    "\n",
    "        window = bin_size\n",
    "        #Built in simple moving average function is applied to normal data and stored in dataframe \"ma\"\n",
    "        ma['X movement' ] = data.iloc[:,1].rolling(window=window).mean()\n",
    "        ma['Y movement'] = data.iloc[:,2].rolling(window=window).mean()\n",
    "        ma['X displacement (pixels)'] = data.iloc[:,3].rolling(window=window).mean()\n",
    "        ma['Y displacement (pixels)'] = data.iloc[:,4].rolling(window=window).mean()\n",
    "        ma['X displacement (nm)'] = data.iloc[:,5].rolling(window=window).mean()\n",
    "        ma['Y displacement (nm)'] = data.iloc[:,6].rolling(window=window).mean()\n",
    "        ma['Time (ms)'] = data.iloc[:,7].rolling(window=window).mean()\n",
    "\n",
    "        #This block delets the null spaces in the new dataframe and realigns the data\n",
    "        ma = ma.apply (pd.to_numeric, errors='coerce')\n",
    "        ma = ma.dropna()\n",
    "        ma = ma.reset_index(drop=True)\n",
    "       \n",
    "        \n",
    "        \n",
    "        \n",
    "        \n",
    "        \n",
    "        ##Downsampling dataframe:\n",
    "        da=pd.DataFrame(data.iloc[:,:])\n",
    "        #divide original index by sample size and round to nearest whole number to \n",
    "        #achieve new index number underwhich the origial index is stored\n",
    "        u= math.floor(frame_start/bin_size)\n",
    "        v= math.floor(frame_end/bin_size)\n",
    "\n",
    "        #isolate the column (if we print this it will show as a dataframe with 2 cols: indexes and time values)\n",
    "        daT_column=da.iloc[:,7]\n",
    "        daDY_column=da.iloc[:,6]\n",
    "        daDX_column=da.iloc[:,5]\n",
    "        daPY_column=da.iloc[:,4]\n",
    "        daPX_column=da.iloc[:,3]\n",
    "        daI_column=da.iloc[:,0]\n",
    "        daX_column=da.iloc[:,1]\n",
    "        daY_column=da.iloc[:,2]\n",
    "        #We just want the values in the column\n",
    "        daT = daT_column.values\n",
    "        daDY = daDY_column.values\n",
    "        daDX = daDX_column.values\n",
    "        daPY = daPY_column.values\n",
    "        daPX = daPX_column.values\n",
    "        daI = daI_column.values\n",
    "        daX = daX_column.values\n",
    "        daY= daY_column.values\n",
    "        #This function taken from https://stackoverflow.com/questions/10847660/subsampling-averaging-over-a-numpy-array\n",
    "        # allows us to downsample by averages over a set number \n",
    "        #(change 'n' to the number of values you want to average over)\n",
    "        def average(arr, n):\n",
    "            end =  n * int(len(arr)/n)\n",
    "            return np.mean(arr[:end].reshape(-1, n), 1)\n",
    "        #Takes a column from our 'da' dataframe and runs the function over it\n",
    "        #stores the new values in variables as an array (values in a row)\n",
    "\n",
    "        #assigning each new row to a varialble\n",
    "        Time = average(daT,bin_size)\n",
    "        Index = average(daI,bin_size)\n",
    "        Xda = average(daX,bin_size)\n",
    "        Yda = average(daY,bin_size)\n",
    "        Ydisnm = average(daDY,bin_size)\n",
    "        Xdisnm = average(daDX,bin_size)\n",
    "        YdisP = average(daPY,bin_size)\n",
    "        XdisP = average(daPX,bin_size)\n",
    "\n",
    "        #reshaping the data in a 1D column\n",
    "        TimeT = Time[:, np.newaxis]\n",
    "        YdisnmT = Ydisnm[:, np.newaxis]\n",
    "        XdisnmT = Xdisnm[:, np.newaxis]\n",
    "        YdisPT = YdisP[:, np.newaxis]\n",
    "        XdisPT = XdisP[:,np.newaxis]\n",
    "        XdaT = Xda[:, np.newaxis]\n",
    "        YdaT = Yda[:,np.newaxis]\n",
    "        IndexT = Index[:,np.newaxis]\n",
    "\n",
    "        #stores in a new dataframe 'dsa' for: downsampling average\n",
    "        dsa= pd.DataFrame(IndexT, columns=['index'])\n",
    "        #appending to our data frame\n",
    "        dsa['X movement'] = XdaT\n",
    "        dsa['Y movement'] = YdaT\n",
    "        dsa['X displacement (pixels)'] = XdisPT\n",
    "        dsa['Y displacement (pixels)'] = YdisPT\n",
    "        dsa['X displacement (nm)'] = XdisnmT \n",
    "        dsa['Y displacement (nm)'] = YdisnmT\n",
    "        dsa['Time (ms)'] = TimeT\n",
    "        \n",
    "        ## FOR MULTIPLE PLOTS\n",
    "        # Function for 2D plot parameters (called when user asks for multiple plots)\n",
    "        # the grid_plot graph type runs best when this function is defined here and is called under plot_type == grid_plot if statement\n",
    "        def do_plot(ax):\n",
    "            #regular graphing parameters for 2D graph (color of scatter, size, shape, tick marks, etc.)\n",
    "            colors = cm.Greens(np.linspace(0, 1, len(z)))\n",
    "            p=ax.scatter(x, y, c=colors)\n",
    "            #fig = plt.figure(figsize=(6,6), dpi=100)\n",
    "            tix = np.linspace(0,len(z),6)\n",
    "            #tix_c = tix*time_step\n",
    "            #cbar2.set_ticklabels(tix_c)\n",
    "            plt.axis('square')\n",
    "            plt.xticks(rotation=45)\n",
    "            if unit == \"pixel\":\n",
    "                ax.set_xlim(pixel_min, pixel_max) \n",
    "                ax.set_ylim(pixel_min, pixel_max)\n",
    "                ax.yaxis.set_major_locator(ticker.LinearLocator(axis_increment_pixel))# change to 5 for increments of .5\n",
    "                ax.xaxis.set_major_locator(ticker.LinearLocator(axis_increment_pixel))\n",
    "                ax.grid()\n",
    "            if unit == \"nm\":\n",
    "                ax.set_xlim(nm_min, nm_max) \n",
    "                ax.set_ylim(nm_min, nm_max)\n",
    "                ax.yaxis.set_major_locator(ticker.LinearLocator(axis_increment_nm))\n",
    "                ax.xaxis.set_major_locator(ticker.LinearLocator(axis_increment_nm))\n",
    "                ax.grid()\n",
    "\n",
    "        \n",
    "        #future processing methods to be added below:\n",
    "        \n",
    "        \n",
    "        \n",
    "        \n",
    "        \n",
    "        #DETERMINE PROCESSING AND UNIT TYPE:\n",
    "        #if more processing methods are to be added, an if statement must be\n",
    "        #added with a key word to select that data frame\n",
    "        # \"df\" becomes the variable used in the graphing block below\n",
    "        if processing == \"none\":\n",
    "            df = data\n",
    "        if processing == \"filter\":\n",
    "            df = ma\n",
    "        if processing == \"downsample\":\n",
    "            df = dsa\n",
    "            frame_start = math.floor(frame_start/bin_size)\n",
    "            frame_end = math.floor(frame_end/bin_size)\n",
    "        \n",
    "        \n",
    "        ### DATA PROCESSING FOR COORDINATE CONVERTION ###\n",
    "        #theta = (0,360) and thetac =(-infinity degrees, infinity degrees)\n",
    "        # radian to degree conversion\n",
    "        r2d = 180/np.pi\n",
    "        #arctan2 is the full unit circle conversion (-pi,pi) as opposed to (-pi/2,pi/2)\n",
    "      \n",
    "        df_filter =pd.DataFrame(df.iloc[:,0])\n",
    "        #find radius\n",
    "        df_filter['radius'] = np.power( np.power(df['Y displacement (pixels)'],2) + np.power(df['X displacement (pixels)'],2), 0.5 )\n",
    "        #find theta arctan2 is the full unit circle conversion (-pi,pi) as opposed to (-pi/2,pi/2)\n",
    "        df_filter['theta'] = -np.arctan2(df['Y displacement (pixels)'],df['X displacement (pixels)'])*r2d \n",
    "        df_filter['Time (ms)'] = df['Time (ms)']\n",
    "        # if r is greater than a certain value, the entire row of this dataframe is stored into the next dataframe\n",
    "        df_theta = df_filter.loc[df_filter['radius'] > 0.167].copy() # we conserve the other columns where the row meets the requirement\n",
    "        # need the .copy() at the end of the line above due to clarity, we want to alter the dataframe to make df_theta, not df_filter\n",
    "        #arctan2 is the full unit circle conversion (-pi,pi) as opposed to (-pi/2,pi/2)\n",
    "        #add 360 onto the 3rd and 4th quadrant values to make range from (0,360)\n",
    "        df_theta.loc[df_theta.theta < 0, ['theta']] += 360#df_theta is our (0,360) dataframe\n",
    "        \n",
    "         \n",
    "        \n",
    "        #make dataframe for angular continuous (base dataframe changes with user preferences)\n",
    "        angularc = pd.DataFrame(df_theta.iloc[:,2]) # df_theta.iloc[:,2] is the (0,360) theta range\n",
    "        angularc.columns = ['theta']\n",
    "        \n",
    "        #add a row of zeros at the top and reset index\n",
    "        zero_row = pd.DataFrame({'theta': 0}, index=[0])\n",
    "        angularc = pd.concat([zero_row, angularc]).reset_index(drop = True)\n",
    "        \n",
    "        # find displacement between rows (row[i+1]-row[i])\n",
    "        angularc['displacement'] = angularc.diff()# find displcement between rows\n",
    "        angularc= angularc.apply (pd.to_numeric, errors='coerce')\n",
    "        angularc = angularc.dropna() #drop the NANs if there are any\n",
    "        angularc = angularc.reset_index(drop=True) #reset the index\n",
    "        angular_vector = angularc['displacement'].values #store the dataframe into an array\n",
    "        angular_vectorT = angular_vector.T # transpose the array into a row vector\n",
    "        \n",
    "        \n",
    "        #Now we have displacement between rows\n",
    "        # if the displacement between two rows is greater than 180, subtract 360 (we assume the rotor went backward)\n",
    "        # if the displacement between two rows is less than 180, add 360 (we assume the rotor went forward)\n",
    "        # so we edit the displacement to reflect the rotor movement\n",
    "        \n",
    "        angular_vectorT[angular_vectorT >=(180)] -= 360\n",
    "        \n",
    "        angular_vectorT[angular_vectorT <=(-180)] += 360\n",
    "        \n",
    "        #angular_vectorT[sqrt(x**2+(y)**2) < 0.166] = NaN # get this to work\n",
    "        #df['Y displacement (pixels)']**2 + df['X displacement (pixels)']**2\n",
    "        \n",
    "        #store it back in a pandas dataframe\n",
    "        disp = angular_vectorT.T\n",
    "        cont_rotation = pd.DataFrame(disp, columns=['theta displacement correction'])\n",
    "        \n",
    "        # add a row of zeros to the top so we conserve the first row\n",
    "        zero_row = pd.DataFrame({'theta displacement correction': 0}, index=[0])\n",
    "        cont_rotation = pd.concat([zero_row, cont_rotation]).reset_index(drop = True)\n",
    "        #enact a culmulitive sum function that adds together all displacements that came before each row\n",
    "        cont_rotation['continuous theta'] = cont_rotation.cumsum()\n",
    "        #drop the NAN and or first row of zeros to start at the actual first data point\n",
    "        cont_rotation= cont_rotation.apply (pd.to_numeric, errors='coerce')\n",
    "        \n",
    "        cont_rotation = cont_rotation.dropna()\n",
    "        cont_rotation = cont_rotation.reset_index(drop=True)\n",
    "        cont_rotation.drop(index = cont_rotation.index[0], axis = 0, inplace = True)\n",
    "        cont_rotation = cont_rotation.reset_index(drop=True) # cont_rotation is our (-infinity,infinity) degree rotation dataframe\n",
    "        #Now we have a dataframe called cont_rotation that has 2 columns\n",
    "        # first column is displacement with the correction and second column is the culmulitive sum of the first col\n",
    "        # 'continuous theta' is the cumulitive sum of the displacements\n",
    "        \n",
    "        ## Something to look into ##\n",
    "        #the assumption there is that even though that jump looks like a backwards jump of ~175 degrees, it’s close enough to 180 degrees that the direction could have been mistaken.\n",
    "        #and if we are unsure if we are mistaken then let’s look at surrounding frames to get a hint for which direction it is going\n",
    "        #have to do this after calc theta culmulitive\n",
    "    \n",
    "        ## GRAPHING DATA ASSIGNMENT BLOCK##\n",
    "            \n",
    "        # Here the code determines the units of the graph, only for cartesian graphs   \n",
    "        if unit == \"pixel\":\n",
    "            x_unit = 3\n",
    "            y_unit = 4\n",
    "        if unit == \"nm\":\n",
    "            x_unit = 5\n",
    "            y_unit = 6\n",
    "        \n",
    "        #assign values of x y and z\n",
    "        x = df.iloc[frame_start:frame_end,x_unit] # move this outside this block to apply for all \"none\"\n",
    "        y = df.iloc[frame_start:frame_end,y_unit]\n",
    "        z = df.iloc[frame_start:frame_end,7] #col 7 is the time col \n",
    "       \n",
    "        #Assign theta(0,360), time, and theta(-infinity,infinity)-->(continuous degree rotation)\n",
    "        theta = df_theta.iloc[frame_start:frame_end,2]\n",
    "        t = df_theta.iloc[frame_start:frame_end,3]\n",
    "        \n",
    "        thetac = cont_rotation.iloc[frame_start:frame_end,1]\n",
    "        \n",
    "        #determine number of plots from amount of frames desired in each plot\n",
    "        j = int(math.ceil(len(df)/frames_per_plot))\n",
    "        if plot_type == 'grid':\n",
    "            print(*['number of plots:',j])\n",
    "        \n",
    "        #GRAPHING BLOCK\n",
    "            \n",
    "        if plot_type == \"2D\":\n",
    "            \n",
    "            fig = plt.figure(figsize=(6,6), dpi=100)\n",
    "            ax = fig.add_subplot(111) # this comand is here to take advantage of the \"axes\" plotting library\n",
    "\n",
    "            #color bar color scheme assignment, graph type, colorbar size and alignment\n",
    "            colors = cm.viridis(np.linspace(0, 1, len(z)))\n",
    "            p=ax.scatter(x, y, c=colors, alpha = 0.7)\n",
    "            cbar = plt.colorbar(p, label= z_axis_label ,shrink= .82) \n",
    "\n",
    "            #setting the ticks on the colorbar to span the length of the time column with 6 increments\n",
    "            cbar.set_ticks([0, 0.2, 0.4, 0.6, 0.8, 1]) \n",
    "\n",
    "            tix = np.linspace(0,len(z),6, dtype = int) # forces colorbar to show time in integers\n",
    "            tix_c = tix*time_step\n",
    "            cbar.set_ticklabels(tix_c) \n",
    "            plt.axis('square')\n",
    "            plt.xticks(rotation=45)\n",
    "\n",
    "            #set graph limit conditions depending on unit specified\n",
    "            if unit == \"pixel\":\n",
    "                ax.set_xlim(pixel_min, pixel_max) \n",
    "                ax.set_ylim(pixel_min, pixel_max)\n",
    "                ax.yaxis.set_major_locator(ticker.LinearLocator(axis_increment_pixel))\n",
    "                ax.xaxis.set_major_locator(ticker.LinearLocator(axis_increment_pixel))\n",
    "            if unit == \"nm\":\n",
    "                ax.set_xlim(nm_min, nm_max) \n",
    "                ax.set_ylim(nm_min, nm_max)\n",
    "                ax.yaxis.set_major_locator(ticker.LinearLocator(axis_increment_nm))\n",
    "                ax.xaxis.set_major_locator(ticker.LinearLocator(axis_increment_nm))\n",
    "\n",
    "\n",
    "\n",
    "\n",
    "            #axis labels and font configurations\n",
    "            ax.set_xlabel(x_axis_label, fontweight = 'bold', fontsize = 14)\n",
    "            ax.set_ylabel(y_axis_label, fontweight = 'bold', fontsize = 14)\n",
    "\n",
    "            # plot title and font configurations\n",
    "            plt.title(title , fontweight = 'bold', fontsize = 16)\n",
    "            \n",
    "            if save_plot == \"yes\":\n",
    "                plt.savefig(title+\"_2D.png\") #put title input and date time\n",
    "\n",
    "\n",
    "            \n",
    "        if plot_type == \"grid\":\n",
    "            i = 0\n",
    "            dfs = np.array_split(df,j) # splits large dataframe into \"j\" equal dataframes\n",
    "            #print (dfs[i]) #<--- command to print each dataframe # dataframe 0 is the first dataframe\n",
    "            \n",
    "            #this portion specifies subplot dimentions (N plots in 3 columns and amount of appropriate rows)\n",
    "            cols = columns\n",
    "            rows = int(math.ceil(j / cols)) #determining rows based on the number of graphs and columns\n",
    "\n",
    "            gs = gridspec.GridSpec(rows, cols, wspace = .25, hspace = .25)# disallows overlap\n",
    "            fig = plt.figure(figsize = (fig_size_x,fig_size_y))\n",
    "            \n",
    "            while i < j:\n",
    "                    \n",
    "                x = dfs[i].iloc[:,x_unit] \n",
    "                y = dfs[i].iloc[:,y_unit]\n",
    "                z = dfs[i].iloc[:,7]\n",
    "                ax = fig.add_subplot(gs[i])\n",
    "                do_plot(ax)\n",
    "                i+= 1\n",
    "                   \n",
    "            if save_plot == \"yes\":\n",
    "                \n",
    "                framestr = '{}'.format(frames_per_plot)\n",
    "                plt.savefig(title+'_'+framestr+'_frames_per_plot'+'_gridplot.png', dpi=300)\n",
    "\n",
    "        plt.show()\n",
    "        \n",
    "        \n",
    "        # Angular plot\n",
    "        \n",
    "        if plot_type == \"angular\":\n",
    "            import plotly.express as px\n",
    "\n",
    "            fig = px.scatter(x = t, y = theta, title = title, width=1000, height=500)\n",
    "           \n",
    "            fig.update_traces(hovertemplate='Time (ms): %{x} <br>Theta: %{y}')\n",
    "            \n",
    "        \n",
    "            fig.update_layout(\n",
    "            xaxis_title=\"Time (ms)\",\n",
    "            yaxis_title=\"Theta (degrees)\")\n",
    "            \n",
    "\n",
    "            fig.update_layout(\n",
    "            yaxis = dict(\n",
    "            tickmode = 'linear',\n",
    "            tick0 = 360,\n",
    "            dtick = 45))\n",
    "            fig.show()\n",
    "            \n",
    "            if save_plot == \"yes\":\n",
    "                fig.write_image(title+\"_angular.png\") \n",
    "\n",
    "           \n",
    "            \n",
    "        if plot_type == \"angular_continuous\":\n",
    "            \n",
    "            import plotly.express as px\n",
    "\n",
    "            \n",
    "            fig = px.line(x=t, y=thetac, title = 'Continuous Angular Rotation')\n",
    "            fig.update_traces(hovertemplate='Time (ms): %{x} <br>Theta: %{y}')\n",
    "            \n",
    "            fig.update_layout(\n",
    "            xaxis_title=\"Time (ms)\",\n",
    "            yaxis_title=\"Theta (degrees)\")\n",
    "            \n",
    "            fig.update_layout(\n",
    "            xaxis = dict(\n",
    "            tickmode = 'linear',\n",
    "            tick0 = 0,\n",
    "            dtick = 1000))\n",
    "            \n",
    "            fig.update_layout(\n",
    "            yaxis = dict(\n",
    "            tickmode = 'linear',\n",
    "            tick0 = -360,\n",
    "            dtick = 180))\n",
    "            \n",
    "            \n",
    "                        \n",
    "            fig.show()\n",
    "            if save_plot == \"yes\":\n",
    "                fig.write_image(title+\"_angular_continuous.png\") \n",
    "\n",
    "            \n",
    "        #This block plots a static 3D graph if prompt is met\n",
    "        if plot_type == \"3D\":\n",
    "\n",
    "\n",
    "            #This block splices the segments between data points and assigns each segment to a color\n",
    "            points = np.array([x,y,z]).transpose().reshape(-1,1,3)\n",
    "            segs = np.concatenate([points[:-1],points[1:]],axis=1)\n",
    "            lc = Line3DCollection(segs, cmap = plt.get_cmap('cool'))\n",
    "            lc.set_array(z)\n",
    "\n",
    "            #This block plots the figure at a specified size, in 3D configuration, sets axis range, gathers the \n",
    "            #colored segments from above, and assigns labels\n",
    "            fig = plt.figure(figsize=(8,8))\n",
    "            ax = fig.gca(projection = '3d')\n",
    "            ax.set_zlim(min(z), max(z))\n",
    "            if unit == \"pixel\":\n",
    "                ax.set_xlim(-1,1)\n",
    "                ax.set_ylim(-1,1)\n",
    "            if unit == \"nm\":\n",
    "                ax.set_xlim(-150,150)\n",
    "                ax.set_ylim(-150,150)\n",
    "            ax.add_collection3d(lc, zs=z, zdir='z')\n",
    "            plt.title(title , fontweight = 'bold', fontsize= 16)\n",
    "            ax.set_xlabel(x_axis_label, fontweight = 'bold', fontsize = 14)\n",
    "            ax.set_ylabel(y_axis_label , fontweight = 'bold', fontsize = 14)\n",
    "            ax.set_zlabel(z_axis_label, fontweight= 'bold' , fontsize =14)\n",
    "            \n",
    "            if save_plot == 'yes':\n",
    "                plt.savefig(title+'_3D.png',dpi=300)\n",
    "\n",
    "            plt.show()\n",
    "\n",
    "\n",
    "        if plot_type == \"interactive\":\n",
    "\n",
    "            #configure plot settings (currently called trace 1, may add more traces in the future)\n",
    "            trace1=go.Scatter3d(x=x,\n",
    "                                y=y,\n",
    "                                z=z,\n",
    "                                mode = \"lines\",\n",
    "                                name = 'Original',\n",
    "                                marker=dict(\n",
    "                                    size=4,\n",
    "                                    color='#e9ebf0',\n",
    "                                    opacity=0.7,\n",
    "                                    showscale=False,\n",
    "                                    colorbar=dict(\n",
    "                                        title='Time (ms)')),\n",
    "                                line=dict(\n",
    "                                    color='#e9ebf0',\n",
    "                                    width=2))\n",
    "            #assign traces\n",
    "            fig = go.Figure(data=[trace1])\n",
    "\n",
    "            #assign title\n",
    "            fig.update_layout(title= title)\n",
    "            #assign axis labels\n",
    "            fig.update_layout(scene = dict(\n",
    "                        xaxis_title= x_axis_label,\n",
    "                        yaxis_title= y_axis_label,\n",
    "                        zaxis_title= z_axis_label)) \n",
    "\n",
    "            #Here we can tweak the background color, grid color, and color of the origin for all axes/plane\n",
    "            fig.update_layout(scene = dict(\n",
    "                        xaxis = dict(\n",
    "                             backgroundcolor=\"black\",\n",
    "                             gridcolor=\"gray\",\n",
    "                             showbackground=True,\n",
    "                             zerolinecolor=\"white\",),\n",
    "                        yaxis = dict(\n",
    "                            backgroundcolor=\"black\",\n",
    "                            gridcolor=\"gray\",\n",
    "                            showbackground=True,\n",
    "                            zerolinecolor=\"white\"),\n",
    "                        zaxis = dict(\n",
    "                            backgroundcolor=\"black\",\n",
    "                            gridcolor=\"gray\",\n",
    "                            showbackground=True,\n",
    "                            zerolinecolor=\"white\"),),\n",
    "                      )\n",
    "\n",
    "            #size and aspect ratio of the graph and the default camera zoom and angle \n",
    "            fig.update_layout(\n",
    "            width=800,\n",
    "            height=700,\n",
    "            autosize=False,\n",
    "            scene=dict(\n",
    "            camera=dict(\n",
    "                up=dict(\n",
    "                    x=0,\n",
    "                    y=0,\n",
    "                    z=1\n",
    "                ),\n",
    "                eye=dict(\n",
    "                    x=1,\n",
    "                    y=2,\n",
    "                    z=2,\n",
    "                )\n",
    "            ),\n",
    "            aspectratio = dict( x=1, y=1, z=4 ),\n",
    "            aspectmode = 'manual'\n",
    "            ),\n",
    "            )\n",
    "            \n",
    "            \n",
    "\n",
    "            fig.show()\n",
    "            \n",
    "            ## Easter Egg slider plot, cudos to the person who can get this to work properly ##\n",
    "        if plot_type == 'slider':\n",
    "            \n",
    "            %matplotlib notebook\n",
    "            #reassigning to a dataframe, setting up axis with empty list, aspect ratio\n",
    "            coord = pd.DataFrame(x)\n",
    "            coord.columns = ['x']\n",
    "            coord['y'] = y\n",
    "            fig = plt.figure()\n",
    "            ax = fig.add_subplot(111)\n",
    "            scat = ax.scatter(coord.x.values,coord.y.values) \n",
    "            plt.axis('square')\n",
    "\n",
    "            \n",
    "            # chosing units\n",
    "            if unit == \"pixel\":\n",
    "                    ax.set_xlim(pixel_min, pixel_max) \n",
    "                    ax.set_ylim(pixel_min, pixel_max)\n",
    "                    ax.yaxis.set_major_locator(ticker.LinearLocator(axis_increment_pixel))# change to 5 for increments of .5\n",
    "                    ax.xaxis.set_major_locator(ticker.LinearLocator(axis_increment_pixel))\n",
    "                    ax.grid()\n",
    "            if unit == \"nm\":\n",
    "                    ax.set_xlim(nm_min, nm_max) \n",
    "                    ax.set_ylim(nm_min, nm_max)\n",
    "                    ax.yaxis.set_major_locator(ticker.LinearLocator(axis_increment_nm))\n",
    "                    ax.xaxis.set_major_locator(ticker.LinearLocator(axis_increment_nm))\n",
    "                    ax.grid()\n",
    "            ax.set_xlabel(x_axis_label, fontweight = 'bold', fontsize = 12)\n",
    "            ax.set_ylabel(y_axis_label, fontweight = 'bold', fontsize = 12)\n",
    "\n",
    "            # plot title and font configurations\n",
    "            plt.title(title , fontweight = 'bold', fontsize = 16)\n",
    "            \n",
    "\n",
    "            axslider = plt.axes([0.125, 0.01, 0.775, 0.05])\n",
    "            slider = Slider(axslider,'test', valmin=tail_length, valmax=1400, valinit=1, valstep=1, color = 'green')\n",
    "            scat.set_offsets(np.c_[0,0])\n",
    "            \n",
    "            def update(val):\n",
    "                \n",
    "                \n",
    "                i = int(slider.val)\n",
    "                scat.set_offsets(np.c_[coord.x.values[i-tail_length:i],coord.y.values[i-tail_length:i]])\n",
    "                cmap = plt.cm.Greens\n",
    "                norm = plt.Normalize(vmin=0, vmax=10)\n",
    "                z = np.array(range(tail_length))\n",
    "                \n",
    "                c = cmap(norm(z))\n",
    "                scat.set_color(c)\n",
    "                fig.canvas.draw_idle()\n",
    "                print('test')\n",
    "                return fig, scat,\n",
    "            \n",
    "            slider.on_changed(update)\n",
    "\n",
    "\n",
    "            plt.show()\n",
    "        if plot_type == 'slider':\n",
    "            plt.show()\n",
    "            return scat, slide, fig\n",
    "            \n",
    "        \n",
    "        if plot_type == \"animated\" or plot_type == 'HTML':\n",
    "            # allows for animation to animate\n",
    "            %matplotlib notebook\n",
    "            #reassigning to a dataframe, setting up axis with empty list, aspect ratio\n",
    "            coord = pd.DataFrame(x)\n",
    "            coord.columns = ['x']\n",
    "            coord['y'] = y\n",
    "            fig = plt.figure()\n",
    "            ax = fig.add_subplot(111)\n",
    "            sc = ax.scatter([], [])\n",
    "            plt.axis('square')\n",
    "            \n",
    "            # chosing units\n",
    "            if unit == \"pixel\":\n",
    "                    ax.set_xlim(pixel_min, pixel_max) \n",
    "                    ax.set_ylim(pixel_min, pixel_max)\n",
    "                    ax.yaxis.set_major_locator(ticker.LinearLocator(axis_increment_pixel))# change to 5 for increments of .5\n",
    "                    ax.xaxis.set_major_locator(ticker.LinearLocator(axis_increment_pixel))\n",
    "                    ax.grid()\n",
    "            if unit == \"nm\":\n",
    "                    ax.set_xlim(nm_min, nm_max) \n",
    "                    ax.set_ylim(nm_min, nm_max)\n",
    "                    ax.yaxis.set_major_locator(ticker.LinearLocator(axis_increment_nm))\n",
    "                    ax.xaxis.set_major_locator(ticker.LinearLocator(axis_increment_nm))\n",
    "                    ax.grid()\n",
    "            ax.set_xlabel(x_axis_label, fontweight = 'bold', fontsize = 12)\n",
    "            ax.set_ylabel(y_axis_label, fontweight = 'bold', fontsize = 12)\n",
    "\n",
    "            # plot title and font configurations\n",
    "            plt.title(title , fontweight = 'bold', fontsize = 16)\n",
    "\n",
    "\n",
    "\n",
    "\n",
    "\n",
    "            # animation function feeds a window of dataframe values into the graphing function at a time,\n",
    "            # iterates over user specified range in dataframe with user specified tail length\n",
    "            # color of animation is also specified here\n",
    "            def animate(count):\n",
    "                sc.set_offsets(np.c_[coord.x.values[count-tail_length:count],coord.y.values[count-tail_length:count]])\n",
    "                cmap = plt.cm.Greens\n",
    "                norm = plt.Normalize(vmin=0, vmax=tail_length)\n",
    "                z = np.array(range(tail_length))\n",
    "                c = cmap(norm(z))\n",
    "                sc.set_color(c)\n",
    "                #button_ax = plt.axes([.78, .87, .1, .07]) # creates an outline for a potential button\n",
    "               \n",
    "                return sc\n",
    "\n",
    "            ani = FuncAnimation(fig, animate, interval= frame_speed, frames = len(coord)) #frames=len(df)\n",
    "            #ani.toggle(ax=button_ax)# potential button toggle for a potential button ;)\n",
    "            if save_plot == 'yes':\n",
    "                \n",
    "                ani.save(title+'_animation_gif.gif', writer='pillow', fps=10, dpi=100)\n",
    "\n",
    "\n",
    "\n",
    "\n",
    "\n",
    "            plt.tight_layout()\n",
    "            plt.show()\n",
    "            # With out the added if statement below, the animated plot will not animate \n",
    "            #(due to being a nested function)\n",
    "        if plot_type == 'animated': \n",
    "\n",
    "                \n",
    "\n",
    "            return ani\n",
    "        # \n",
    "        if plot_type == 'HTML':\n",
    "            plt.close('all')\n",
    "            if save_plot == 'yes':\n",
    "                with open(title+\"_animation_html.html\", \"w\") as f:\n",
    "                    print(ani.to_jshtml(), file=f)\n",
    "            return HTML(ani.to_jshtml())\n",
    "        \n",
    "\n",
    "            \n",
    "        \n",
    "           \n",
    "\n",
    "\n",
    "\n",
    "\n",
    "        \n",
    "DORA(**parameters)"
   ]
  },
  {
   "cell_type": "code",
   "execution_count": null,
   "id": "646bd52b",
   "metadata": {},
   "outputs": [],
   "source": []
  }
 ],
 "metadata": {
  "kernelspec": {
   "display_name": "origami",
   "language": "python",
   "name": "origami"
  },
  "language_info": {
   "codemirror_mode": {
    "name": "ipython",
    "version": 3
   },
   "file_extension": ".py",
   "mimetype": "text/x-python",
   "name": "python",
   "nbconvert_exporter": "python",
   "pygments_lexer": "ipython3",
   "version": "3.9.7"
  }
 },
 "nbformat": 4,
 "nbformat_minor": 5
}
