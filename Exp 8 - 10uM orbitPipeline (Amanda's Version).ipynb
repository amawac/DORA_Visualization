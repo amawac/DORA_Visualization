{
 "cells": [
  {
   "cell_type": "markdown",
   "id": "e3627ba8",
   "metadata": {},
   "source": [
    "# RUN THE BOTTOM CHUNK OF CODE AS SOON AS YOU OPEN THIS "
   ]
  },
  {
   "cell_type": "markdown",
   "id": "6f9e3f71",
   "metadata": {},
   "source": [
    "Scroll to the bottom and run the two large cells that say HEY RUN THIS and HEY RUN THIS 2!!!\n",
    "\n",
    "Sorry this is painful it has to do with the fact that juypter notebooks can't call things like plotting in line (matplotlib) or generating windows(cv2) from a .py  they need to be defined in the notebook as as far as I know. \n"
   ]
  },
  {
   "cell_type": "markdown",
   "id": "150688fe",
   "metadata": {},
   "source": [
    "## common troubleshooting solutions:\n",
    "\n",
    "1. make sure your file paths use these slashes / and end with a / \n",
    "2. make sure you run the two blocks of code at the bottom\n",
    "3. are you in the righ file paths?\n",
    "4. is your info file the same name as your tif file?\n",
    "\n",
    "### NOTE: This is a 'cleaned' copy of the OMM_Analysis from the lab's github I made from running data from ONI using TIFF files. If you have something  else, this is not for you.   \n",
    "  \n",
    "    "
   ]
  },
  {
   "cell_type": "code",
   "execution_count": 5,
   "id": "f6e02234",
   "metadata": {
    "scrolled": false
   },
   "outputs": [
    {
     "name": "stdout",
     "output_type": "stream",
     "text": [
      "ffptif started at 2022-03-31 11:08:12 on file: D:/Amanda/OMM_Analysis/OMM_Analysis/DATA/20220331_Proflavine_Base2DORBIT_exp8/IB_10hz_10laser_10uM_on/pos_0/Proflavine_Base2DORBIT_exp8_IB_10hz_10laser_10uM_on_posXY0_channels_t0_posZ0\n",
      "x pixels: 428. y pixels: 684 r 64\n",
      "xcrop: 384. ycrop: 640 for bk size 64\n",
      "number sets: 1\n",
      "working on 0\n",
      "frame: 0 at 2022-03-31 11:08:14 -- no_good = 52. no_keep = 230\n",
      "based on intensity, keeping 42 out of 52 spots\n",
      "there were 42 events\n",
      "average event length: 100.000000\n",
      "median event length: 100.000000\n",
      "done at 2022-03-31 11:08:14\n",
      "automatically calling aptif\n",
      "apdax started at 2022-03-31 11:08:14 on file: D:/Amanda/OMM_Analysis/OMM_Analysis/DATA/20220331_Proflavine_Base2DORBIT_exp8/IB_10hz_10laser_10uM_on/pos_0/Proflavine_Base2DORBIT_exp8_IB_10hz_10laser_10uM_on_posXY0_channels_t0_posZ0\n",
      "ignoring bounds from peak picking...\n",
      "42  events were found in file (after filtering, if applicable)\n",
      "working on : 0 999at 2022-03-31 11:08:15\n",
      "saving complete .trdir at 2022-03-31 11:08:58\n",
      "number of peaks: 42\n",
      "Generating 2D histograms starting at 2022-03-31 11:08:58on D:/Amanda/OMM_Analysis/OMM_Analysis/DATA/20220331_Proflavine_Base2DORBIT_exp8/IB_10hz_10laser_10uM_on/pos_0/Proflavine_Base2DORBIT_exp8_IB_10hz_10laser_10uM_on_posXY0_channels_t0_posZ0trdir\n",
      "working on trace 0\n",
      "Done generating 2D histograms at 2022-03-31 11:08:58on D:/Amanda/OMM_Analysis/OMM_Analysis/DATA/20220331_Proflavine_Base2DORBIT_exp8/IB_10hz_10laser_10uM_on/pos_0/Proflavine_Base2DORBIT_exp8_IB_10hz_10laser_10uM_on_posXY0_channels_t0_posZ0trdir\n",
      "apdax done at 2022-03-31 11:08:58 on file: D:/Amanda/OMM_Analysis/OMM_Analysis/DATA/20220331_Proflavine_Base2DORBIT_exp8/IB_10hz_10laser_10uM_on/pos_0/Proflavine_Base2DORBIT_exp8_IB_10hz_10laser_10uM_on_posXY0_channels_t0_posZ0\n"
     ]
    },
    {
     "data": {
      "image/png": "[encoded data removed]",
      "text/plain": [
       "<Figure size 432x288 with 1 Axes>"
      ]
     },
     "metadata": {
      "needs_background": "light"
     },
     "output_type": "display_data"
    }
   ],
   "source": [
    "import sys\n",
    "\n",
    "sys.path.append('D:/Amanda/OMM_Analysis/OMM_Analysis/sma/') #if you are not amanda, change to your sma file path (found in zipfile downloaded from github)\n",
    "\n",
    "from ffpdax import ffp_dax\n",
    "from ffptif import ffp_tif\n",
    "\n",
    "analysisPath='D:/Amanda/OMM_Analysis/OMM_Analysis/DATA/20220331_Proflavine_Base2DORBIT_exp8/IB_10hz_10laser_10uM_on/pos_0/' \n",
    "\n",
    "xmlName='ORBIT_Analysis_Settings'\n",
    "\n",
    "analysisName='Proflavine_Base2DORBIT_exp8_IB_10hz_10laser_10uM_on_posXY0_channels_t0_posZ0'\n",
    "\n",
    "xmlFilename=analysisPath+xmlName\n",
    "filename=analysisPath+analysisName\n",
    "ffp_tif(filename,xmlFilename)"
   ]
  },
  {
   "cell_type": "code",
   "execution_count": 6,
   "id": "77b7760b",
   "metadata": {},
   "outputs": [],
   "source": [
    "import os\n",
    "newpath = filename+'trcsv'\n",
    "if not os.path.exists(newpath):\n",
    "    os.makedirs(newpath)    #makes a new folder in with same name as filename but ending in trcsv\n",
    "    \n",
    "from tr2csv import tr_2csv\n",
    "tr_2csv(filename)           #Generates CSV file from .tr files      "
   ]
  },
  {
   "cell_type": "markdown",
   "id": "4be8d4a4",
   "metadata": {},
   "source": [
    "## 2D histogram stuff\n",
    "\n"
   ]
  },
  {
   "cell_type": "code",
   "execution_count": 7,
   "id": "5fb6b420",
   "metadata": {
    "scrolled": true
   },
   "outputs": [
    {
     "name": "stdout",
     "output_type": "stream",
     "text": [
      "Number of peaks\n",
      "42\n"
     ]
    },
    {
     "data": {
      "text/plain": [
       "42"
      ]
     },
     "execution_count": 7,
     "metadata": {},
     "output_type": "execute_result"
    }
   ],
   "source": [
    "import numpy as np\n",
    "\n",
    "histInfoName=filename+'trdir/histpar' # opens the infromation file\n",
    "histInfoFile = open(histInfoName+'.info','rb')\n",
    "histInfo=np.fromfile(histInfoFile,dtype='int32')\n",
    "histInfoFile.close()\n",
    "print(\"Number of peaks\")\n",
    "print(histInfo[3])\n",
    "histInfo[3]"
   ]
  },
  {
   "cell_type": "code",
   "execution_count": 8,
   "id": "bc6b5fb5",
   "metadata": {},
   "outputs": [
    {
     "name": "stdout",
     "output_type": "stream",
     "text": [
      "57.0\n"
     ]
    }
   ],
   "source": [
    "print(16416/16/18) # i think this is just to make sure it runs, im scared to remove it lol\n",
    "\n",
    "#display settings for tracjectories\n",
    "histPerCol=7\n",
    "histPerRow=6"
   ]
  },
  {
   "cell_type": "code",
   "execution_count": 9,
   "id": "b4a3f5b3",
   "metadata": {
    "scrolled": true
   },
   "outputs": [
    {
     "name": "stdout",
     "output_type": "stream",
     "text": [
      "[  41    0 1000]\n",
      "[  41    0 1000]\n",
      "[  40    0 1000]\n",
      "[  40    0 1000]\n",
      "[  35    0 1000]\n",
      "[  35    0 1000]\n",
      "[  36    0 1000]\n",
      "[  36    0 1000]\n",
      "[  37    0 1000]\n",
      "[  37    0 1000]\n",
      "[  38    0 1000]\n",
      "[  38    0 1000]\n",
      "[  30    0 1000]\n",
      "[  30    0 1000]\n",
      "[  31    0 1000]\n",
      "[  31    0 1000]\n",
      "[  34    0 1000]\n",
      "[  34    0 1000]\n",
      "[  24    0 1000]\n",
      "[  24    0 1000]\n",
      "[  27    0 1000]\n",
      "[  27    0 1000]\n",
      "[  19    0 1000]\n",
      "[  19    0 1000]\n",
      "[  20    0 1000]\n",
      "[  20    0 1000]\n",
      "[  18    0 1000]\n",
      "[  18    0 1000]\n",
      "[  17    0 1000]\n",
      "[  17    0 1000]\n",
      "[  16    0 1000]\n",
      "[  16    0 1000]\n",
      "[  15    0 1000]\n",
      "[  15    0 1000]\n",
      "[  14    0 1000]\n",
      "[  14    0 1000]\n",
      "[   8    0 1000]\n",
      "[   8    0 1000]\n",
      "[   9    0 1000]\n",
      "[   9    0 1000]\n",
      "[  10    0 1000]\n",
      "[  10    0 1000]\n",
      "[  11    0 1000]\n",
      "[  11    0 1000]\n",
      "[  12    0 1000]\n",
      "[  12    0 1000]\n",
      "[  13    0 1000]\n",
      "[  13    0 1000]\n",
      "pk, t1 ,t2\n",
      "[[  41    0 1000]\n",
      " [  41    0 1000]\n",
      " [  40    0 1000]\n",
      " [  40    0 1000]\n",
      " [  35    0 1000]\n",
      " [  35    0 1000]\n",
      " [  36    0 1000]\n",
      " [  36    0 1000]\n",
      " [  37    0 1000]\n",
      " [  37    0 1000]\n",
      " [  38    0 1000]\n",
      " [  38    0 1000]\n",
      " [  30    0 1000]\n",
      " [  30    0 1000]\n",
      " [  31    0 1000]\n",
      " [  31    0 1000]\n",
      " [  34    0 1000]\n",
      " [  34    0 1000]\n",
      " [  24    0 1000]\n",
      " [  24    0 1000]\n",
      " [  27    0 1000]\n",
      " [  27    0 1000]\n",
      " [  19    0 1000]\n",
      " [  19    0 1000]\n",
      " [  20    0 1000]\n",
      " [  20    0 1000]\n",
      " [  18    0 1000]\n",
      " [  18    0 1000]\n",
      " [  17    0 1000]\n",
      " [  17    0 1000]\n",
      " [  16    0 1000]\n",
      " [  16    0 1000]\n",
      " [  15    0 1000]\n",
      " [  15    0 1000]\n",
      " [  14    0 1000]\n",
      " [  14    0 1000]\n",
      " [   8    0 1000]\n",
      " [   8    0 1000]\n",
      " [   9    0 1000]\n",
      " [   9    0 1000]\n",
      " [  10    0 1000]\n",
      " [  10    0 1000]\n",
      " [  11    0 1000]\n",
      " [  11    0 1000]\n",
      " [  12    0 1000]\n",
      " [  12    0 1000]\n",
      " [  13    0 1000]\n",
      " [  13    0 1000]]\n"
     ]
    }
   ],
   "source": [
    "#when you run this, you should get a pop up window. check your windows bar at the bottom of the deskstop  \n",
    "import numpy as np\n",
    "from PIL import Image\n",
    "import argparse\n",
    "import cv2\n",
    "\n",
    "\n",
    "[refptnp,refsc,refcol,sum_of_rows, out]=disp_hist(filename,histPerCol,histPerRow) #change for dax\n",
    "print('pk, t1 ,t2')\n",
    "print(out)\n"
   ]
  },
  {
   "cell_type": "code",
   "execution_count": 147,
   "id": "8a388159",
   "metadata": {},
   "outputs": [],
   "source": [
    "#Remeber python indexs from 0 so if you want your first selection to be the peak you analyze pick 0\n",
    "#also the peaks go in paired sets, the first two selections will be \"peak 0\"\n",
    "\n",
    "chosenpk=21"
   ]
  },
  {
   "cell_type": "code",
   "execution_count": 148,
   "id": "e8bc7d91",
   "metadata": {},
   "outputs": [
    {
     "name": "stdout",
     "output_type": "stream",
     "text": [
      "Peak: 00011\n",
      "Start: 0\n",
      "End: 1000\n"
     ]
    }
   ],
   "source": [
    "pk=str(out[chosenpk*2,0]).zfill(5)\n",
    "frStart=out[chosenpk*2,1]\n",
    "frEnd=out[((chosenpk*2)+1),2] \n",
    "print(\"Peak: \"+pk)\n",
    "print(\"Start: \"+str(frStart))\n",
    "print(\"End: \"+str(frEnd))"
   ]
  },
  {
   "cell_type": "code",
   "execution_count": 156,
   "id": "516947f3",
   "metadata": {},
   "outputs": [],
   "source": [
    "#manual\n",
    "pk=str('00038')\n",
    "frStart=0\n",
    "frEnd=999"
   ]
  },
  {
   "cell_type": "code",
   "execution_count": 153,
   "id": "219c5bea",
   "metadata": {},
   "outputs": [
    {
     "name": "stdout",
     "output_type": "stream",
     "text": [
      "D:/Amanda/OMM_Analysis/OMM_Analysis/DATA/20220331_Proflavine_Base2DORBIT_exp8/IB_10hz_10laser_10uM_on/pos_0/Proflavine_Base2DORBIT_exp8_IB_10hz_10laser_10uM_on_posXY0_channels_t0_posZ0trcsv/00038.csv\n"
     ]
    }
   ],
   "source": [
    "\n",
    "title='Exp 8 - 10uM on - Peak ' +pk\n",
    "\n",
    "csvpath=filename+'trcsv/'\n",
    "\n",
    "\n",
    "csvnum=csvpath+pk+'.csv'\n",
    "\n",
    "print(csvnum)"
   ]
  },
  {
   "cell_type": "markdown",
   "id": "514e28d6",
   "metadata": {},
   "source": [
    "## Graphing Paramaters below\n",
    "#if anyone knows how to code this so allow us to save stuff in the folder that'd be super cool\n",
    "    "
   ]
  },
  {
   "cell_type": "code",
   "execution_count": 157,
   "id": "223c6a98",
   "metadata": {},
   "outputs": [
    {
     "name": "stdout",
     "output_type": "stream",
     "text": [
      "filename: D:/Amanda/OMM_Analysis/OMM_Analysis/DATA/20220331_Proflavine_Base2DORBIT_exp8/IB_10hz_10laser_10uM_on/pos_0/Proflavine_Base2DORBIT_exp8_IB_10hz_10laser_10uM_on_posXY0_channels_t0_posZ0trcsv/00038.csv    |  pixel_size: 117  |  time_step: 100\n",
      "frame_start: 0  |    frame_end: 400  |  bin_size: 3\n",
      "processing: none  |  plot_type: 2D  |  title: Exp 8 - 10uM on - Peak 00038\n",
      "X_axis_label: x (nm)  |  Y_axis_label: y (nm)  |  Z_axis_label: Time (ms)\n"
     ]
    },
    {
     "data": {
      "image/png": "[encoded data removed]",
      "text/plain": [
       "<Figure size 600x600 with 2 Axes>"
      ]
     },
     "metadata": {
      "needs_background": "light"
     },
     "output_type": "display_data"
    }
   ],
   "source": [
    "#### you might need to change the time step: 10hz= 100 ms, 100hz = 10ms\n",
    "parameters = {\n",
    "'file_name': csvnum, #100521_analysis 103018_analysis\n",
    "'pixel_size': 117, # in nanometers\n",
    "'time_step': 100, # in miliseconds\n",
    "'frame_start':frStart, # enter 0 to start from beginning of dataset\n",
    "'frame_end':400, #frEnd, # enter -1 to end at the last value of the data set\n",
    "'bin_size': 3, # bin size for downsample/filter processing\n",
    "'processing': \"none\", # enter downsample, filter, or none\n",
    "'plot_type': \"2D\", # enter 2D, 3D, grid, angular, angular_continuous, interactive or animated \n",
    "'title': title,\n",
    "'x_axis_label': \"x (nm)\",\n",
    "'y_axis_label': \"y (nm)\",\n",
    "'z_axis_label': \"Time (ms)\",\n",
    "'unit': \"nm\",  # enter pixel or nm \n",
    "'frames_per_plot': 25, #refers to grid plot\n",
    "'columns': 7,# columns of plots (grid plot)\n",
    "'frame_speed': 10, # for animation only\n",
    "'tail_length': 10, # for animation only\n",
    "'pixel_min': -0.75,\n",
    "'pixel_max': 0.75,\n",
    "'axis_increment_pixel': 7, #change axis increments for nicely fitting tick marks (pixel)\n",
    "'nm_min': -150,\n",
    "'nm_max': 150,\n",
    "'axis_increment_nm': 7, #change axis increments for nicely fitting tick marks (nm)\n",
    "'fig_size_x':40, #adjust display parameters for graphs to fit nicely, mostly used for multi_plot \n",
    "'fig_size_y': 40}  \n",
    "\n",
    "display_trajectory_v5(**parameters)"
   ]
  },
  {
   "cell_type": "code",
   "execution_count": 155,
   "id": "089fdd81",
   "metadata": {},
   "outputs": [
    {
     "name": "stdout",
     "output_type": "stream",
     "text": [
      "filename: D:/Amanda/OMM_Analysis/OMM_Analysis/DATA/20220331_Proflavine_Base2DORBIT_exp8/IB_10hz_10laser_10uM_on/pos_0/Proflavine_Base2DORBIT_exp8_IB_10hz_10laser_10uM_on_posXY0_channels_t0_posZ0trcsv/00038.csv    |  pixel_size: 117  |  time_step: 100\n",
      "frame_start: 0  |    frame_end: 169  |  bin_size: 3\n",
      "processing: none  |  plot_type: angular_continuous  |  title: Exp 8 - 10uM on - Peak 00038\n",
      "X_axis_label: x (nm)  |  Y_axis_label: y (nm)  |  Z_axis_label: Time (ms)\n"
     ]
    },
    {
     "data": {
      "application/vnd.plotly.v1+json": {
       "config": {
        "plotlyServerURL": "https://plot.ly"
       },
       "data": [
        {
         "hovertemplate": "Time (ms): %{x} <br>Theta: %{y}",
         "legendgroup": "",
         "line": {
          "color": "#636efa",
          "dash": "solid"
         },
         "marker": {
          "symbol": "circle"
         },
         "mode": "lines",
         "name": "",
         "orientation": "v",
         "showlegend": false,
         "type": "scatter",
         "x": [
          0,
          100,
          200,
          300,
          400,
          500,
          600,
          700,
          800,
          900,
          1000,
          1100,
          1200,
          1300,
          1400,
          1500,
          1600,
          1700,
          1800,
          1900,
          2000,
          2100,
          2200,
          2300,
          2400,
          2500,
          2600,
          2700,
          2800,
          2900,
          3000,
          3100,
          3200,
          3300,
          3400,
          3500,
          3600,
          3700,
          3800,
          3900,
          4000,
          4100,
          4200,
          4300,
          4400,
          4500,
          4600,
          4700,
          4800,
          4900,
          5000,
          5100,
          5200,
          5300,
          5400,
          5500,
          5600,
          5700,
          5800,
          5900,
          6000,
          6100,
          6200,
          6300,
          6400,
          6500,
          6600,
          6700,
          6800,
          6900,
          7000,
          7100,
          7200,
          7300,
          7400,
          7500,
          7600,
          7700,
          7800,
          7900,
          8000,
          8100,
          8200,
          8300,
          8400,
          8500,
          8600,
          8700,
          8800,
          8900,
          9000,
          9100,
          9200,
          9300,
          9400,
          9500,
          9600,
          9700,
          9800,
          9900,
          10000,
          10100,
          10200,
          10300,
          10400,
          10500,
          10600,
          10700,
          10800,
          10900,
          11000,
          11100,
          11200,
          11300,
          11400,
          11500,
          11600,
          11700,
          11800,
          12000,
          12100,
          12200,
          12300,
          12400,
          12500,
          12600,
          12800,
          12900,
          13100,
          13200,
          13300,
          13400,
          13500,
          13600,
          13700,
          13800,
          13900,
          14000,
          14100,
          14200,
          14300,
          14400,
          14500,
          14600,
          14700,
          14900,
          15000,
          15100,
          15200,
          15300,
          15400,
          15500,
          15600,
          15800,
          15900,
          16000,
          16100,
          16200,
          16300,
          16400,
          16600,
          16800,
          16900,
          17000,
          17100,
          17200,
          17300,
          17400,
          17500
         ],
         "xaxis": "x",
         "y": [
          7.486917109986019,
          9.3667958561981,
          11.395830388266853,
          12.003409427627709,
          10.668927127481709,
          12.96757764060256,
          19.365279594762697,
          15.140638034993115,
          12.261058944682494,
          21.919971435751656,
          12.439336699056938,
          8.023624340081117,
          10.285723751882873,
          12.596553375708604,
          10.286233481446166,
          10.510683716199464,
          10.673774946216817,
          10.455078625869646,
          8.90919240699309,
          7.66832798099257,
          13.141841583434882,
          9.330846118618,
          13.332789453723972,
          15.684693577757518,
          15.233907373436956,
          18.03318406425668,
          21.528859459234898,
          32.296369913145625,
          18.780527387345263,
          24.186798675879363,
          17.502165383138976,
          10.37779051800172,
          12.58287963161903,
          19.52123098126463,
          16.78886442255221,
          26.619325670144114,
          21.024195893535317,
          15.825046298801883,
          18.3461014353773,
          8.60666589406199,
          21.094595611489783,
          19.569501048705497,
          19.755520330231647,
          19.092739824341827,
          5.382141574156776,
          1.7385846345017772,
          12.009408745744746,
          8.961043611689878,
          14.62174898908267,
          20.31139446364492,
          17.781151021986258,
          12.714542142390801,
          9.328503093015913,
          13.203853044044392,
          8.127834948924805,
          11.306035949920405,
          8.831636764440123,
          8.096168261993565,
          9.732330808076561,
          12.626434983656427,
          18.43597622849645,
          25.54901200807467,
          19.403801543406583,
          15.435303181094882,
          17.10567598375686,
          23.298782851175805,
          19.28297735116184,
          18.065458231938454,
          26.44770604357901,
          26.96190783793249,
          26.61008238120647,
          24.87315955624069,
          25.781983010534738,
          22.97755518833583,
          28.159998776020466,
          24.42439989461141,
          21.029181631576158,
          19.45811224784112,
          20.77750274529189,
          19.030034372726426,
          22.346858309168486,
          25.269230910243536,
          21.699958301873036,
          19.292630341981678,
          13.032071959592589,
          12.724472474102068,
          21.22249604702063,
          13.59358814540948,
          21.16707214227989,
          18.172513815241675,
          23.324566425599407,
          22.21675971619878,
          20.156455528552875,
          26.034250558131195,
          17.58798224373473,
          13.229655648983835,
          22.944467550360944,
          25.748076650538312,
          18.301195422865213,
          17.006338649562068,
          18.645049486069627,
          16.455726004307735,
          14.673525053216682,
          11.559923988913699,
          13.893678235490935,
          13.054234478631145,
          12.796783852159193,
          4.902209898897376,
          11.55763610575622,
          11.240191897623445,
          15.243907151441618,
          12.966633723943179,
          15.7644683046972,
          18.392691040667916,
          11.67634912731381,
          12.169202444694042,
          12.014165250917376,
          67.07656215280691,
          119.42943303565788,
          167.01152962733678,
          147.4509204006422,
          123.34047895615578,
          238.6676028484078,
          153.28269916268357,
          235.85733220944996,
          150.244619109136,
          174.12434690917087,
          160.8198361915381,
          170.91028715295158,
          180.1793172006976,
          212.5110953836078,
          201.53068151206148,
          61.39628061507577,
          170.0098859799894,
          89.3138938635117,
          171.5515856014683,
          141.74807277822038,
          154.7860643509664,
          189.78582709078395,
          125.30168517075657,
          137.94582847382424,
          142.2253534893419,
          194.96058144502896,
          46.864051533788256,
          201.8074773832314,
          120.79272167302084,
          206.6221287659725,
          171.70753600040118,
          176.67045985256004,
          171.07685499634303,
          233.24583265949337,
          128.1900252350336,
          170.34859022214857,
          186.83707446989084,
          192.82135849916565,
          150.48112102141914,
          179.64079296421028,
          172.57934308163416,
          181.57168290833357,
          167.89473673148976,
          157.0299173751262,
          176.7408896415893,
          201.21079549661764,
          100.28919363057524,
          168.20268226754297,
          187.51230767181062,
          148.98348384316105,
          130.94043203194587,
          241.46395938740102
         ],
         "yaxis": "y"
        }
       ],
       "layout": {
        "legend": {
         "tracegroupgap": 0
        },
        "template": {
         "data": {
          "bar": [
           {
            "error_x": {
             "color": "#2a3f5f"
            },
            "error_y": {
             "color": "#2a3f5f"
            },
            "marker": {
             "line": {
              "color": "#E5ECF6",
              "width": 0.5
             },
             "pattern": {
              "fillmode": "overlay",
              "size": 10,
              "solidity": 0.2
             }
            },
            "type": "bar"
           }
          ],
          "barpolar": [
           {
            "marker": {
             "line": {
              "color": "#E5ECF6",
              "width": 0.5
             },
             "pattern": {
              "fillmode": "overlay",
              "size": 10,
              "solidity": 0.2
             }
            },
            "type": "barpolar"
           }
          ],
          "carpet": [
           {
            "aaxis": {
             "endlinecolor": "#2a3f5f",
             "gridcolor": "white",
             "linecolor": "white",
             "minorgridcolor": "white",
             "startlinecolor": "#2a3f5f"
            },
            "baxis": {
             "endlinecolor": "#2a3f5f",
             "gridcolor": "white",
             "linecolor": "white",
             "minorgridcolor": "white",
             "startlinecolor": "#2a3f5f"
            },
            "type": "carpet"
           }
          ],
          "choropleth": [
           {
            "colorbar": {
             "outlinewidth": 0,
             "ticks": ""
            },
            "type": "choropleth"
           }
          ],
          "contour": [
           {
            "colorbar": {
             "outlinewidth": 0,
             "ticks": ""
            },
            "colorscale": [
             [
              0,
              "#0d0887"
             ],
             [
              0.1111111111111111,
              "#46039f"
             ],
             [
              0.2222222222222222,
              "#7201a8"
             ],
             [
              0.3333333333333333,
              "#9c179e"
             ],
             [
              0.4444444444444444,
              "#bd3786"
             ],
             [
              0.5555555555555556,
              "#d8576b"
             ],
             [
              0.6666666666666666,
              "#ed7953"
             ],
             [
              0.7777777777777778,
              "#fb9f3a"
             ],
             [
              0.8888888888888888,
              "#fdca26"
             ],
             [
              1,
              "#f0f921"
             ]
            ],
            "type": "contour"
           }
          ],
          "contourcarpet": [
           {
            "colorbar": {
             "outlinewidth": 0,
             "ticks": ""
            },
            "type": "contourcarpet"
           }
          ],
          "heatmap": [
           {
            "colorbar": {
             "outlinewidth": 0,
             "ticks": ""
            },
            "colorscale": [
             [
              0,
              "#0d0887"
             ],
             [
              0.1111111111111111,
              "#46039f"
             ],
             [
              0.2222222222222222,
              "#7201a8"
             ],
             [
              0.3333333333333333,
              "#9c179e"
             ],
             [
              0.4444444444444444,
              "#bd3786"
             ],
             [
              0.5555555555555556,
              "#d8576b"
             ],
             [
              0.6666666666666666,
              "#ed7953"
             ],
             [
              0.7777777777777778,
              "#fb9f3a"
             ],
             [
              0.8888888888888888,
              "#fdca26"
             ],
             [
              1,
              "#f0f921"
             ]
            ],
            "type": "heatmap"
           }
          ],
          "heatmapgl": [
           {
            "colorbar": {
             "outlinewidth": 0,
             "ticks": ""
            },
            "colorscale": [
             [
              0,
              "#0d0887"
             ],
             [
              0.1111111111111111,
              "#46039f"
             ],
             [
              0.2222222222222222,
              "#7201a8"
             ],
             [
              0.3333333333333333,
              "#9c179e"
             ],
             [
              0.4444444444444444,
              "#bd3786"
             ],
             [
              0.5555555555555556,
              "#d8576b"
             ],
             [
              0.6666666666666666,
              "#ed7953"
             ],
             [
              0.7777777777777778,
              "#fb9f3a"
             ],
             [
              0.8888888888888888,
              "#fdca26"
             ],
             [
              1,
              "#f0f921"
             ]
            ],
            "type": "heatmapgl"
           }
          ],
          "histogram": [
           {
            "marker": {
             "pattern": {
              "fillmode": "overlay",
              "size": 10,
              "solidity": 0.2
             }
            },
            "type": "histogram"
           }
          ],
          "histogram2d": [
           {
            "colorbar": {
             "outlinewidth": 0,
             "ticks": ""
            },
            "colorscale": [
             [
              0,
              "#0d0887"
             ],
             [
              0.1111111111111111,
              "#46039f"
             ],
             [
              0.2222222222222222,
              "#7201a8"
             ],
             [
              0.3333333333333333,
              "#9c179e"
             ],
             [
              0.4444444444444444,
              "#bd3786"
             ],
             [
              0.5555555555555556,
              "#d8576b"
             ],
             [
              0.6666666666666666,
              "#ed7953"
             ],
             [
              0.7777777777777778,
              "#fb9f3a"
             ],
             [
              0.8888888888888888,
              "#fdca26"
             ],
             [
              1,
              "#f0f921"
             ]
            ],
            "type": "histogram2d"
           }
          ],
          "histogram2dcontour": [
           {
            "colorbar": {
             "outlinewidth": 0,
             "ticks": ""
            },
            "colorscale": [
             [
              0,
              "#0d0887"
             ],
             [
              0.1111111111111111,
              "#46039f"
             ],
             [
              0.2222222222222222,
              "#7201a8"
             ],
             [
              0.3333333333333333,
              "#9c179e"
             ],
             [
              0.4444444444444444,
              "#bd3786"
             ],
             [
              0.5555555555555556,
              "#d8576b"
             ],
             [
              0.6666666666666666,
              "#ed7953"
             ],
             [
              0.7777777777777778,
              "#fb9f3a"
             ],
             [
              0.8888888888888888,
              "#fdca26"
             ],
             [
              1,
              "#f0f921"
             ]
            ],
            "type": "histogram2dcontour"
           }
          ],
          "mesh3d": [
           {
            "colorbar": {
             "outlinewidth": 0,
             "ticks": ""
            },
            "type": "mesh3d"
           }
          ],
          "parcoords": [
           {
            "line": {
             "colorbar": {
              "outlinewidth": 0,
              "ticks": ""
             }
            },
            "type": "parcoords"
           }
          ],
          "pie": [
           {
            "automargin": true,
            "type": "pie"
           }
          ],
          "scatter": [
           {
            "marker": {
             "colorbar": {
              "outlinewidth": 0,
              "ticks": ""
             }
            },
            "type": "scatter"
           }
          ],
          "scatter3d": [
           {
            "line": {
             "colorbar": {
              "outlinewidth": 0,
              "ticks": ""
             }
            },
            "marker": {
             "colorbar": {
              "outlinewidth": 0,
              "ticks": ""
             }
            },
            "type": "scatter3d"
           }
          ],
          "scattercarpet": [
           {
            "marker": {
             "colorbar": {
              "outlinewidth": 0,
              "ticks": ""
             }
            },
            "type": "scattercarpet"
           }
          ],
          "scattergeo": [
           {
            "marker": {
             "colorbar": {
              "outlinewidth": 0,
              "ticks": ""
             }
            },
            "type": "scattergeo"
           }
          ],
          "scattergl": [
           {
            "marker": {
             "colorbar": {
              "outlinewidth": 0,
              "ticks": ""
             }
            },
            "type": "scattergl"
           }
          ],
          "scattermapbox": [
           {
            "marker": {
             "colorbar": {
              "outlinewidth": 0,
              "ticks": ""
             }
            },
            "type": "scattermapbox"
           }
          ],
          "scatterpolar": [
           {
            "marker": {
             "colorbar": {
              "outlinewidth": 0,
              "ticks": ""
             }
            },
            "type": "scatterpolar"
           }
          ],
          "scatterpolargl": [
           {
            "marker": {
             "colorbar": {
              "outlinewidth": 0,
              "ticks": ""
             }
            },
            "type": "scatterpolargl"
           }
          ],
          "scatterternary": [
           {
            "marker": {
             "colorbar": {
              "outlinewidth": 0,
              "ticks": ""
             }
            },
            "type": "scatterternary"
           }
          ],
          "surface": [
           {
            "colorbar": {
             "outlinewidth": 0,
             "ticks": ""
            },
            "colorscale": [
             [
              0,
              "#0d0887"
             ],
             [
              0.1111111111111111,
              "#46039f"
             ],
             [
              0.2222222222222222,
              "#7201a8"
             ],
             [
              0.3333333333333333,
              "#9c179e"
             ],
             [
              0.4444444444444444,
              "#bd3786"
             ],
             [
              0.5555555555555556,
              "#d8576b"
             ],
             [
              0.6666666666666666,
              "#ed7953"
             ],
             [
              0.7777777777777778,
              "#fb9f3a"
             ],
             [
              0.8888888888888888,
              "#fdca26"
             ],
             [
              1,
              "#f0f921"
             ]
            ],
            "type": "surface"
           }
          ],
          "table": [
           {
            "cells": {
             "fill": {
              "color": "#EBF0F8"
             },
             "line": {
              "color": "white"
             }
            },
            "header": {
             "fill": {
              "color": "#C8D4E3"
             },
             "line": {
              "color": "white"
             }
            },
            "type": "table"
           }
          ]
         },
         "layout": {
          "annotationdefaults": {
           "arrowcolor": "#2a3f5f",
           "arrowhead": 0,
           "arrowwidth": 1
          },
          "autotypenumbers": "strict",
          "coloraxis": {
           "colorbar": {
            "outlinewidth": 0,
            "ticks": ""
           }
          },
          "colorscale": {
           "diverging": [
            [
             0,
             "#8e0152"
            ],
            [
             0.1,
             "#c51b7d"
            ],
            [
             0.2,
             "#de77ae"
            ],
            [
             0.3,
             "#f1b6da"
            ],
            [
             0.4,
             "#fde0ef"
            ],
            [
             0.5,
             "#f7f7f7"
            ],
            [
             0.6,
             "#e6f5d0"
            ],
            [
             0.7,
             "#b8e186"
            ],
            [
             0.8,
             "#7fbc41"
            ],
            [
             0.9,
             "#4d9221"
            ],
            [
             1,
             "#276419"
            ]
           ],
           "sequential": [
            [
             0,
             "#0d0887"
            ],
            [
             0.1111111111111111,
             "#46039f"
            ],
            [
             0.2222222222222222,
             "#7201a8"
            ],
            [
             0.3333333333333333,
             "#9c179e"
            ],
            [
             0.4444444444444444,
             "#bd3786"
            ],
            [
             0.5555555555555556,
             "#d8576b"
            ],
            [
             0.6666666666666666,
             "#ed7953"
            ],
            [
             0.7777777777777778,
             "#fb9f3a"
            ],
            [
             0.8888888888888888,
             "#fdca26"
            ],
            [
             1,
             "#f0f921"
            ]
           ],
           "sequentialminus": [
            [
             0,
             "#0d0887"
            ],
            [
             0.1111111111111111,
             "#46039f"
            ],
            [
             0.2222222222222222,
             "#7201a8"
            ],
            [
             0.3333333333333333,
             "#9c179e"
            ],
            [
             0.4444444444444444,
             "#bd3786"
            ],
            [
             0.5555555555555556,
             "#d8576b"
            ],
            [
             0.6666666666666666,
             "#ed7953"
            ],
            [
             0.7777777777777778,
             "#fb9f3a"
            ],
            [
             0.8888888888888888,
             "#fdca26"
            ],
            [
             1,
             "#f0f921"
            ]
           ]
          },
          "colorway": [
           "#636efa",
           "#EF553B",
           "#00cc96",
           "#ab63fa",
           "#FFA15A",
           "#19d3f3",
           "#FF6692",
           "#B6E880",
           "#FF97FF",
           "#FECB52"
          ],
          "font": {
           "color": "#2a3f5f"
          },
          "geo": {
           "bgcolor": "white",
           "lakecolor": "white",
           "landcolor": "#E5ECF6",
           "showlakes": true,
           "showland": true,
           "subunitcolor": "white"
          },
          "hoverlabel": {
           "align": "left"
          },
          "hovermode": "closest",
          "mapbox": {
           "style": "light"
          },
          "paper_bgcolor": "white",
          "plot_bgcolor": "#E5ECF6",
          "polar": {
           "angularaxis": {
            "gridcolor": "white",
            "linecolor": "white",
            "ticks": ""
           },
           "bgcolor": "#E5ECF6",
           "radialaxis": {
            "gridcolor": "white",
            "linecolor": "white",
            "ticks": ""
           }
          },
          "scene": {
           "xaxis": {
            "backgroundcolor": "#E5ECF6",
            "gridcolor": "white",
            "gridwidth": 2,
            "linecolor": "white",
            "showbackground": true,
            "ticks": "",
            "zerolinecolor": "white"
           },
           "yaxis": {
            "backgroundcolor": "#E5ECF6",
            "gridcolor": "white",
            "gridwidth": 2,
            "linecolor": "white",
            "showbackground": true,
            "ticks": "",
            "zerolinecolor": "white"
           },
           "zaxis": {
            "backgroundcolor": "#E5ECF6",
            "gridcolor": "white",
            "gridwidth": 2,
            "linecolor": "white",
            "showbackground": true,
            "ticks": "",
            "zerolinecolor": "white"
           }
          },
          "shapedefaults": {
           "line": {
            "color": "#2a3f5f"
           }
          },
          "ternary": {
           "aaxis": {
            "gridcolor": "white",
            "linecolor": "white",
            "ticks": ""
           },
           "baxis": {
            "gridcolor": "white",
            "linecolor": "white",
            "ticks": ""
           },
           "bgcolor": "#E5ECF6",
           "caxis": {
            "gridcolor": "white",
            "linecolor": "white",
            "ticks": ""
           }
          },
          "title": {
           "x": 0.05
          },
          "xaxis": {
           "automargin": true,
           "gridcolor": "white",
           "linecolor": "white",
           "ticks": "",
           "title": {
            "standoff": 15
           },
           "zerolinecolor": "white",
           "zerolinewidth": 2
          },
          "yaxis": {
           "automargin": true,
           "gridcolor": "white",
           "linecolor": "white",
           "ticks": "",
           "title": {
            "standoff": 15
           },
           "zerolinecolor": "white",
           "zerolinewidth": 2
          }
         }
        },
        "title": {
         "text": "Continuous Angular Rotation"
        },
        "xaxis": {
         "anchor": "y",
         "domain": [
          0,
          1
         ],
         "dtick": 1000,
         "tick0": 0,
         "tickmode": "linear",
         "title": {
          "text": "Time (ms)"
         }
        },
        "yaxis": {
         "anchor": "x",
         "domain": [
          0,
          1
         ],
         "dtick": 180,
         "tick0": -360,
         "tickmode": "linear",
         "title": {
          "text": "Theta (degrees)"
         }
        }
       }
      },
      "text/html": [
       "<div>                            <div id=\"18f1f3b4-4d2b-4593-a053-f149ad6b7f92\" class=\"plotly-graph-div\" style=\"height:525px; width:100%;\"></div>            <script type=\"text/javascript\">                require([\"plotly\"], function(Plotly) {                    window.PLOTLYENV=window.PLOTLYENV || {};                                    if (document.getElementById(\"18f1f3b4-4d2b-4593-a053-f149ad6b7f92\")) {                    Plotly.newPlot(                        \"18f1f3b4-4d2b-4593-a053-f149ad6b7f92\",                        [{\"hovertemplate\":\"Time (ms): %{x} <br>Theta: %{y}\",\"legendgroup\":\"\",\"line\":{\"color\":\"#636efa\",\"dash\":\"solid\"},\"marker\":{\"symbol\":\"circle\"},\"mode\":\"lines\",\"name\":\"\",\"orientation\":\"v\",\"showlegend\":false,\"x\":[0,100,200,300,400,500,600,700,800,900,1000,1100,1200,1300,1400,1500,1600,1700,1800,1900,2000,2100,2200,2300,2400,2500,2600,2700,2800,2900,3000,3100,3200,3300,3400,3500,3600,3700,3800,3900,4000,4100,4200,4300,4400,4500,4600,4700,4800,4900,5000,5100,5200,5300,5400,5500,5600,5700,5800,5900,6000,6100,6200,6300,6400,6500,6600,6700,6800,6900,7000,7100,7200,7300,7400,7500,7600,7700,7800,7900,8000,8100,8200,8300,8400,8500,8600,8700,8800,8900,9000,9100,9200,9300,9400,9500,9600,9700,9800,9900,10000,10100,10200,10300,10400,10500,10600,10700,10800,10900,11000,11100,11200,11300,11400,11500,11600,11700,11800,12000,12100,12200,12300,12400,12500,12600,12800,12900,13100,13200,13300,13400,13500,13600,13700,13800,13900,14000,14100,14200,14300,14400,14500,14600,14700,14900,15000,15100,15200,15300,15400,15500,15600,15800,15900,16000,16100,16200,16300,16400,16600,16800,16900,17000,17100,17200,17300,17400,17500],\"xaxis\":\"x\",\"y\":[7.486917109986019,9.3667958561981,11.395830388266853,12.003409427627709,10.668927127481709,12.96757764060256,19.365279594762697,15.140638034993115,12.261058944682494,21.919971435751656,12.439336699056938,8.023624340081117,10.285723751882873,12.596553375708604,10.286233481446166,10.510683716199464,10.673774946216817,10.455078625869646,8.90919240699309,7.66832798099257,13.141841583434882,9.330846118618,13.332789453723972,15.684693577757518,15.233907373436956,18.03318406425668,21.528859459234898,32.296369913145625,18.780527387345263,24.186798675879363,17.502165383138976,10.37779051800172,12.58287963161903,19.52123098126463,16.78886442255221,26.619325670144114,21.024195893535317,15.825046298801883,18.3461014353773,8.60666589406199,21.094595611489783,19.569501048705497,19.755520330231647,19.092739824341827,5.382141574156776,1.7385846345017772,12.009408745744746,8.961043611689878,14.62174898908267,20.31139446364492,17.781151021986258,12.714542142390801,9.328503093015913,13.203853044044392,8.127834948924805,11.306035949920405,8.831636764440123,8.096168261993565,9.732330808076561,12.626434983656427,18.43597622849645,25.54901200807467,19.403801543406583,15.435303181094882,17.10567598375686,23.298782851175805,19.28297735116184,18.065458231938454,26.44770604357901,26.96190783793249,26.61008238120647,24.87315955624069,25.781983010534738,22.97755518833583,28.159998776020466,24.42439989461141,21.029181631576158,19.45811224784112,20.77750274529189,19.030034372726426,22.346858309168486,25.269230910243536,21.699958301873036,19.292630341981678,13.032071959592589,12.724472474102068,21.22249604702063,13.59358814540948,21.16707214227989,18.172513815241675,23.324566425599407,22.21675971619878,20.156455528552875,26.034250558131195,17.58798224373473,13.229655648983835,22.944467550360944,25.748076650538312,18.301195422865213,17.006338649562068,18.645049486069627,16.455726004307735,14.673525053216682,11.559923988913699,13.893678235490935,13.054234478631145,12.796783852159193,4.902209898897376,11.55763610575622,11.240191897623445,15.243907151441618,12.966633723943179,15.7644683046972,18.392691040667916,11.67634912731381,12.169202444694042,12.014165250917376,67.07656215280691,119.42943303565788,167.01152962733678,147.4509204006422,123.34047895615578,238.6676028484078,153.28269916268357,235.85733220944996,150.244619109136,174.12434690917087,160.8198361915381,170.91028715295158,180.1793172006976,212.5110953836078,201.53068151206148,61.39628061507577,170.0098859799894,89.3138938635117,171.5515856014683,141.74807277822038,154.7860643509664,189.78582709078395,125.30168517075657,137.94582847382424,142.2253534893419,194.96058144502896,46.864051533788256,201.8074773832314,120.79272167302084,206.6221287659725,171.70753600040118,176.67045985256004,171.07685499634303,233.24583265949337,128.1900252350336,170.34859022214857,186.83707446989084,192.82135849916565,150.48112102141914,179.64079296421028,172.57934308163416,181.57168290833357,167.89473673148976,157.0299173751262,176.7408896415893,201.21079549661764,100.28919363057524,168.20268226754297,187.51230767181062,148.98348384316105,130.94043203194587,241.46395938740102],\"yaxis\":\"y\",\"type\":\"scatter\"}],                        {\"template\":{\"data\":{\"bar\":[{\"error_x\":{\"color\":\"#2a3f5f\"},\"error_y\":{\"color\":\"#2a3f5f\"},\"marker\":{\"line\":{\"color\":\"#E5ECF6\",\"width\":0.5},\"pattern\":{\"fillmode\":\"overlay\",\"size\":10,\"solidity\":0.2}},\"type\":\"bar\"}],\"barpolar\":[{\"marker\":{\"line\":{\"color\":\"#E5ECF6\",\"width\":0.5},\"pattern\":{\"fillmode\":\"overlay\",\"size\":10,\"solidity\":0.2}},\"type\":\"barpolar\"}],\"carpet\":[{\"aaxis\":{\"endlinecolor\":\"#2a3f5f\",\"gridcolor\":\"white\",\"linecolor\":\"white\",\"minorgridcolor\":\"white\",\"startlinecolor\":\"#2a3f5f\"},\"baxis\":{\"endlinecolor\":\"#2a3f5f\",\"gridcolor\":\"white\",\"linecolor\":\"white\",\"minorgridcolor\":\"white\",\"startlinecolor\":\"#2a3f5f\"},\"type\":\"carpet\"}],\"choropleth\":[{\"colorbar\":{\"outlinewidth\":0,\"ticks\":\"\"},\"type\":\"choropleth\"}],\"contour\":[{\"colorbar\":{\"outlinewidth\":0,\"ticks\":\"\"},\"colorscale\":[[0.0,\"#0d0887\"],[0.1111111111111111,\"#46039f\"],[0.2222222222222222,\"#7201a8\"],[0.3333333333333333,\"#9c179e\"],[0.4444444444444444,\"#bd3786\"],[0.5555555555555556,\"#d8576b\"],[0.6666666666666666,\"#ed7953\"],[0.7777777777777778,\"#fb9f3a\"],[0.8888888888888888,\"#fdca26\"],[1.0,\"#f0f921\"]],\"type\":\"contour\"}],\"contourcarpet\":[{\"colorbar\":{\"outlinewidth\":0,\"ticks\":\"\"},\"type\":\"contourcarpet\"}],\"heatmap\":[{\"colorbar\":{\"outlinewidth\":0,\"ticks\":\"\"},\"colorscale\":[[0.0,\"#0d0887\"],[0.1111111111111111,\"#46039f\"],[0.2222222222222222,\"#7201a8\"],[0.3333333333333333,\"#9c179e\"],[0.4444444444444444,\"#bd3786\"],[0.5555555555555556,\"#d8576b\"],[0.6666666666666666,\"#ed7953\"],[0.7777777777777778,\"#fb9f3a\"],[0.8888888888888888,\"#fdca26\"],[1.0,\"#f0f921\"]],\"type\":\"heatmap\"}],\"heatmapgl\":[{\"colorbar\":{\"outlinewidth\":0,\"ticks\":\"\"},\"colorscale\":[[0.0,\"#0d0887\"],[0.1111111111111111,\"#46039f\"],[0.2222222222222222,\"#7201a8\"],[0.3333333333333333,\"#9c179e\"],[0.4444444444444444,\"#bd3786\"],[0.5555555555555556,\"#d8576b\"],[0.6666666666666666,\"#ed7953\"],[0.7777777777777778,\"#fb9f3a\"],[0.8888888888888888,\"#fdca26\"],[1.0,\"#f0f921\"]],\"type\":\"heatmapgl\"}],\"histogram\":[{\"marker\":{\"pattern\":{\"fillmode\":\"overlay\",\"size\":10,\"solidity\":0.2}},\"type\":\"histogram\"}],\"histogram2d\":[{\"colorbar\":{\"outlinewidth\":0,\"ticks\":\"\"},\"colorscale\":[[0.0,\"#0d0887\"],[0.1111111111111111,\"#46039f\"],[0.2222222222222222,\"#7201a8\"],[0.3333333333333333,\"#9c179e\"],[0.4444444444444444,\"#bd3786\"],[0.5555555555555556,\"#d8576b\"],[0.6666666666666666,\"#ed7953\"],[0.7777777777777778,\"#fb9f3a\"],[0.8888888888888888,\"#fdca26\"],[1.0,\"#f0f921\"]],\"type\":\"histogram2d\"}],\"histogram2dcontour\":[{\"colorbar\":{\"outlinewidth\":0,\"ticks\":\"\"},\"colorscale\":[[0.0,\"#0d0887\"],[0.1111111111111111,\"#46039f\"],[0.2222222222222222,\"#7201a8\"],[0.3333333333333333,\"#9c179e\"],[0.4444444444444444,\"#bd3786\"],[0.5555555555555556,\"#d8576b\"],[0.6666666666666666,\"#ed7953\"],[0.7777777777777778,\"#fb9f3a\"],[0.8888888888888888,\"#fdca26\"],[1.0,\"#f0f921\"]],\"type\":\"histogram2dcontour\"}],\"mesh3d\":[{\"colorbar\":{\"outlinewidth\":0,\"ticks\":\"\"},\"type\":\"mesh3d\"}],\"parcoords\":[{\"line\":{\"colorbar\":{\"outlinewidth\":0,\"ticks\":\"\"}},\"type\":\"parcoords\"}],\"pie\":[{\"automargin\":true,\"type\":\"pie\"}],\"scatter\":[{\"marker\":{\"colorbar\":{\"outlinewidth\":0,\"ticks\":\"\"}},\"type\":\"scatter\"}],\"scatter3d\":[{\"line\":{\"colorbar\":{\"outlinewidth\":0,\"ticks\":\"\"}},\"marker\":{\"colorbar\":{\"outlinewidth\":0,\"ticks\":\"\"}},\"type\":\"scatter3d\"}],\"scattercarpet\":[{\"marker\":{\"colorbar\":{\"outlinewidth\":0,\"ticks\":\"\"}},\"type\":\"scattercarpet\"}],\"scattergeo\":[{\"marker\":{\"colorbar\":{\"outlinewidth\":0,\"ticks\":\"\"}},\"type\":\"scattergeo\"}],\"scattergl\":[{\"marker\":{\"colorbar\":{\"outlinewidth\":0,\"ticks\":\"\"}},\"type\":\"scattergl\"}],\"scattermapbox\":[{\"marker\":{\"colorbar\":{\"outlinewidth\":0,\"ticks\":\"\"}},\"type\":\"scattermapbox\"}],\"scatterpolar\":[{\"marker\":{\"colorbar\":{\"outlinewidth\":0,\"ticks\":\"\"}},\"type\":\"scatterpolar\"}],\"scatterpolargl\":[{\"marker\":{\"colorbar\":{\"outlinewidth\":0,\"ticks\":\"\"}},\"type\":\"scatterpolargl\"}],\"scatterternary\":[{\"marker\":{\"colorbar\":{\"outlinewidth\":0,\"ticks\":\"\"}},\"type\":\"scatterternary\"}],\"surface\":[{\"colorbar\":{\"outlinewidth\":0,\"ticks\":\"\"},\"colorscale\":[[0.0,\"#0d0887\"],[0.1111111111111111,\"#46039f\"],[0.2222222222222222,\"#7201a8\"],[0.3333333333333333,\"#9c179e\"],[0.4444444444444444,\"#bd3786\"],[0.5555555555555556,\"#d8576b\"],[0.6666666666666666,\"#ed7953\"],[0.7777777777777778,\"#fb9f3a\"],[0.8888888888888888,\"#fdca26\"],[1.0,\"#f0f921\"]],\"type\":\"surface\"}],\"table\":[{\"cells\":{\"fill\":{\"color\":\"#EBF0F8\"},\"line\":{\"color\":\"white\"}},\"header\":{\"fill\":{\"color\":\"#C8D4E3\"},\"line\":{\"color\":\"white\"}},\"type\":\"table\"}]},\"layout\":{\"annotationdefaults\":{\"arrowcolor\":\"#2a3f5f\",\"arrowhead\":0,\"arrowwidth\":1},\"autotypenumbers\":\"strict\",\"coloraxis\":{\"colorbar\":{\"outlinewidth\":0,\"ticks\":\"\"}},\"colorscale\":{\"diverging\":[[0,\"#8e0152\"],[0.1,\"#c51b7d\"],[0.2,\"#de77ae\"],[0.3,\"#f1b6da\"],[0.4,\"#fde0ef\"],[0.5,\"#f7f7f7\"],[0.6,\"#e6f5d0\"],[0.7,\"#b8e186\"],[0.8,\"#7fbc41\"],[0.9,\"#4d9221\"],[1,\"#276419\"]],\"sequential\":[[0.0,\"#0d0887\"],[0.1111111111111111,\"#46039f\"],[0.2222222222222222,\"#7201a8\"],[0.3333333333333333,\"#9c179e\"],[0.4444444444444444,\"#bd3786\"],[0.5555555555555556,\"#d8576b\"],[0.6666666666666666,\"#ed7953\"],[0.7777777777777778,\"#fb9f3a\"],[0.8888888888888888,\"#fdca26\"],[1.0,\"#f0f921\"]],\"sequentialminus\":[[0.0,\"#0d0887\"],[0.1111111111111111,\"#46039f\"],[0.2222222222222222,\"#7201a8\"],[0.3333333333333333,\"#9c179e\"],[0.4444444444444444,\"#bd3786\"],[0.5555555555555556,\"#d8576b\"],[0.6666666666666666,\"#ed7953\"],[0.7777777777777778,\"#fb9f3a\"],[0.8888888888888888,\"#fdca26\"],[1.0,\"#f0f921\"]]},\"colorway\":[\"#636efa\",\"#EF553B\",\"#00cc96\",\"#ab63fa\",\"#FFA15A\",\"#19d3f3\",\"#FF6692\",\"#B6E880\",\"#FF97FF\",\"#FECB52\"],\"font\":{\"color\":\"#2a3f5f\"},\"geo\":{\"bgcolor\":\"white\",\"lakecolor\":\"white\",\"landcolor\":\"#E5ECF6\",\"showlakes\":true,\"showland\":true,\"subunitcolor\":\"white\"},\"hoverlabel\":{\"align\":\"left\"},\"hovermode\":\"closest\",\"mapbox\":{\"style\":\"light\"},\"paper_bgcolor\":\"white\",\"plot_bgcolor\":\"#E5ECF6\",\"polar\":{\"angularaxis\":{\"gridcolor\":\"white\",\"linecolor\":\"white\",\"ticks\":\"\"},\"bgcolor\":\"#E5ECF6\",\"radialaxis\":{\"gridcolor\":\"white\",\"linecolor\":\"white\",\"ticks\":\"\"}},\"scene\":{\"xaxis\":{\"backgroundcolor\":\"#E5ECF6\",\"gridcolor\":\"white\",\"gridwidth\":2,\"linecolor\":\"white\",\"showbackground\":true,\"ticks\":\"\",\"zerolinecolor\":\"white\"},\"yaxis\":{\"backgroundcolor\":\"#E5ECF6\",\"gridcolor\":\"white\",\"gridwidth\":2,\"linecolor\":\"white\",\"showbackground\":true,\"ticks\":\"\",\"zerolinecolor\":\"white\"},\"zaxis\":{\"backgroundcolor\":\"#E5ECF6\",\"gridcolor\":\"white\",\"gridwidth\":2,\"linecolor\":\"white\",\"showbackground\":true,\"ticks\":\"\",\"zerolinecolor\":\"white\"}},\"shapedefaults\":{\"line\":{\"color\":\"#2a3f5f\"}},\"ternary\":{\"aaxis\":{\"gridcolor\":\"white\",\"linecolor\":\"white\",\"ticks\":\"\"},\"baxis\":{\"gridcolor\":\"white\",\"linecolor\":\"white\",\"ticks\":\"\"},\"bgcolor\":\"#E5ECF6\",\"caxis\":{\"gridcolor\":\"white\",\"linecolor\":\"white\",\"ticks\":\"\"}},\"title\":{\"x\":0.05},\"xaxis\":{\"automargin\":true,\"gridcolor\":\"white\",\"linecolor\":\"white\",\"ticks\":\"\",\"title\":{\"standoff\":15},\"zerolinecolor\":\"white\",\"zerolinewidth\":2},\"yaxis\":{\"automargin\":true,\"gridcolor\":\"white\",\"linecolor\":\"white\",\"ticks\":\"\",\"title\":{\"standoff\":15},\"zerolinecolor\":\"white\",\"zerolinewidth\":2}}},\"xaxis\":{\"anchor\":\"y\",\"domain\":[0.0,1.0],\"title\":{\"text\":\"Time (ms)\"},\"tickmode\":\"linear\",\"tick0\":0,\"dtick\":1000},\"yaxis\":{\"anchor\":\"x\",\"domain\":[0.0,1.0],\"title\":{\"text\":\"Theta (degrees)\"},\"tickmode\":\"linear\",\"tick0\":-360,\"dtick\":180},\"legend\":{\"tracegroupgap\":0},\"title\":{\"text\":\"Continuous Angular Rotation\"}},                        {\"responsive\": true}                    ).then(function(){\n",
       "                            \n",
       "var gd = document.getElementById('18f1f3b4-4d2b-4593-a053-f149ad6b7f92');\n",
       "var x = new MutationObserver(function (mutations, observer) {{\n",
       "        var display = window.getComputedStyle(gd).display;\n",
       "        if (!display || display === 'none') {{\n",
       "            console.log([gd, 'removed!']);\n",
       "            Plotly.purge(gd);\n",
       "            observer.disconnect();\n",
       "        }}\n",
       "}});\n",
       "\n",
       "// Listen for the removal of the full notebook cells\n",
       "var notebookContainer = gd.closest('#notebook-container');\n",
       "if (notebookContainer) {{\n",
       "    x.observe(notebookContainer, {childList: true});\n",
       "}}\n",
       "\n",
       "// Listen for the clearing of the current output cell\n",
       "var outputEl = gd.closest('.output');\n",
       "if (outputEl) {{\n",
       "    x.observe(outputEl, {childList: true});\n",
       "}}\n",
       "\n",
       "                        })                };                });            </script>        </div>"
      ]
     },
     "metadata": {},
     "output_type": "display_data"
    }
   ],
   "source": [
    "#### you might need to change the time step: 10hz= 100 ms, 100hz = 10ms\n",
    "parameters = {\n",
    "'file_name': csvnum, #100521_analysis 103018_analysis\n",
    "'pixel_size': 117, # in nanometers\n",
    "'time_step': 100, # in miliseconds\n",
    "'frame_start':frStart, # enter 0 to start from beginning of dataset\n",
    "'frame_end':169, #frEnd, # enter -1 to end at the last value of the data set\n",
    "'bin_size': 3, # bin size for downsample/filter processing\n",
    "'processing': \"none\", # enter downsample, filter, or none\n",
    "'plot_type': \"angular_continuous\", # enter 2D, 3D, grid, angular, angular_continuous, interactive or animated \n",
    "'title': title,\n",
    "'x_axis_label': \"x (nm)\",\n",
    "'y_axis_label': \"y (nm)\",\n",
    "'z_axis_label': \"Time (ms)\",\n",
    "'unit': \"nm\",  # enter pixel or nm \n",
    "'frames_per_plot': 25, #refers to grid plot\n",
    "'columns': 7,# columns of plots (grid plot)\n",
    "'frame_speed': 10, # for animation only\n",
    "'tail_length': 10, # for animation only\n",
    "'pixel_min': -0.75,\n",
    "'pixel_max': 0.75,\n",
    "'axis_increment_pixel': 7, #change axis increments for nicely fitting tick marks (pixel)\n",
    "'nm_min': -150,\n",
    "'nm_max': 150,\n",
    "'axis_increment_nm': 7, #change axis increments for nicely fitting tick marks (nm)\n",
    "'fig_size_x':40, #adjust display parameters for graphs to fit nicely, mostly used for multi_plot \n",
    "'fig_size_y': 40}  \n",
    "\n",
    "display_trajectory_v5(**parameters)"
   ]
  },
  {
   "cell_type": "code",
   "execution_count": null,
   "id": "81a33327",
   "metadata": {},
   "outputs": [],
   "source": []
  },
  {
   "cell_type": "markdown",
   "id": "6b1d7752",
   "metadata": {},
   "source": [
    "# HEY! RUN THIS: "
   ]
  },
  {
   "cell_type": "code",
   "execution_count": 2,
   "id": "6ea421c0",
   "metadata": {},
   "outputs": [],
   "source": [
    "def disp_hist(file,perCol,perRow):\n",
    "\n",
    "    \n",
    "    #Get file paths\n",
    "    sets=file+'trdir/histsets'\n",
    "    filename=file+'trdir/hist2d'\n",
    "    infor=file+'trdir/histpar'\n",
    "    \n",
    "    #open files\n",
    "    fileptr = open(filename+'.stack','rb')\n",
    "    fileptrSets = open(sets+'.list','rb')\n",
    "    fileptrInfo = open(infor+'.info','rb')\n",
    "    \n",
    "\n",
    "    #Get Infor from files \n",
    "    frame = np.fromfile(fileptr,dtype='int32')\n",
    "    histlist=np.fromfile(fileptrSets,dtype='int32')\n",
    "    histinfo=np.fromfile(fileptrInfo,dtype='int32')\n",
    "    histsearch=np.reshape(histlist,[len(histlist)//3,3])\n",
    "    #print(frame.shape)\n",
    "    #print(histlist.shape)\n",
    "    #print(histinfo.shape)\n",
    "\n",
    "    histnum=histinfo[3]  #number of histograms\n",
    "    histrow=int(histnum//perCol) #number of histograms / number of histograms per col to give number per row \n",
    "    \n",
    "    res=histinfo[0]   #get the 'res' as defined in 2D hist this is the size of the histogram 30x30\n",
    "\n",
    "\n",
    "    \n",
    "    \n",
    "    #Openining the Histogram and making an Image. \n",
    "    fileptr.seek(0) #Get the first frame \n",
    "\n",
    "    result = Image.new('F', (histrow*res,perCol*res)) #make a new image of correct size \n",
    "    for j in range (0,histrow):    \n",
    "        for i in range (0,perCol):\n",
    "        #print((i+(j*histpercol)))\n",
    "            fileptr.seek((i+(j*perCol))*res*res*4)  #open frame poisiton x resolution *32/8 (8 bit vs 32 bit)\n",
    "            frame2 = np.fromfile(fileptr,dtype='int32',count=res*res)\n",
    "            frame2 = np.reshape(frame2,[res,res])\n",
    "            frame2 = np.transpose(frame2)\n",
    "            frame2 = np.rot90(np.rot90(np.rot90(frame2)))\n",
    "            frame2=frame2\n",
    "            im2 =Image.fromarray(frame2)\n",
    "        #print(i)\n",
    "            result.paste(im2, box=((j*res),(i*res))) #load each histogram into the total histogram image. \n",
    "       \n",
    "    \n",
    "   \n",
    "\n",
    "    img = np.array(result) \n",
    "\n",
    "    #result.show(result)\n",
    "    avgnonzero = img[np.nonzero(img)].mean() #this might be bad practice \n",
    "    img=np.array((img/avgnonzero)*255).astype('uint8')#but here i am sclaing my image based on avg non zero to gray scale \n",
    "                                                        # This is only for display and it works fairly well but may be something that we want to return to. \n",
    "\n",
    "\n",
    "\n",
    "    \n",
    "\n",
    "    grayImage = cv2.cvtColor(img, cv2.COLOR_GRAY2BGR)  #Converts image to gray scale\n",
    "    heatmap = cv2.applyColorMap(grayImage, cv2.COLORMAP_MAGMA)  #converst grey scale to color map magma \n",
    "    \n",
    "    refPt = []\n",
    "    \n",
    "    def click_event(event, x, y, flags, param):\n",
    "        if event == cv2.EVENT_LBUTTONDOWN:\n",
    "            #print(x+(k*histperrow*30),\",\",y)\n",
    "            imgpkdisp=[((x+(k*perRow*30))//30*perCol),y//30] #Converting X and y of click to position on histogram as a grid. K s frame number. Scale by 30 because of size of histogram. \n",
    "            imgpkdisp=sum(imgpkdisp)  # This is the exact histogram number. based off frame, and which position\n",
    "            imgpkdisp=histsearch[imgpkdisp] # now we use that info to find the hisgram in the  info file \n",
    "            imgpkdisp=str(imgpkdisp)\n",
    "            print(imgpkdisp)\n",
    "            refPt.append([x+(k*perRow*30),y]) #This stores the histograms selected. \n",
    "            font = cv2.FONT_HERSHEY_SIMPLEX\n",
    "            strXY = str(x+(k*perRow*30) )+\", \"+str(y)\n",
    "            cv2.putText(imgcrop, imgpkdisp, (x,y), font, 0.5, (255,0,0), 2) #Draw coordinates on image. \n",
    "            cv2.imshow('2D Histogram [PK# t1 t2]',imgcrop)\n",
    "    \n",
    "    savePt=[]\n",
    "    testvar=0\n",
    "    t=img.size//((perCol*30)*perRow*30)\n",
    "    \n",
    "    k=0\n",
    "    \n",
    "    #Load in frames for searching\n",
    "    while k < t:\n",
    "        imgcrop=heatmap[0:(perCol*30),k*perRow*30:(k+1)*30*perRow]  #Display each frame as a heat map. \n",
    "        cv2.imshow('2D Histogram [PK# t1 t2]',imgcrop )\n",
    "        cv2.namedWindow('2D Histogram [PK# t1 t2]')\n",
    "        cv2.setMouseCallback('2D Histogram [PK# t1 t2]', click_event)\n",
    "        key=cv2.waitKey(0)\n",
    "        if key == 27: #if escape key break the loop\n",
    "            break\n",
    "        elif key==98:  # if b go backwards\n",
    "            if k == 0:\n",
    "                k=k\n",
    "            else:\n",
    "                k=k-1  # any other key go forward\n",
    "        else:\n",
    "            k=k+1\n",
    "        \n",
    "   # for k in range (0,t):\n",
    "       # print(k)\n",
    "       # imgcrop=heatmap[0:(perCol*30),k*perRow*30:(k+1)*30*perRow]\n",
    "       # cv2.imshow('heatmap',imgcrop )\n",
    "       # cv2.namedWindow('heatmap')\n",
    "       # cv2.setMouseCallback(\"heatmap\", click_event)\n",
    "       # key=cv2.waitKey(0)\n",
    "        #if key == 27:\n",
    "        #    break\n",
    "        #elif key == 98:\n",
    "            #print(k)\n",
    "        \n",
    "        \n",
    "            \n",
    "    cv2.destroyAllWindows()\n",
    "    refptnp=np.array(refPt)  #stored histogram positions\n",
    "    #print(refptnp)\n",
    "    refsc=refptnp//30     # scale to histogram number per frame\n",
    "    refcol=refsc*[perCol,1]  # Scale to be histogram number on right frame \n",
    "    sum_of_rows = np.sum(refcol, axis = 1)  #sum to get historgram number\n",
    "    out=histsearch[sum_of_rows] #search  histogram info to get pk# and T1 T2. \n",
    "    return refptnp , refsc , refcol ,sum_of_rows , out   #Return Relevant vars. "
   ]
  },
  {
   "cell_type": "markdown",
   "id": "155a56a8",
   "metadata": {},
   "source": [
    "# HEY! RUN THIS 2: "
   ]
  },
  {
   "cell_type": "code",
   "execution_count": 3,
   "id": "e1ee264d",
   "metadata": {},
   "outputs": [
    {
     "name": "stdout",
     "output_type": "stream",
     "text": [
      "filename: C:/Users/rfantasia/anacondaProjects/ffp/OMM_Analysis/00000.csv    |  pixel_size: 154  |  time_step: 20\n",
      "frame_start: 800  |    frame_end: 2000  |  bin_size: 3\n",
      "processing: none  |  plot_type: 2D  |  title: RNAP\n",
      "X_axis_label: x (nm)  |  Y_axis_label: y (nm)  |  Z_axis_label: Time (ms)\n"
     ]
    },
    {
     "ename": "FileNotFoundError",
     "evalue": "[Errno 2] No such file or directory: 'C:/Users/rfantasia/anacondaProjects/ffp/OMM_Analysis/00000.csv'",
     "output_type": "error",
     "traceback": [
      "\u001b[1;31m---------------------------------------------------------------------------\u001b[0m",
      "\u001b[1;31mFileNotFoundError\u001b[0m                         Traceback (most recent call last)",
      "\u001b[1;32m~\\AppData\\Local\\Temp\\ipykernel_35784\\673979034.py\u001b[0m in \u001b[0;36m<module>\u001b[1;34m\u001b[0m\n\u001b[0;32m    688\u001b[0m \u001b[1;33m\u001b[0m\u001b[0m\n\u001b[0;32m    689\u001b[0m \u001b[1;33m\u001b[0m\u001b[0m\n\u001b[1;32m--> 690\u001b[1;33m \u001b[0mdisplay_trajectory_v5\u001b[0m\u001b[1;33m(\u001b[0m\u001b[1;33m**\u001b[0m\u001b[0mparameters\u001b[0m\u001b[1;33m)\u001b[0m\u001b[1;33m\u001b[0m\u001b[1;33m\u001b[0m\u001b[0m\n\u001b[0m",
      "\u001b[1;32m~\\AppData\\Local\\Temp\\ipykernel_35784\\673979034.py\u001b[0m in \u001b[0;36mdisplay_trajectory_v5\u001b[1;34m(file_name, pixel_size, time_step, frame_start, frame_end, bin_size, processing, plot_type, title, x_axis_label, y_axis_label, z_axis_label, unit, frames_per_plot, columns, pixel_min, pixel_max, nm_min, nm_max, axis_increment_pixel, axis_increment_nm, fig_size_x, fig_size_y, frame_speed, tail_length)\u001b[0m\n\u001b[0;32m     63\u001b[0m \u001b[1;33m\u001b[0m\u001b[0m\n\u001b[0;32m     64\u001b[0m         \u001b[1;31m#read data file into a pandas data frame, add an index counter, and label columns\u001b[0m\u001b[1;33m\u001b[0m\u001b[1;33m\u001b[0m\u001b[0m\n\u001b[1;32m---> 65\u001b[1;33m         \u001b[0mdata\u001b[0m \u001b[1;33m=\u001b[0m \u001b[0mpd\u001b[0m\u001b[1;33m.\u001b[0m\u001b[0mread_csv\u001b[0m\u001b[1;33m(\u001b[0m\u001b[0mfile_name\u001b[0m\u001b[1;33m,\u001b[0m \u001b[0mheader\u001b[0m \u001b[1;33m=\u001b[0m \u001b[1;32mNone\u001b[0m\u001b[1;33m)\u001b[0m\u001b[1;33m\u001b[0m\u001b[1;33m\u001b[0m\u001b[0m\n\u001b[0m\u001b[0;32m     66\u001b[0m         \u001b[0mdata\u001b[0m \u001b[1;33m=\u001b[0m \u001b[0mdata\u001b[0m\u001b[1;33m.\u001b[0m\u001b[0mreplace\u001b[0m\u001b[1;33m(\u001b[0m\u001b[1;36m0\u001b[0m\u001b[1;33m,\u001b[0m \u001b[0mnp\u001b[0m\u001b[1;33m.\u001b[0m\u001b[0mnan\u001b[0m\u001b[1;33m)\u001b[0m  \u001b[1;31m# ADDED BY RYAN. FAILED FITS ARE STORED AS ZEROS\u001b[0m\u001b[1;33m\u001b[0m\u001b[1;33m\u001b[0m\u001b[0m\n\u001b[0;32m     67\u001b[0m         \u001b[0mdata\u001b[0m \u001b[1;33m=\u001b[0m \u001b[0mdata\u001b[0m\u001b[1;33m.\u001b[0m\u001b[0mdropna\u001b[0m\u001b[1;33m(\u001b[0m\u001b[1;33m)\u001b[0m\u001b[1;33m\u001b[0m\u001b[1;33m\u001b[0m\u001b[0m\n",
      "\u001b[1;32mC:\\ProgramData\\Anaconda3\\envs\\origami\\lib\\site-packages\\pandas\\util\\_decorators.py\u001b[0m in \u001b[0;36mwrapper\u001b[1;34m(*args, **kwargs)\u001b[0m\n\u001b[0;32m    309\u001b[0m                     \u001b[0mstacklevel\u001b[0m\u001b[1;33m=\u001b[0m\u001b[0mstacklevel\u001b[0m\u001b[1;33m,\u001b[0m\u001b[1;33m\u001b[0m\u001b[1;33m\u001b[0m\u001b[0m\n\u001b[0;32m    310\u001b[0m                 )\n\u001b[1;32m--> 311\u001b[1;33m             \u001b[1;32mreturn\u001b[0m \u001b[0mfunc\u001b[0m\u001b[1;33m(\u001b[0m\u001b[1;33m*\u001b[0m\u001b[0margs\u001b[0m\u001b[1;33m,\u001b[0m \u001b[1;33m**\u001b[0m\u001b[0mkwargs\u001b[0m\u001b[1;33m)\u001b[0m\u001b[1;33m\u001b[0m\u001b[1;33m\u001b[0m\u001b[0m\n\u001b[0m\u001b[0;32m    312\u001b[0m \u001b[1;33m\u001b[0m\u001b[0m\n\u001b[0;32m    313\u001b[0m         \u001b[1;32mreturn\u001b[0m \u001b[0mwrapper\u001b[0m\u001b[1;33m\u001b[0m\u001b[1;33m\u001b[0m\u001b[0m\n",
      "\u001b[1;32mC:\\ProgramData\\Anaconda3\\envs\\origami\\lib\\site-packages\\pandas\\io\\parsers\\readers.py\u001b[0m in \u001b[0;36mread_csv\u001b[1;34m(filepath_or_buffer, sep, delimiter, header, names, index_col, usecols, squeeze, prefix, mangle_dupe_cols, dtype, engine, converters, true_values, false_values, skipinitialspace, skiprows, skipfooter, nrows, na_values, keep_default_na, na_filter, verbose, skip_blank_lines, parse_dates, infer_datetime_format, keep_date_col, date_parser, dayfirst, cache_dates, iterator, chunksize, compression, thousands, decimal, lineterminator, quotechar, quoting, doublequote, escapechar, comment, encoding, encoding_errors, dialect, error_bad_lines, warn_bad_lines, on_bad_lines, delim_whitespace, low_memory, memory_map, float_precision, storage_options)\u001b[0m\n\u001b[0;32m    678\u001b[0m     \u001b[0mkwds\u001b[0m\u001b[1;33m.\u001b[0m\u001b[0mupdate\u001b[0m\u001b[1;33m(\u001b[0m\u001b[0mkwds_defaults\u001b[0m\u001b[1;33m)\u001b[0m\u001b[1;33m\u001b[0m\u001b[1;33m\u001b[0m\u001b[0m\n\u001b[0;32m    679\u001b[0m \u001b[1;33m\u001b[0m\u001b[0m\n\u001b[1;32m--> 680\u001b[1;33m     \u001b[1;32mreturn\u001b[0m \u001b[0m_read\u001b[0m\u001b[1;33m(\u001b[0m\u001b[0mfilepath_or_buffer\u001b[0m\u001b[1;33m,\u001b[0m \u001b[0mkwds\u001b[0m\u001b[1;33m)\u001b[0m\u001b[1;33m\u001b[0m\u001b[1;33m\u001b[0m\u001b[0m\n\u001b[0m\u001b[0;32m    681\u001b[0m \u001b[1;33m\u001b[0m\u001b[0m\n\u001b[0;32m    682\u001b[0m \u001b[1;33m\u001b[0m\u001b[0m\n",
      "\u001b[1;32mC:\\ProgramData\\Anaconda3\\envs\\origami\\lib\\site-packages\\pandas\\io\\parsers\\readers.py\u001b[0m in \u001b[0;36m_read\u001b[1;34m(filepath_or_buffer, kwds)\u001b[0m\n\u001b[0;32m    573\u001b[0m \u001b[1;33m\u001b[0m\u001b[0m\n\u001b[0;32m    574\u001b[0m     \u001b[1;31m# Create the parser.\u001b[0m\u001b[1;33m\u001b[0m\u001b[1;33m\u001b[0m\u001b[0m\n\u001b[1;32m--> 575\u001b[1;33m     \u001b[0mparser\u001b[0m \u001b[1;33m=\u001b[0m \u001b[0mTextFileReader\u001b[0m\u001b[1;33m(\u001b[0m\u001b[0mfilepath_or_buffer\u001b[0m\u001b[1;33m,\u001b[0m \u001b[1;33m**\u001b[0m\u001b[0mkwds\u001b[0m\u001b[1;33m)\u001b[0m\u001b[1;33m\u001b[0m\u001b[1;33m\u001b[0m\u001b[0m\n\u001b[0m\u001b[0;32m    576\u001b[0m \u001b[1;33m\u001b[0m\u001b[0m\n\u001b[0;32m    577\u001b[0m     \u001b[1;32mif\u001b[0m \u001b[0mchunksize\u001b[0m \u001b[1;32mor\u001b[0m \u001b[0miterator\u001b[0m\u001b[1;33m:\u001b[0m\u001b[1;33m\u001b[0m\u001b[1;33m\u001b[0m\u001b[0m\n",
      "\u001b[1;32mC:\\ProgramData\\Anaconda3\\envs\\origami\\lib\\site-packages\\pandas\\io\\parsers\\readers.py\u001b[0m in \u001b[0;36m__init__\u001b[1;34m(self, f, engine, **kwds)\u001b[0m\n\u001b[0;32m    931\u001b[0m \u001b[1;33m\u001b[0m\u001b[0m\n\u001b[0;32m    932\u001b[0m         \u001b[0mself\u001b[0m\u001b[1;33m.\u001b[0m\u001b[0mhandles\u001b[0m\u001b[1;33m:\u001b[0m \u001b[0mIOHandles\u001b[0m \u001b[1;33m|\u001b[0m \u001b[1;32mNone\u001b[0m \u001b[1;33m=\u001b[0m \u001b[1;32mNone\u001b[0m\u001b[1;33m\u001b[0m\u001b[1;33m\u001b[0m\u001b[0m\n\u001b[1;32m--> 933\u001b[1;33m         \u001b[0mself\u001b[0m\u001b[1;33m.\u001b[0m\u001b[0m_engine\u001b[0m \u001b[1;33m=\u001b[0m \u001b[0mself\u001b[0m\u001b[1;33m.\u001b[0m\u001b[0m_make_engine\u001b[0m\u001b[1;33m(\u001b[0m\u001b[0mf\u001b[0m\u001b[1;33m,\u001b[0m \u001b[0mself\u001b[0m\u001b[1;33m.\u001b[0m\u001b[0mengine\u001b[0m\u001b[1;33m)\u001b[0m\u001b[1;33m\u001b[0m\u001b[1;33m\u001b[0m\u001b[0m\n\u001b[0m\u001b[0;32m    934\u001b[0m \u001b[1;33m\u001b[0m\u001b[0m\n\u001b[0;32m    935\u001b[0m     \u001b[1;32mdef\u001b[0m \u001b[0mclose\u001b[0m\u001b[1;33m(\u001b[0m\u001b[0mself\u001b[0m\u001b[1;33m)\u001b[0m\u001b[1;33m:\u001b[0m\u001b[1;33m\u001b[0m\u001b[1;33m\u001b[0m\u001b[0m\n",
      "\u001b[1;32mC:\\ProgramData\\Anaconda3\\envs\\origami\\lib\\site-packages\\pandas\\io\\parsers\\readers.py\u001b[0m in \u001b[0;36m_make_engine\u001b[1;34m(self, f, engine)\u001b[0m\n\u001b[0;32m   1215\u001b[0m             \u001b[1;31m# \"Union[str, PathLike[str], ReadCsvBuffer[bytes], ReadCsvBuffer[str]]\"\u001b[0m\u001b[1;33m\u001b[0m\u001b[1;33m\u001b[0m\u001b[0m\n\u001b[0;32m   1216\u001b[0m             \u001b[1;31m# , \"str\", \"bool\", \"Any\", \"Any\", \"Any\", \"Any\", \"Any\"\u001b[0m\u001b[1;33m\u001b[0m\u001b[1;33m\u001b[0m\u001b[0m\n\u001b[1;32m-> 1217\u001b[1;33m             self.handles = get_handle(  # type: ignore[call-overload]\n\u001b[0m\u001b[0;32m   1218\u001b[0m                 \u001b[0mf\u001b[0m\u001b[1;33m,\u001b[0m\u001b[1;33m\u001b[0m\u001b[1;33m\u001b[0m\u001b[0m\n\u001b[0;32m   1219\u001b[0m                 \u001b[0mmode\u001b[0m\u001b[1;33m,\u001b[0m\u001b[1;33m\u001b[0m\u001b[1;33m\u001b[0m\u001b[0m\n",
      "\u001b[1;32mC:\\ProgramData\\Anaconda3\\envs\\origami\\lib\\site-packages\\pandas\\io\\common.py\u001b[0m in \u001b[0;36mget_handle\u001b[1;34m(path_or_buf, mode, encoding, compression, memory_map, is_text, errors, storage_options)\u001b[0m\n\u001b[0;32m    787\u001b[0m         \u001b[1;32mif\u001b[0m \u001b[0mioargs\u001b[0m\u001b[1;33m.\u001b[0m\u001b[0mencoding\u001b[0m \u001b[1;32mand\u001b[0m \u001b[1;34m\"b\"\u001b[0m \u001b[1;32mnot\u001b[0m \u001b[1;32min\u001b[0m \u001b[0mioargs\u001b[0m\u001b[1;33m.\u001b[0m\u001b[0mmode\u001b[0m\u001b[1;33m:\u001b[0m\u001b[1;33m\u001b[0m\u001b[1;33m\u001b[0m\u001b[0m\n\u001b[0;32m    788\u001b[0m             \u001b[1;31m# Encoding\u001b[0m\u001b[1;33m\u001b[0m\u001b[1;33m\u001b[0m\u001b[0m\n\u001b[1;32m--> 789\u001b[1;33m             handle = open(\n\u001b[0m\u001b[0;32m    790\u001b[0m                 \u001b[0mhandle\u001b[0m\u001b[1;33m,\u001b[0m\u001b[1;33m\u001b[0m\u001b[1;33m\u001b[0m\u001b[0m\n\u001b[0;32m    791\u001b[0m                 \u001b[0mioargs\u001b[0m\u001b[1;33m.\u001b[0m\u001b[0mmode\u001b[0m\u001b[1;33m,\u001b[0m\u001b[1;33m\u001b[0m\u001b[1;33m\u001b[0m\u001b[0m\n",
      "\u001b[1;31mFileNotFoundError\u001b[0m: [Errno 2] No such file or directory: 'C:/Users/rfantasia/anacondaProjects/ffp/OMM_Analysis/00000.csv'"
     ]
    }
   ],
   "source": [
    "import numpy as np\n",
    "import pandas as pd\n",
    "import plotly.graph_objects as go \n",
    "import matplotlib.pyplot as plt\n",
    "import matplotlib.cm as cm\n",
    "from mpl_toolkits.mplot3d.art3d import Line3DCollection \n",
    "from matplotlib import ticker\n",
    "import math\n",
    "from matplotlib import gridspec\n",
    "from mpl_toolkits.mplot3d import Axes3D\n",
    "import matplotlib.animation\n",
    "from matplotlib.animation import FuncAnimation\n",
    "import matplotlib.animation as animation\n",
    "from IPython import display\n",
    "\n",
    "\n",
    "\n",
    "%matplotlib inline\n",
    "#%matplotlib notebook\n",
    "\n",
    "parameters = {\n",
    "'file_name': 'C:/Users/rfantasia/anacondaProjects/ffp/OMM_Analysis/00000.csv',\n",
    "'pixel_size': 154, # in nanometers\n",
    "'time_step': 20, # in miliseconds\n",
    "'frame_start': 800, # enter 0 to start from beginning of dataset\n",
    "'frame_end': 2000, # enter -1 to end at the last value of the data set\n",
    "'bin_size': 3, # bin size for downsample/filter processing\n",
    "'processing': \"none\", # enter downsample, filter, or none\n",
    "'plot_type': \"2D\", # enter 2D, 3D, grid, angular, angular_continuous, interactive or animated \n",
    "'title': \"RNAP\",\n",
    "'x_axis_label': \"x (nm)\",\n",
    "'y_axis_label': \"y (nm)\",\n",
    "'z_axis_label': \"Time (ms)\",\n",
    "'unit': \"nm\",  # enter pixel or nm \n",
    "'frames_per_plot': 25, #refers to grid plot\n",
    "'columns': 7,# columns of plots (grid plot)\n",
    "'frame_speed': 50, # for animation only\n",
    "'tail_length': 10, # for animation only\n",
    "'pixel_min': -0.75,\n",
    "'pixel_max': 0.75,\n",
    "'axis_increment_pixel': 7, #change axis increments for nicely fitting tick marks (pixel)\n",
    "'nm_min': -150,\n",
    "'nm_max': 150,\n",
    "'axis_increment_nm': 7, #change axis increments for nicely fitting tick marks (nm)\n",
    "'fig_size_x': 40, #adjust display parameters for graphs to fit nicely, mostly used for multi_plot \n",
    "'fig_size_y': 40}    \n",
    "\n",
    "def display_trajectory_v5(file_name,pixel_size,time_step,frame_start,frame_end,bin_size,processing,plot_type,title,x_axis_label,y_axis_label,z_axis_label,unit, frames_per_plot, columns, pixel_min, pixel_max, nm_min, nm_max,axis_increment_pixel,axis_increment_nm, fig_size_x, fig_size_y, frame_speed, tail_length):\n",
    "       \n",
    "              \n",
    "        print(*['filename:', file_name, '   | ' , 'pixel_size:', pixel_size , ' | ' , 'time_step:', time_step])\n",
    "        \n",
    "        print(*['frame_start:', frame_start,' |   ','frame_end:', frame_end, ' | ', 'bin_size:', bin_size])\n",
    "        \n",
    "        print(*['processing:', processing, ' | ',  'plot_type:', plot_type,' | ' ,'title:', title])\n",
    "        \n",
    "        print(*['X_axis_label:',x_axis_label,' | ',  'Y_axis_label:',y_axis_label ,' | ' ,'Z_axis_label:', z_axis_label])\n",
    "        if plot_type == 'grid':\n",
    "            print(*['columns:', columns, '|', 'frames_per_plot:', frames_per_plot])\n",
    "        if plot_type == 'animated':\n",
    "            print(*['frame_speed:', frame_speed, '|', 'tail_length:', tail_length])\n",
    "        \n",
    "    \n",
    "        #read data file into a pandas data frame, add an index counter, and label columns\n",
    "        data = pd.read_csv(file_name, header = None)\n",
    "        data = data.replace(0, np.nan)  # ADDED BY RYAN. FAILED FITS ARE STORED AS ZEROS \n",
    "        data = data.dropna()\n",
    "        data['index'] = range(len(data))\n",
    "        data.columns = [ 'X position', 'Y position','index']\n",
    "        data=data[['index','X position','Y position']]\n",
    "\n",
    "        # find the average of X and Y column respectively\n",
    "        ave = data.mean(axis=0)\n",
    "        xave = ave.loc['X position']\n",
    "        yave = ave.loc['Y position']\n",
    "\n",
    "        #substract averages from each column to find displacement, store into new columns\n",
    "        data[\"X displacement (pixels)\"] = data['X position'] - xave\n",
    "        data[\"Y displacement (pixels)\"] = data['Y position'] - yave\n",
    "        # mutiply pixel displacement columns by scaler to find nm displacement, store in new columns\n",
    "        data[\"X displacement (nm)\"] = data['X displacement (pixels)']*pixel_size\n",
    "        data[\"Y displacement (nm)\"]= data['Y displacement (pixels)']*pixel_size\n",
    "        # multiply the index counter column by time_step to make a time step column, store into new column \n",
    "        data[\"Time (ms)\"] = data['index']*time_step\n",
    "        # drop all NaN values *not a number\n",
    "        data = data.dropna() \n",
    "        \n",
    "        #drop NAN try to conserve time (what if we have NAN in x and not in Y? need to drop the whole row)\n",
    "        \n",
    "       \n",
    "        ## PROCESSING BLOCK\n",
    "\n",
    "            \n",
    "        ##Simple Moving Average or \"filter\" dataframe:\n",
    "        ma = pd.DataFrame(data.iloc[:,0],columns=['index'])\n",
    "\n",
    "        window = bin_size\n",
    "        #Built in simple moving average function is applied to normal data and stored in dataframe \"ma\"\n",
    "        ma['X movement' ] = data.iloc[:,1].rolling(window=window).mean()\n",
    "        ma['Y movement'] = data.iloc[:,2].rolling(window=window).mean()\n",
    "        ma['X displacement (pixels)'] = data.iloc[:,3].rolling(window=window).mean()\n",
    "        ma['Y displacement (pixels)'] = data.iloc[:,4].rolling(window=window).mean()\n",
    "        ma['X displacement (nm)'] = data.iloc[:,5].rolling(window=window).mean()\n",
    "        ma['Y displacement (nm)'] = data.iloc[:,6].rolling(window=window).mean()\n",
    "        ma['Time (ms)'] = data.iloc[:,7].rolling(window=window).mean()\n",
    "\n",
    "        #This block delets the null spaces in the new dataframe and realigns the data\n",
    "        ma = ma.apply (pd.to_numeric, errors='coerce')\n",
    "        ma = ma.dropna()\n",
    "        ma = ma.reset_index(drop=True)\n",
    "       \n",
    "        \n",
    "        \n",
    "        \n",
    "        \n",
    "        \n",
    "        ##Downsampling dataframe:\n",
    "        da=pd.DataFrame(data.iloc[:,:])\n",
    "        #divide original index by sample size and round to nearest whole number to \n",
    "        #achieve new index number underwhich the origial index is stored\n",
    "        u= math.floor(frame_start/bin_size)\n",
    "        v= math.floor(frame_end/bin_size)\n",
    "\n",
    "        #isolate the column (if we print this it will show as a dataframe with 2 cols: indexes and time values)\n",
    "        daT_column=da.iloc[:,7]\n",
    "        daDY_column=da.iloc[:,6]\n",
    "        daDX_column=da.iloc[:,5]\n",
    "        daPY_column=da.iloc[:,4]\n",
    "        daPX_column=da.iloc[:,3]\n",
    "        daI_column=da.iloc[:,0]\n",
    "        daX_column=da.iloc[:,1]\n",
    "        daY_column=da.iloc[:,2]\n",
    "        #We just want the values in the column\n",
    "        daT = daT_column.values\n",
    "        daDY = daDY_column.values\n",
    "        daDX = daDX_column.values\n",
    "        daPY = daPY_column.values\n",
    "        daPX = daPX_column.values\n",
    "        daI = daI_column.values\n",
    "        daX = daX_column.values\n",
    "        daY= daY_column.values\n",
    "        #This function taken from https://stackoverflow.com/questions/10847660/subsampling-averaging-over-a-numpy-array\n",
    "        # allows us to downsample by averages over a set number \n",
    "        #(change 'n' to the number of values you want to average over)\n",
    "        def average(arr, n):\n",
    "            end =  n * int(len(arr)/n)\n",
    "            return np.mean(arr[:end].reshape(-1, n), 1)\n",
    "        #Takes a column from our 'da' dataframe and runs the function over it\n",
    "        #stores the new values in variables as an array (values in a row)\n",
    "\n",
    "        #assigning each new row to a varialble\n",
    "        Time = average(daT,bin_size)\n",
    "        Index = average(daI,bin_size)\n",
    "        Xda = average(daX,bin_size)\n",
    "        Yda = average(daY,bin_size)\n",
    "        Ydisnm = average(daDY,bin_size)\n",
    "        Xdisnm = average(daDX,bin_size)\n",
    "        YdisP = average(daPY,bin_size)\n",
    "        XdisP = average(daPX,bin_size)\n",
    "\n",
    "        #reshaping the data in a 1D column\n",
    "        TimeT = Time[:, np.newaxis]\n",
    "        YdisnmT = Ydisnm[:, np.newaxis]\n",
    "        XdisnmT = Xdisnm[:, np.newaxis]\n",
    "        YdisPT = YdisP[:, np.newaxis]\n",
    "        XdisPT = XdisP[:,np.newaxis]\n",
    "        XdaT = Xda[:, np.newaxis]\n",
    "        YdaT = Yda[:,np.newaxis]\n",
    "        IndexT = Index[:,np.newaxis]\n",
    "\n",
    "        #stores in a new dataframe 'dsak' for: downsampling average k, k=bin size\n",
    "        dsa= pd.DataFrame(IndexT, columns=['index'])\n",
    "        #appending to our data frame\n",
    "        dsa['X movement'] = XdaT\n",
    "        dsa['Y movement'] = YdaT\n",
    "        dsa['X displacement (pixels)'] = XdisPT\n",
    "        dsa['Y displacement (pixels)'] = YdisPT\n",
    "        dsa['X displacement (nm)'] = XdisnmT \n",
    "        dsa['Y displacement (nm)'] = YdisnmT\n",
    "        dsa['Time (ms)'] = TimeT\n",
    "        \n",
    "        ## FOR MULTIPLE PLOTS\n",
    "        # Function for 2D plot parameters (called when user asks for multiple plots)\n",
    "        def do_plot(ax):\n",
    "            #regular graphing parameters for 2D graph (color of scatter, size, shape, tick marks, etc.)\n",
    "            colors = cm.Greens(np.linspace(0, 1, len(z)))\n",
    "            p=ax.scatter(x, y, c=colors)\n",
    "            #fig = plt.figure(figsize=(6,6), dpi=100)\n",
    "            tix = np.linspace(0,len(z),6)\n",
    "            #tix_c = tix*time_step\n",
    "            #cbar2.set_ticklabels(tix_c)\n",
    "            plt.axis('square')\n",
    "            plt.xticks(rotation=45)\n",
    "            if unit == \"pixel\":\n",
    "                ax.set_xlim(pixel_min, pixel_max) \n",
    "                ax.set_ylim(pixel_min, pixel_max)\n",
    "                ax.yaxis.set_major_locator(ticker.LinearLocator(axis_increment_pixel))# change to 5 for increments of .5\n",
    "                ax.xaxis.set_major_locator(ticker.LinearLocator(axis_increment_pixel))\n",
    "                ax.grid()\n",
    "            if unit == \"nm\":\n",
    "                ax.set_xlim(nm_min, nm_max) \n",
    "                ax.set_ylim(nm_min, nm_max)\n",
    "                ax.yaxis.set_major_locator(ticker.LinearLocator(axis_increment_nm))\n",
    "                ax.xaxis.set_major_locator(ticker.LinearLocator(axis_increment_nm))\n",
    "                ax.grid()\n",
    "\n",
    "        \n",
    "        #future processing methods to be added below:\n",
    "        \n",
    "        \n",
    "        \n",
    "        \n",
    "        \n",
    "        #DETERMINE PROCESSING AND UNIT TYPE:\n",
    "        #if more processing methods are to be added, an if statement must be\n",
    "        #added with a key word to select that data frame\n",
    "        if processing == \"none\":\n",
    "            df = data\n",
    "        if processing == \"filter\":\n",
    "            df = ma\n",
    "        if processing == \"downsample\":\n",
    "            df = dsa\n",
    "            frame_start = math.floor(frame_start/bin_size)\n",
    "            frame_end = math.floor(frame_end/bin_size)\n",
    "        \n",
    "        \n",
    "        #ADD A COLUMN TO DF FOR THETA (0,360] AND MAKE A NEW DATAFRAME FOR CONTINOUS DEGREE ROTATION\n",
    "        # radian to degree conversion\n",
    "        r2d = 180/np.pi\n",
    "        #arctan2 is the full unit circle conversion (-pi,pi) as opposed to (-pi/2,pi/2)\n",
    "      \n",
    "        df_filter =pd.DataFrame(df.iloc[:,0])\n",
    "        #find radius\n",
    "        df_filter['radius'] = np.power( np.power(df['Y displacement (pixels)'],2) + np.power(df['X displacement (pixels)'],2), 0.5 )\n",
    "        #find theta arctan2 is the full unit circle conversion (-pi,pi) as opposed to (-pi/2,pi/2)\n",
    "        df_filter['theta'] = -np.arctan2(df['Y displacement (pixels)'],df['X displacement (pixels)'])*r2d \n",
    "        df_filter['Time (ms)'] = df['Time (ms)']\n",
    "        # if r is greater than a certain value, the entire row of this dataframe is stored into the next dataframe\n",
    "        df_theta = df_filter.loc[df_filter['radius'] > 0.167].copy() # we conserve the other columns where the row meets the requirement\n",
    "        # need the .copy() at the end of the line above due to clarity, we want to alter the dataframe to make df_theta, not df_filter\n",
    "        #arctan2 is the full unit circle conversion (-pi,pi) as opposed to (-pi/2,pi/2)\n",
    "        #add 360 onto the 3rd and 4th quadrant values to make range from (0,360)\n",
    "        df_theta.loc[df_theta.theta < 0, ['theta']] += 360\n",
    "         \n",
    "        \n",
    "        #make dataframe for angular continuous (base dataframe changes with user preferences)\n",
    "        angularc = pd.DataFrame(df_theta.iloc[:,2]) # df_theta.iloc[:,2] is the (0,360) theta range\n",
    "        angularc.columns = ['theta']\n",
    "        \n",
    "        #add a row of zeros at the top and reset index\n",
    "        zero_row = pd.DataFrame({'theta': 0}, index=[0])\n",
    "        angularc = pd.concat([zero_row, angularc]).reset_index(drop = True)\n",
    "        \n",
    "        # find displacement between rows (row[i+1]-row[i])\n",
    "        angularc['displacement'] = angularc.diff()# find displcement between rows\n",
    "        angularc= angularc.apply (pd.to_numeric, errors='coerce')\n",
    "        #angularc.iloc[0,538] = NaN\n",
    "        angularc = angularc.dropna() #drop the NANs if there are any\n",
    "        angularc = angularc.reset_index(drop=True) #reset the index\n",
    "        angular_vector = angularc['displacement'].values #store the dataframe into an array\n",
    "        angular_vectorT = angular_vector.T # transpose the array into a row vector\n",
    "        \n",
    "        \n",
    "        #Now we have displacement between rows\n",
    "        # if the displacement between two rows is greater than 180, subtract 360 (we assume the rotor went backward)\n",
    "        # if the displacement between two rows is less than 180, add 360 (we assume the rotor went forward)\n",
    "        # so we edit the displacement to reflect the rotor movement\n",
    "        \n",
    "        angular_vectorT[angular_vectorT >=(180)] -= 360\n",
    "        \n",
    "        angular_vectorT[angular_vectorT <=(-180)] += 360\n",
    "        \n",
    "        #angular_vectorT[sqrt(x**2+(y)**2) < 0.166] = NaN # get this to work\n",
    "        #df['Y displacement (pixels)']**2 + df['X displacement (pixels)']**2\n",
    "        \n",
    "        #store it back in a pandas dataframe\n",
    "        disp = angular_vectorT.T\n",
    "        cont_rotation = pd.DataFrame(disp, columns=['theta displacement correction'])\n",
    "        \n",
    "        # add a row of zeros to the top so we conserve the first row\n",
    "        zero_row = pd.DataFrame({'theta displacement correction': 0}, index=[0])\n",
    "        cont_rotation = pd.concat([zero_row, cont_rotation]).reset_index(drop = True)\n",
    "        #enact a culmulitive sum function that adds together all displacements that came before each row\n",
    "        cont_rotation['continuous theta'] = cont_rotation.cumsum()\n",
    "        #drop the NAN and or first row of zeros to start at the actual first data point\n",
    "        cont_rotation= cont_rotation.apply (pd.to_numeric, errors='coerce')\n",
    "        \n",
    "        cont_rotation = cont_rotation.dropna()\n",
    "        cont_rotation = cont_rotation.reset_index(drop=True)\n",
    "        cont_rotation.drop(index = cont_rotation.index[0], axis = 0, inplace = True)\n",
    "        cont_rotation = cont_rotation.reset_index(drop=True)\n",
    "        #Now we have a dataframe called cont_rotation that has 2 columns\n",
    "        # first column is displacement with the correction and second column is the culmulitive sum of the first col\n",
    "        # 'continuous theta' is the cumulitive sum of the displacements\n",
    "        \n",
    "        ##new directions\n",
    "        #the assumption there is that even though that jump looks like a backwards jump of ~175 degrees, it’s close enough to 180 degrees that the direction could have been mistaken.\n",
    "        #and if we are unsure if we are mistaken then let’s look at surrounding frames to get a hint for which direction it is going\n",
    "        #have to do this after calc theta culmulitive\n",
    "    \n",
    "        \n",
    "            \n",
    "        # Here the code determines the units of the graph, only for cartesian graphs   \n",
    "        if unit == \"pixel\":\n",
    "            x_unit = 3\n",
    "            y_unit = 4\n",
    "        if unit == \"nm\":\n",
    "            x_unit = 5\n",
    "            y_unit = 6\n",
    "        \n",
    "        #assign values of x y and z\n",
    "        x = df.iloc[frame_start:frame_end,x_unit] # move this outside this block to apply for all \"none\"\n",
    "        y = df.iloc[frame_start:frame_end,y_unit]\n",
    "        z = df.iloc[frame_start:frame_end,7] #col 7 is the time col \n",
    "       \n",
    "        theta = df_theta.iloc[frame_start:frame_end,2]\n",
    "        t = df_theta.iloc[frame_start:frame_end,3]\n",
    "        \n",
    "        thetac = cont_rotation.iloc[frame_start:frame_end,1]\n",
    "        \n",
    "        #determine number of plots from amount of frames desired in each plot\n",
    "        j = int(math.ceil(len(df)/frames_per_plot))\n",
    "        if plot_type == 'grid':\n",
    "            print(*['number of plots:',j])\n",
    "        \n",
    "        #GRAPHING BLOCK\n",
    "            \n",
    "        if plot_type == \"2D\":\n",
    "            #if multi_plot == \"no\":\n",
    "            fig = plt.figure(figsize=(6,6), dpi=100)\n",
    "            ax = fig.add_subplot(111)#121 # 1X1 grid plot 1, subplot(222) would be 2X2 grid plot 2, (223)--> 2X2 plot 3\n",
    "\n",
    "            #color bar color scheme assignment, graph type, colorbar size and alignment\n",
    "            colors = cm.viridis(np.linspace(0, 1, len(z)))\n",
    "            p=ax.scatter(x, y, c=colors, alpha = 0.7)\n",
    "            cbar = plt.colorbar(p, label= z_axis_label ,shrink= .82) #\n",
    "\n",
    "            #setting the ticks on the colorbar to span the length of the time column with 6 increments\n",
    "            cbar.set_ticks([0, 0.2, 0.4, 0.6, 0.8, 1]) \n",
    "\n",
    "            tix = np.linspace(0,len(z),6, dtype = int) # forces colorbar to show time in integers\n",
    "            tix_c = tix*time_step\n",
    "            cbar.set_ticklabels(tix_c) \n",
    "            plt.axis('square')\n",
    "            plt.xticks(rotation=45)\n",
    "\n",
    "            #set graph limit conditions depending on unit specified\n",
    "            if unit == \"pixel\":\n",
    "                ax.set_xlim(pixel_min, pixel_max) \n",
    "                ax.set_ylim(pixel_min, pixel_max)\n",
    "                ax.yaxis.set_major_locator(ticker.LinearLocator(axis_increment_pixel))# change to 5 for increments of .5\n",
    "                ax.xaxis.set_major_locator(ticker.LinearLocator(axis_increment_pixel))\n",
    "            if unit == \"nm\":\n",
    "                ax.set_xlim(nm_min, nm_max) \n",
    "                ax.set_ylim(nm_min, nm_max)\n",
    "                ax.yaxis.set_major_locator(ticker.LinearLocator(axis_increment_nm))\n",
    "                ax.xaxis.set_major_locator(ticker.LinearLocator(axis_increment_nm))\n",
    "\n",
    "\n",
    "\n",
    "\n",
    "            #axis labels and font configurations\n",
    "            ax.set_xlabel(x_axis_label, fontweight = 'bold', fontsize = 14)\n",
    "            ax.set_ylabel(y_axis_label, fontweight = 'bold', fontsize = 14)\n",
    "\n",
    "            # plot title and font configurations\n",
    "            plt.title(title , fontweight = 'bold', fontsize = 16)\n",
    "\n",
    "\n",
    "            \n",
    "        if plot_type == \"grid\":\n",
    "            i = 0\n",
    "            dfs = np.array_split(df,j) # splits large dataframe into \"j\" equal dataframes\n",
    "            #print (dfs[0]) # data frame 0 is the first dataframe\n",
    "            \n",
    "            #this portion specifies subplot dimentions (N plots in 3 columns and amount of appropriate rows)\n",
    "            cols = columns\n",
    "            rows = int(math.ceil(j / cols)) #determining rows based on the number of graphs and columns\n",
    "\n",
    "            gs = gridspec.GridSpec(rows, cols, wspace = .25, hspace = .25)# disallows overlap\n",
    "            fig = plt.figure(figsize = (fig_size_x,fig_size_y))\n",
    "            \n",
    "            ### DO WE WANT TO HAVE FIGSIZE MADE AUTOMATIC?\n",
    "            #experiment to have the column number linked to figsize\n",
    "            #if columns == 3 or columns == 4: #might want to make a separate statement for colums == 4   \n",
    "                #fig = plt.figure(figsize = (10,60))\n",
    "            #if columns == 5 or columns == 6 or columns == 7:\n",
    "                #fig = plt.figure(figsize=(20,40))\n",
    "            #if columns == 8:\n",
    "                #fig = plt.figure(figsize=(30,40))\n",
    "            #if columns == 9 or columns == 10 or columns == 11:\n",
    "                #fig = plt.figure(figsize=(30,20))\n",
    "            \n",
    "            while i < j:\n",
    "                    \n",
    "                x = dfs[i].iloc[:,x_unit] \n",
    "                y = dfs[i].iloc[:,y_unit]\n",
    "                z = dfs[i].iloc[:,7]\n",
    "                ax = fig.add_subplot(gs[i])\n",
    "                do_plot(ax)\n",
    "                i+= 1\n",
    "                    \n",
    "                #plt.savefig('2021_09_26_RNAP_BDA_localizations_grid_plot.png', dpi=300)\n",
    "\n",
    "        plt.show()\n",
    "        \n",
    "        # Angular plot\n",
    "        \n",
    "        if plot_type == \"angular\":\n",
    "            import plotly.express as px\n",
    "#             fig = plt.figure(figsize=(18,6), dpi=100)\n",
    "#             ax = fig.add_subplot(111)#121 # 1X1 grid plot 1, subplot(222) would be 2X2 grid plot 2, (223)--> 2X2 plot 3\n",
    "\n",
    "            #color map and variable assignment\n",
    "            #colors = cm.viridis(np.linspace(0, 1, len(z)))\n",
    "            fig = px.scatter(x = t, y = theta, title = title, width=1000, height=500)\n",
    "            #ax.plot(t, theta)#change to line graph\n",
    "            fig.update_traces(hovertemplate='Time (ms): %{x} <br>Theta: %{y}')\n",
    "            \n",
    "        \n",
    "            fig.update_layout(\n",
    "            xaxis_title=\"Time (ms)\",\n",
    "            yaxis_title=\"Theta (degrees)\")\n",
    "            \n",
    "#             fig.update_layout(\n",
    "#             xaxis = dict(\n",
    "#             tickmode = 'linear',\n",
    "#             tick0 = 0,\n",
    "#             dtick = 1000))\n",
    "            \n",
    "            fig.update_layout(\n",
    "            yaxis = dict(\n",
    "            tickmode = 'linear',\n",
    "            tick0 = 360,\n",
    "            dtick = 45))\n",
    "            fig.show()\n",
    "            \n",
    "             \n",
    "\n",
    "            #set graph limit conditions depending on unit specified\n",
    "            \n",
    "#             ax.set_xlim(min(t),max(t)) \n",
    "#             ax.set_ylim(min(theta)-1,max(theta)+1)\n",
    "#             #ax.yaxis.set_major_locator(ticker.LinearLocator(axis_increment_pixel))# change to 5 for increments of .5\n",
    "#             #ax.xaxis.set_major_locator(ticker.LinearLocator(axis_increment_pixel))\n",
    "#             ax.set_xlabel(x_axis_label, fontweight = 'bold', fontsize = 14)\n",
    "#             ax.set_ylabel(y_axis_label, fontweight = 'bold', fontsize = 14)\n",
    "\n",
    "#             # plot title and font configurations\n",
    "#             plt.title(title , fontweight = 'bold', fontsize = 16)\n",
    "           \n",
    "            \n",
    "        if plot_type == \"angular_continuous\":\n",
    "            \n",
    "            import plotly.express as px\n",
    "\n",
    "            #thetac.iloc[538:] += 360 #correction Pallav made for first recBCD data\n",
    "            \n",
    "            fig = px.line(x=t, y=thetac, title = 'Continuous Angular Rotation')\n",
    "            fig.update_traces(hovertemplate='Time (ms): %{x} <br>Theta: %{y}')\n",
    "            \n",
    "            fig.update_layout(\n",
    "            xaxis_title=\"Time (ms)\",\n",
    "            yaxis_title=\"Theta (degrees)\")\n",
    "            \n",
    "            fig.update_layout(\n",
    "            xaxis = dict(\n",
    "            tickmode = 'linear',\n",
    "            tick0 = 0,\n",
    "            dtick = 1000))\n",
    "            \n",
    "            fig.update_layout(\n",
    "            yaxis = dict(\n",
    "            tickmode = 'linear',\n",
    "            tick0 = -360,\n",
    "            dtick = 180))\n",
    "            \n",
    "            \n",
    "                        \n",
    "            fig.show()\n",
    "\n",
    "            #fig = plt.figure(figsize=(18,6), dpi=100)\n",
    "            #ax = fig.add_subplot(111)#121 # 1X1 grid plot 1, subplot(222) would be 2X2 grid plot 2, (223)--> 2X2 plot 3\n",
    "\n",
    "           \n",
    "            #ax.plot(t,thetac)\n",
    "           \n",
    "            #plt.xticks(rotation=45)\n",
    "\n",
    "            #set graph limit conditions depending on unit specified\n",
    "            \n",
    "            #This \"if\" statement sets the y max on the graph to be \n",
    "            #a multiple of 180 and larger than the max thetac value\n",
    "            #thetac_max = cont_rotation.iloc[frame_start:frame_end,1].max() #find the highest thetac value in the dataset\n",
    "            #thetac_max += 360 # add 360 degrees onto the max value to act as a buffer (important for setting gridlines)\n",
    "            #if (thetac_max)%180 != 0: # if this buffered max value is not a multiple of 180, add 1 until this is true\n",
    "             #   thetac_max += 1 # This allows us to set a max value such that grid intervals of 180 are conserved\n",
    "\n",
    "            #ax.set_xlim(min(z),max(z)) \n",
    "            #ax.set_ylim(min(thetac)-10,max(thetac)+10)\n",
    "            #ax.yaxis.set_major_locator(ticker.LinearLocator(10))\n",
    "            #ax.xaxis.set_major_locator(ticker.LinearLocator(20))\n",
    "            #plt.xticks(np.arange(min(z),max(z),1000)) # determines the ticks for time, in increments of 100\n",
    "            #plt.yticks(np.arange(-900,thetac_max,180))# determines ticks for theta, in increments of 180\n",
    "            #ax.grid()\n",
    "\n",
    "\n",
    "\n",
    "            #axis labels and font configurations\n",
    "            #ax.set_xlabel(x_axis_label, fontweight = 'bold', fontsize = 14)\n",
    "            #ax.set_ylabel(y_axis_label, fontweight = 'bold', fontsize = 14)\n",
    "\n",
    "            # plot title and font configurations\n",
    "            #plt.title(title , fontweight = 'bold', fontsize = 16)\n",
    "            #print(theta)\n",
    "\n",
    "        #This block plots a static 3D graph if prompt is met\n",
    "        if plot_type == \"3D\":\n",
    "\n",
    "\n",
    "            #This block splices the segments between data points and assigns each segment to a color\n",
    "            points = np.array([x,y,z]).transpose().reshape(-1,1,3)\n",
    "            segs = np.concatenate([points[:-1],points[1:]],axis=1)\n",
    "            lc = Line3DCollection(segs, cmap = plt.get_cmap('cool'))\n",
    "            lc.set_array(z)\n",
    "\n",
    "            #This block plots the figure at a specified size, in 3D configuration, sets axis range, gathers the \n",
    "            #colored segments from above, and assigns labels\n",
    "            fig = plt.figure(figsize=(8,8))\n",
    "            ax = fig.gca(projection = '3d')\n",
    "            ax.set_zlim(min(z), max(z))\n",
    "            if unit == \"pixel\":\n",
    "                ax.set_xlim(-1,1)\n",
    "                ax.set_ylim(-1,1)\n",
    "            if unit == \"nm\":\n",
    "                ax.set_xlim(-150,150)\n",
    "                ax.set_ylim(-150,150)\n",
    "            ax.add_collection3d(lc, zs=z, zdir='z')\n",
    "            plt.title(title , fontweight = 'bold', fontsize= 16)\n",
    "            ax.set_xlabel(x_axis_label, fontweight = 'bold', fontsize = 14)\n",
    "            ax.set_ylabel(y_axis_label , fontweight = 'bold', fontsize = 14)\n",
    "            ax.set_zlabel(z_axis_label, fontweight= 'bold' , fontsize =14)\n",
    "\n",
    "            #plt.savefig('date_file_name.png',dpi=300)\n",
    "\n",
    "            plt.show()\n",
    "\n",
    "\n",
    "        if plot_type == \"interactive\":\n",
    "\n",
    "            #configure plot settings (currently called trace 1, may add more traces in the future)\n",
    "            trace1=go.Scatter3d(x=x,\n",
    "                                y=y,\n",
    "                                z=z,\n",
    "                                mode = \"lines\",\n",
    "                                name = 'Original',\n",
    "                                marker=dict(\n",
    "                                    size=4,\n",
    "                                    color='#e9ebf0',\n",
    "                                    opacity=0.7,\n",
    "                                    showscale=False,\n",
    "                                    colorbar=dict(\n",
    "                                        title='Time (ms)')),\n",
    "                                line=dict(\n",
    "                                    color='#e9ebf0',\n",
    "                                    width=2))\n",
    "            #assign traces\n",
    "            fig = go.Figure(data=[trace1])\n",
    "\n",
    "            #assign title\n",
    "            fig.update_layout(title= title)\n",
    "            #assign axis labels\n",
    "            fig.update_layout(scene = dict(\n",
    "                        xaxis_title= x_axis_label,\n",
    "                        yaxis_title= y_axis_label,\n",
    "                        zaxis_title= z_axis_label)) \n",
    "\n",
    "            #Here we can tweak the background color, grid color, and color of the origin for all axes/plane\n",
    "            fig.update_layout(scene = dict(\n",
    "                        xaxis = dict(\n",
    "                             backgroundcolor=\"black\",\n",
    "                             gridcolor=\"gray\",\n",
    "                             showbackground=True,\n",
    "                             zerolinecolor=\"white\",),\n",
    "                        yaxis = dict(\n",
    "                            backgroundcolor=\"black\",\n",
    "                            gridcolor=\"gray\",\n",
    "                            showbackground=True,\n",
    "                            zerolinecolor=\"white\"),\n",
    "                        zaxis = dict(\n",
    "                            backgroundcolor=\"black\",\n",
    "                            gridcolor=\"gray\",\n",
    "                            showbackground=True,\n",
    "                            zerolinecolor=\"white\"),),\n",
    "                      )\n",
    "\n",
    "            #size and aspect ratio of the graph and the default camera zoom and angle \n",
    "            fig.update_layout(\n",
    "            width=800,\n",
    "            height=700,\n",
    "            autosize=False,\n",
    "            scene=dict(\n",
    "            camera=dict(\n",
    "                up=dict(\n",
    "                    x=0,\n",
    "                    y=0,\n",
    "                    z=1\n",
    "                ),\n",
    "                eye=dict(\n",
    "                    x=1,\n",
    "                    y=2,\n",
    "                    z=2,\n",
    "                )\n",
    "            ),\n",
    "            aspectratio = dict( x=1, y=1, z=4 ),\n",
    "            aspectmode = 'manual'\n",
    "            ),\n",
    "            )\n",
    "            \n",
    "            \n",
    "\n",
    "            fig.show()\n",
    "        \n",
    "        \n",
    "        if plot_type == \"animated\":\n",
    "            # allows for animation to animate\n",
    "            %matplotlib notebook\n",
    "            #reassigning to a dataframe, setting up axis with empty list, aspect ratio\n",
    "            coord = pd.DataFrame(x)\n",
    "            coord.columns = ['x']\n",
    "            coord['y'] = y\n",
    "            fig = plt.figure()\n",
    "            ax = fig.add_subplot(111)\n",
    "            sc = ax.scatter([], [])\n",
    "            plt.axis('square')\n",
    "            \n",
    "            # chosing units\n",
    "            if unit == \"pixel\":\n",
    "                    ax.set_xlim(pixel_min, pixel_max) \n",
    "                    ax.set_ylim(pixel_min, pixel_max)\n",
    "                    ax.yaxis.set_major_locator(ticker.LinearLocator(axis_increment_pixel))# change to 5 for increments of .5\n",
    "                    ax.xaxis.set_major_locator(ticker.LinearLocator(axis_increment_pixel))\n",
    "                    ax.grid()\n",
    "            if unit == \"nm\":\n",
    "                    ax.set_xlim(nm_min, nm_max) \n",
    "                    ax.set_ylim(nm_min, nm_max)\n",
    "                    ax.yaxis.set_major_locator(ticker.LinearLocator(axis_increment_nm))\n",
    "                    ax.xaxis.set_major_locator(ticker.LinearLocator(axis_increment_nm))\n",
    "                    ax.grid()\n",
    "            ax.set_xlabel(x_axis_label, fontweight = 'bold', fontsize = 12)\n",
    "            ax.set_ylabel(y_axis_label, fontweight = 'bold', fontsize = 12)\n",
    "\n",
    "            # plot title and font configurations\n",
    "            plt.title(title , fontweight = 'bold', fontsize = 16)\n",
    "\n",
    "\n",
    "\n",
    "\n",
    "\n",
    "            # animation function feeds a window of dataframe values into the graphing function at a time,\n",
    "            # iterates over user specified range in dataframe with user specified tail length\n",
    "            # color of animation is also specified here\n",
    "            def animate(count):\n",
    "                sc.set_offsets(np.c_[coord.x.values[count-tail_length:count],coord.y.values[count-tail_length:count]])\n",
    "                cmap = plt.cm.Greens\n",
    "                norm = plt.Normalize(vmin=0, vmax=tail_length)\n",
    "                z = np.array(range(tail_length))\n",
    "                c = cmap(norm(z))\n",
    "                #c = ['#6efada','#60edd5','#53dfd0' ,'#48d2ca', '#3fc5c3', '#38b7bb', '#34aab2', '#319da9' ,'#2f909f','#2f8494']\n",
    "                sc.set_color(c)\n",
    "               \n",
    "                return sc\n",
    "\n",
    "            ani = FuncAnimation(fig, animate, interval= frame_speed, frames = len(coord)) #frames=len(df)\n",
    "\n",
    "\n",
    "\n",
    "            plt.tight_layout()\n",
    "            plt.show()\n",
    "        if plot_type == 'animated':    \n",
    "\n",
    "            return ani\n",
    "        \n",
    "           \n",
    "\n",
    "\n",
    "\n",
    "\n",
    "        \n",
    "display_trajectory_v5(**parameters)"
   ]
  },
  {
   "cell_type": "code",
   "execution_count": null,
   "id": "646bd52b",
   "metadata": {},
   "outputs": [],
   "source": []
  }
 ],
 "metadata": {
  "kernelspec": {
   "display_name": "origami",
   "language": "python",
   "name": "origami"
  },
  "language_info": {
   "codemirror_mode": {
    "name": "ipython",
    "version": 3
   },
   "file_extension": ".py",
   "mimetype": "text/x-python",
   "name": "python",
   "nbconvert_exporter": "python",
   "pygments_lexer": "ipython3",
   "version": "3.9.7"
  }
 },
 "nbformat": 4,
 "nbformat_minor": 5
}
